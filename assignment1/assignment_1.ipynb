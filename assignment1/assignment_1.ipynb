{
 "cells": [
  {
   "cell_type": "markdown",
   "id": "3c531158",
   "metadata": {},
   "source": [
    "# IDS Assignment Part 1 - <font color=\"red\"><h7>Deadline: 18/12/2022 23:59</h7></font>\n",
    "This is the first part of the assignments in IDS 2022/2023. \n",
    "Please use this Jupyter notebook to work on the questions posed in the assignment. When you are done, upload the notebook in Moodle at the designated activity. This is the _only_ file that is required. A separate report is _not_ needed and will not be considered for grading. \n",
    "\n",
    "Give your commented Python code and answers in the corresponding provided cells. Make sure to answer all questions in a clear and explicit manner and discuss your outputs. _Please do not change the general structure of this notebook_. You can, however, add additional markdown or code cells if necessary. <b>Please DO NOT CLEAR THE OUTPUT of the notebook you are submitting! </b>\n",
    "\n",
    "<font color=\"red\"> *Please make sure to include the names and matriculation numbers of all group members in the slot provided below.* </font> If a name or a student id is missing, the student will not receive any points.\n",
    "\n",
    "Hint 1: While working on the assignment, you will get a better understanding of the dataset. Feel free to generate additional results and visualizations to support your answers. For example, this might be useful regarding data modification, data simplification, or output interpretation. <font color=\"red\">Ensure that all your claims are supported.</font>\n",
    "\n",
    "Hint 2: <font color=\"red\">Plan your time wisely. </font> A few parts of this assignment may take some time to run. It might be necessary to consider time management when you plan your group work. Also, do not attempt to upload your assignment at the last minute before the deadline. This often does not work, and you will miss the deadline. Late submissions will not be considered.\n",
    "\n",
    "Hint 3: RWTHmoodle allows multiple submissions, with every new submission overwriting the previous one. <b>Partial submissions are therefore possible and encouraged. </b> This might be helpful in case of technical issues with RWTHMoodle, which may occur close to the deadline."
   ]
  },
  {
   "cell_type": "markdown",
   "id": "9e826e43",
   "metadata": {},
   "source": [
    "<font color=\"red\"><b>Student Names and IDs:\n",
    "    \n",
    "    1. Minh Nghia Phan, 394806\n",
    "    \n",
    "    2. \n",
    "    \n",
    "    3."
   ]
  },
  {
   "cell_type": "markdown",
   "id": "171c05f0",
   "metadata": {},
   "source": [
    "For those using Jupyter Notebook in your local environments, please install the following library in your environment:\n",
    "```pip install umap-learn==0.5.3```"
   ]
  },
  {
   "cell_type": "code",
   "execution_count": 1,
   "id": "ab570761-1a8a-4c62-8de2-534f88604bb8",
   "metadata": {
    "colab": {
     "base_uri": "https://localhost:8080/"
    },
    "id": "ab570761-1a8a-4c62-8de2-534f88604bb8",
    "outputId": "a8278aa6-aa87-4cea-c7f7-10ab381b364f"
   },
   "outputs": [],
   "source": [
    "#your imports (only use libraries provided in the environment)\n",
    "import pandas as pd\n",
    "import numpy as np\n",
    "import matplotlib.pyplot as plt\n",
    "\n",
    "# set global random seed\n",
    "RANDOM_SEED = 100"
   ]
  },
  {
   "cell_type": "markdown",
   "id": "le9qm43wNPGY",
   "metadata": {
    "id": "le9qm43wNPGY"
   },
   "source": [
    "# Pricing your AirBnB"
   ]
  },
  {
   "cell_type": "markdown",
   "id": "8dfa8631-4eba-4472-b981-510d243e1b2b",
   "metadata": {
    "id": "8dfa8631-4eba-4472-b981-510d243e1b2b"
   },
   "source": [
    "You finally made it! Working as a data scientist at an established process mining company in New York, you earned so much money that you can buy a flat for yourself. You decide to buy a 2-room apartment in Manhattan. Congratulations!\n",
    "\n",
    "Currently, you are still living in your rental apartment and are tied to a long-running rental contract. You can only use the apartment in 5 years from now. Therefore, you want to use the apartment as an AirBnB in the meantime, generating some consistent income. \n",
    "\n",
    "\n",
    "You have no clue how you should price your AirBnB per night (you are living in New York, so you never needed to book an AirBnB). You decide to leverage your unique skill set and perform a data-driven, informed decision. You collect all the data you can get your hands on by traversing all New York apartments. The retrieved data set **AirBnB_original.csv** is your starting point for investigation."
   ]
  },
  {
   "cell_type": "markdown",
   "id": "7e21b607-828f-47b4-a57a-18b6ccab6322",
   "metadata": {
    "id": "7e21b607-828f-47b4-a57a-18b6ccab6322"
   },
   "source": [
    "## Question 1: Exploring the Data Set"
   ]
  },
  {
   "cell_type": "markdown",
   "id": "3a79e889",
   "metadata": {
    "id": "3a79e889"
   },
   "source": [
    "As with every data set, you first want to know what you are dealing with. You perform some exploratory data analysis and clean the data along the way."
   ]
  },
  {
   "cell_type": "markdown",
   "id": "8L8J85EfPRoZ",
   "metadata": {
    "id": "8L8J85EfPRoZ"
   },
   "source": [
    "Show a few data points contained in the data set. Include all attributes."
   ]
  },
  {
   "cell_type": "code",
   "execution_count": 2,
   "id": "ly3THPi7PdLJ",
   "metadata": {
    "id": "ly3THPi7PdLJ"
   },
   "outputs": [
    {
     "data": {
      "text/html": [
       "<div>\n",
       "<style scoped>\n",
       "    .dataframe tbody tr th:only-of-type {\n",
       "        vertical-align: middle;\n",
       "    }\n",
       "\n",
       "    .dataframe tbody tr th {\n",
       "        vertical-align: top;\n",
       "    }\n",
       "\n",
       "    .dataframe thead th {\n",
       "        text-align: right;\n",
       "    }\n",
       "</style>\n",
       "<table border=\"1\" class=\"dataframe\">\n",
       "  <thead>\n",
       "    <tr style=\"text-align: right;\">\n",
       "      <th></th>\n",
       "      <th>id</th>\n",
       "      <th>host id</th>\n",
       "      <th>neighborhood group</th>\n",
       "      <th>neighborhood</th>\n",
       "      <th>lat</th>\n",
       "      <th>long</th>\n",
       "      <th>country</th>\n",
       "      <th>country code</th>\n",
       "      <th>instant bookable</th>\n",
       "      <th>cancellation policy</th>\n",
       "      <th>room type</th>\n",
       "      <th>construction year</th>\n",
       "      <th>price</th>\n",
       "      <th>service fee</th>\n",
       "      <th>minimum nights</th>\n",
       "      <th>number of reviews</th>\n",
       "      <th>review rate number</th>\n",
       "      <th>calculated host listings count</th>\n",
       "      <th>number rooms</th>\n",
       "    </tr>\n",
       "  </thead>\n",
       "  <tbody>\n",
       "    <tr>\n",
       "      <th>0</th>\n",
       "      <td>1001254</td>\n",
       "      <td>80014485718</td>\n",
       "      <td>Brooklyn</td>\n",
       "      <td>Kensington</td>\n",
       "      <td>40.64749</td>\n",
       "      <td>-73.97237</td>\n",
       "      <td>United States</td>\n",
       "      <td>US</td>\n",
       "      <td>0</td>\n",
       "      <td>strict</td>\n",
       "      <td>Private room</td>\n",
       "      <td>2020.0</td>\n",
       "      <td>966</td>\n",
       "      <td>193.0</td>\n",
       "      <td>7.0</td>\n",
       "      <td>9.0</td>\n",
       "      <td>4.0</td>\n",
       "      <td>6.0</td>\n",
       "      <td>1</td>\n",
       "    </tr>\n",
       "    <tr>\n",
       "      <th>1</th>\n",
       "      <td>1002102</td>\n",
       "      <td>52335172823</td>\n",
       "      <td>Manhattan</td>\n",
       "      <td>Midtown</td>\n",
       "      <td>40.75362</td>\n",
       "      <td>-73.98377</td>\n",
       "      <td>United States</td>\n",
       "      <td>US</td>\n",
       "      <td>0</td>\n",
       "      <td>moderate</td>\n",
       "      <td>Entire home/apt</td>\n",
       "      <td>2007.0</td>\n",
       "      <td>142</td>\n",
       "      <td>28.0</td>\n",
       "      <td>7.0</td>\n",
       "      <td>45.0</td>\n",
       "      <td>4.0</td>\n",
       "      <td>2.0</td>\n",
       "      <td>2</td>\n",
       "    </tr>\n",
       "    <tr>\n",
       "      <th>2</th>\n",
       "      <td>1002403</td>\n",
       "      <td>78829239556</td>\n",
       "      <td>Manhattan</td>\n",
       "      <td>Harlem</td>\n",
       "      <td>40.80902</td>\n",
       "      <td>-73.94190</td>\n",
       "      <td>United States</td>\n",
       "      <td>US</td>\n",
       "      <td>0</td>\n",
       "      <td>flexible</td>\n",
       "      <td>Private room</td>\n",
       "      <td>2005.0</td>\n",
       "      <td>620</td>\n",
       "      <td>124.0</td>\n",
       "      <td>3.0</td>\n",
       "      <td>0.0</td>\n",
       "      <td>5.0</td>\n",
       "      <td>1.0</td>\n",
       "      <td>1</td>\n",
       "    </tr>\n",
       "    <tr>\n",
       "      <th>3</th>\n",
       "      <td>1002755</td>\n",
       "      <td>85098326012</td>\n",
       "      <td>Brooklyn</td>\n",
       "      <td>Clinton Hill</td>\n",
       "      <td>40.68514</td>\n",
       "      <td>-73.95976</td>\n",
       "      <td>United States</td>\n",
       "      <td>US</td>\n",
       "      <td>0</td>\n",
       "      <td>moderate</td>\n",
       "      <td>Entire home/apt</td>\n",
       "      <td>2005.0</td>\n",
       "      <td>368</td>\n",
       "      <td>74.0</td>\n",
       "      <td>7.0</td>\n",
       "      <td>270.0</td>\n",
       "      <td>4.0</td>\n",
       "      <td>1.0</td>\n",
       "      <td>2</td>\n",
       "    </tr>\n",
       "    <tr>\n",
       "      <th>4</th>\n",
       "      <td>1003689</td>\n",
       "      <td>92037596077</td>\n",
       "      <td>Manhattan</td>\n",
       "      <td>East Harlem</td>\n",
       "      <td>40.79851</td>\n",
       "      <td>-73.94399</td>\n",
       "      <td>United States</td>\n",
       "      <td>US</td>\n",
       "      <td>0</td>\n",
       "      <td>moderate</td>\n",
       "      <td>Entire home/apt</td>\n",
       "      <td>2009.0</td>\n",
       "      <td>204</td>\n",
       "      <td>41.0</td>\n",
       "      <td>7.0</td>\n",
       "      <td>9.0</td>\n",
       "      <td>3.0</td>\n",
       "      <td>1.0</td>\n",
       "      <td>1</td>\n",
       "    </tr>\n",
       "    <tr>\n",
       "      <th>5</th>\n",
       "      <td>1004650</td>\n",
       "      <td>61300605564</td>\n",
       "      <td>Brooklyn</td>\n",
       "      <td>Bedford-Stuyvesant</td>\n",
       "      <td>40.68688</td>\n",
       "      <td>-73.95596</td>\n",
       "      <td>United States</td>\n",
       "      <td>US</td>\n",
       "      <td>0</td>\n",
       "      <td>moderate</td>\n",
       "      <td>Private room</td>\n",
       "      <td>2015.0</td>\n",
       "      <td>71</td>\n",
       "      <td>14.0</td>\n",
       "      <td>7.0</td>\n",
       "      <td>49.0</td>\n",
       "      <td>5.0</td>\n",
       "      <td>1.0</td>\n",
       "      <td>1</td>\n",
       "    </tr>\n",
       "    <tr>\n",
       "      <th>6</th>\n",
       "      <td>1005202</td>\n",
       "      <td>90821839709</td>\n",
       "      <td>Brooklyn</td>\n",
       "      <td>Bedford-Stuyvesant</td>\n",
       "      <td>40.68688</td>\n",
       "      <td>-73.95596</td>\n",
       "      <td>United States</td>\n",
       "      <td>US</td>\n",
       "      <td>0</td>\n",
       "      <td>moderate</td>\n",
       "      <td>Private room</td>\n",
       "      <td>2009.0</td>\n",
       "      <td>1060</td>\n",
       "      <td>212.0</td>\n",
       "      <td>7.0</td>\n",
       "      <td>49.0</td>\n",
       "      <td>5.0</td>\n",
       "      <td>1.0</td>\n",
       "      <td>1</td>\n",
       "    </tr>\n",
       "    <tr>\n",
       "      <th>7</th>\n",
       "      <td>1005754</td>\n",
       "      <td>79384379533</td>\n",
       "      <td>Manhattan</td>\n",
       "      <td>Hell's Kitchen</td>\n",
       "      <td>40.76489</td>\n",
       "      <td>-73.98493</td>\n",
       "      <td>United States</td>\n",
       "      <td>US</td>\n",
       "      <td>0</td>\n",
       "      <td>strict</td>\n",
       "      <td>Private room</td>\n",
       "      <td>2005.0</td>\n",
       "      <td>1018</td>\n",
       "      <td>204.0</td>\n",
       "      <td>2.0</td>\n",
       "      <td>430.0</td>\n",
       "      <td>3.0</td>\n",
       "      <td>1.0</td>\n",
       "      <td>1</td>\n",
       "    </tr>\n",
       "    <tr>\n",
       "      <th>8</th>\n",
       "      <td>1006859</td>\n",
       "      <td>1280143094</td>\n",
       "      <td>Manhattan</td>\n",
       "      <td>Chinatown</td>\n",
       "      <td>40.71344</td>\n",
       "      <td>-73.99037</td>\n",
       "      <td>United States</td>\n",
       "      <td>US</td>\n",
       "      <td>0</td>\n",
       "      <td>flexible</td>\n",
       "      <td>Entire home/apt</td>\n",
       "      <td>2004.0</td>\n",
       "      <td>319</td>\n",
       "      <td>64.0</td>\n",
       "      <td>1.0</td>\n",
       "      <td>160.0</td>\n",
       "      <td>3.0</td>\n",
       "      <td>4.0</td>\n",
       "      <td>1</td>\n",
       "    </tr>\n",
       "    <tr>\n",
       "      <th>9</th>\n",
       "      <td>1007411</td>\n",
       "      <td>18824631834</td>\n",
       "      <td>Manhattan</td>\n",
       "      <td>Upper West Side</td>\n",
       "      <td>40.80316</td>\n",
       "      <td>-73.96545</td>\n",
       "      <td>United States</td>\n",
       "      <td>US</td>\n",
       "      <td>0</td>\n",
       "      <td>flexible</td>\n",
       "      <td>Entire home/apt</td>\n",
       "      <td>2008.0</td>\n",
       "      <td>606</td>\n",
       "      <td>121.0</td>\n",
       "      <td>5.0</td>\n",
       "      <td>53.0</td>\n",
       "      <td>4.0</td>\n",
       "      <td>1.0</td>\n",
       "      <td>2</td>\n",
       "    </tr>\n",
       "  </tbody>\n",
       "</table>\n",
       "</div>"
      ],
      "text/plain": [
       "        id      host id neighborhood group        neighborhood       lat  \\\n",
       "0  1001254  80014485718           Brooklyn          Kensington  40.64749   \n",
       "1  1002102  52335172823          Manhattan             Midtown  40.75362   \n",
       "2  1002403  78829239556          Manhattan              Harlem  40.80902   \n",
       "3  1002755  85098326012           Brooklyn        Clinton Hill  40.68514   \n",
       "4  1003689  92037596077          Manhattan         East Harlem  40.79851   \n",
       "5  1004650  61300605564           Brooklyn  Bedford-Stuyvesant  40.68688   \n",
       "6  1005202  90821839709           Brooklyn  Bedford-Stuyvesant  40.68688   \n",
       "7  1005754  79384379533          Manhattan      Hell's Kitchen  40.76489   \n",
       "8  1006859   1280143094          Manhattan           Chinatown  40.71344   \n",
       "9  1007411  18824631834          Manhattan     Upper West Side  40.80316   \n",
       "\n",
       "       long        country country code  instant bookable cancellation policy  \\\n",
       "0 -73.97237  United States           US                 0              strict   \n",
       "1 -73.98377  United States           US                 0            moderate   \n",
       "2 -73.94190  United States           US                 0            flexible   \n",
       "3 -73.95976  United States           US                 0            moderate   \n",
       "4 -73.94399  United States           US                 0            moderate   \n",
       "5 -73.95596  United States           US                 0            moderate   \n",
       "6 -73.95596  United States           US                 0            moderate   \n",
       "7 -73.98493  United States           US                 0              strict   \n",
       "8 -73.99037  United States           US                 0            flexible   \n",
       "9 -73.96545  United States           US                 0            flexible   \n",
       "\n",
       "         room type  construction year  price  service fee  minimum nights  \\\n",
       "0     Private room             2020.0    966        193.0             7.0   \n",
       "1  Entire home/apt             2007.0    142         28.0             7.0   \n",
       "2     Private room             2005.0    620        124.0             3.0   \n",
       "3  Entire home/apt             2005.0    368         74.0             7.0   \n",
       "4  Entire home/apt             2009.0    204         41.0             7.0   \n",
       "5     Private room             2015.0     71         14.0             7.0   \n",
       "6     Private room             2009.0   1060        212.0             7.0   \n",
       "7     Private room             2005.0   1018        204.0             2.0   \n",
       "8  Entire home/apt             2004.0    319         64.0             1.0   \n",
       "9  Entire home/apt             2008.0    606        121.0             5.0   \n",
       "\n",
       "   number of reviews  review rate number  calculated host listings count  \\\n",
       "0                9.0                 4.0                             6.0   \n",
       "1               45.0                 4.0                             2.0   \n",
       "2                0.0                 5.0                             1.0   \n",
       "3              270.0                 4.0                             1.0   \n",
       "4                9.0                 3.0                             1.0   \n",
       "5               49.0                 5.0                             1.0   \n",
       "6               49.0                 5.0                             1.0   \n",
       "7              430.0                 3.0                             1.0   \n",
       "8              160.0                 3.0                             4.0   \n",
       "9               53.0                 4.0                             1.0   \n",
       "\n",
       "   number rooms  \n",
       "0             1  \n",
       "1             2  \n",
       "2             1  \n",
       "3             2  \n",
       "4             1  \n",
       "5             1  \n",
       "6             1  \n",
       "7             1  \n",
       "8             1  \n",
       "9             2  "
      ]
     },
     "execution_count": 2,
     "metadata": {},
     "output_type": "execute_result"
    }
   ],
   "source": [
    "# Your answer goes here\n",
    "# Show the first 10 data points\n",
    "df_original = pd.read_csv('AirBnB_original.csv')\n",
    "df_original.head(10)"
   ]
  },
  {
   "cell_type": "markdown",
   "id": "9_9aEzu5PI1h",
   "metadata": {
    "id": "9_9aEzu5PI1h"
   },
   "source": [
    "### Basic Cleaning"
   ]
  },
  {
   "cell_type": "markdown",
   "id": "38360b13",
   "metadata": {
    "id": "38360b13"
   },
   "source": [
    "First, you have to remove NaN entries across the data set such that we only keep rows without any NaN value. How many rows did you remove?"
   ]
  },
  {
   "cell_type": "code",
   "execution_count": 3,
   "id": "d8b96e7f",
   "metadata": {
    "id": "ly3THPi7PdLJ"
   },
   "outputs": [
    {
     "name": "stdout",
     "output_type": "stream",
     "text": [
      "Number of removed rows is 1477\n"
     ]
    }
   ],
   "source": [
    "# Your answer goes here\n",
    "df_original_no_nan = df_original.dropna() # data without rows with NaN\n",
    "print(f\"Number of removed rows is {len(df_original) - len(df_original_no_nan)}\")"
   ]
  },
  {
   "cell_type": "markdown",
   "id": "1dee5fbc",
   "metadata": {
    "id": "1dee5fbc"
   },
   "source": [
    "Since duplicated entries are misleading, we want to remove duplicate flats (identified by their id), such that we only keep them once and create a new dataset. How many duplicates are removed?"
   ]
  },
  {
   "cell_type": "code",
   "execution_count": 4,
   "id": "403479a7",
   "metadata": {
    "id": "ly3THPi7PdLJ"
   },
   "outputs": [
    {
     "name": "stdout",
     "output_type": "stream",
     "text": [
      "Number of removed duplicates is 389\n"
     ]
    }
   ],
   "source": [
    "# Your answer goes here\n",
    "df_no_dup = df_original_no_nan.drop_duplicates(subset=['id']) # data without duplicate flats\n",
    "print(f\"Number of removed duplicates is {len(df_original_no_nan) - len(df_no_dup)}\")"
   ]
  },
  {
   "cell_type": "markdown",
   "id": "Yty_b-ftfTPc",
   "metadata": {
    "id": "Yty_b-ftfTPc"
   },
   "source": [
    "From now on, you work with the dataset **AirBnB_cleaned.csv**."
   ]
  },
  {
   "cell_type": "markdown",
   "id": "g-rLfHOoEGuz",
   "metadata": {
    "id": "g-rLfHOoEGuz"
   },
   "source": [
    "To get a feeling for nightly prices in New York, you take a look at the price attribute. Calculate the average price, the first and third quantiles, and the standard deviation."
   ]
  },
  {
   "cell_type": "code",
   "execution_count": 5,
   "id": "08d61469",
   "metadata": {},
   "outputs": [
    {
     "data": {
      "text/plain": [
       "count    70842.000000\n",
       "mean       625.463680\n",
       "std        331.236241\n",
       "min         50.000000\n",
       "25%        340.000000\n",
       "50%        625.000000\n",
       "75%        913.000000\n",
       "max       1200.000000\n",
       "Name: price, dtype: float64"
      ]
     },
     "execution_count": 5,
     "metadata": {},
     "output_type": "execute_result"
    }
   ],
   "source": [
    "# Import cleaned data\n",
    "df_cleaned = pd.read_csv(\"AirBnB_cleaned.csv\")\n",
    "# Get some statistics of price\n",
    "price_summary = df_cleaned[\"price\"].describe()\n",
    "price_summary"
   ]
  },
  {
   "cell_type": "code",
   "execution_count": 6,
   "id": "76bb6f5a",
   "metadata": {
    "id": "ly3THPi7PdLJ"
   },
   "outputs": [
    {
     "name": "stdout",
     "output_type": "stream",
     "text": [
      "The average price is 625.4636797380085\n",
      "The first quantile is 340.0\n",
      "The third quantile is 913.0\n",
      "The standard deviation is 331.23624102553555\n"
     ]
    }
   ],
   "source": [
    "# Your answer goes here\n",
    "# Answers to the question\n",
    "print(f\"The average price is {price_summary['mean']}\")\n",
    "print(f\"The first quantile is {price_summary['25%']}\")\n",
    "print(f\"The third quantile is {price_summary['75%']}\")\n",
    "print(f\"The standard deviation is {price_summary['std']}\")"
   ]
  },
  {
   "cell_type": "markdown",
   "id": "eqDy9wQIElfF",
   "metadata": {
    "id": "eqDy9wQIElfF"
   },
   "source": [
    "You want to get a more visual picture of the price range. Use a histogram and boxplot to show the distribution of prices on the entire dataset."
   ]
  },
  {
   "cell_type": "code",
   "execution_count": 7,
   "id": "efc0714e",
   "metadata": {
    "id": "ly3THPi7PdLJ"
   },
   "outputs": [
    {
     "data": {
      "image/png": "[encoded data removed]",
      "text/plain": [
       "<Figure size 432x288 with 1 Axes>"
      ]
     },
     "metadata": {
      "needs_background": "light"
     },
     "output_type": "display_data"
    }
   ],
   "source": [
    "# Your answer goes here\n",
    "# Draw the histogram\n",
    "plt.hist(df_cleaned['price'], bins=20, edgecolor='black')\n",
    "plt.show()"
   ]
  },
  {
   "cell_type": "code",
   "execution_count": 8,
   "id": "2fc639be",
   "metadata": {},
   "outputs": [
    {
     "data": {
      "image/png": "[encoded data removed]",
      "text/plain": [
       "<Figure size 432x288 with 1 Axes>"
      ]
     },
     "metadata": {
      "needs_background": "light"
     },
     "output_type": "display_data"
    }
   ],
   "source": [
    "# Draw the boxplot\n",
    "plt.boxplot(df_cleaned['price'], showfliers=True)\n",
    "plt.show()"
   ]
  },
  {
   "cell_type": "markdown",
   "id": "3RkQxNBpQ7mC",
   "metadata": {
    "id": "3RkQxNBpQ7mC"
   },
   "source": [
    "### Exploring Price Relationships"
   ]
  },
  {
   "cell_type": "markdown",
   "id": "lKi9SkO1RF56",
   "metadata": {
    "id": "lKi9SkO1RF56"
   },
   "source": [
    "To inform our pricing decision, we want to investigate some differentiating factors for pricing apartments."
   ]
  },
  {
   "cell_type": "markdown",
   "id": "nClcY_FV_AKv",
   "metadata": {
    "id": "nClcY_FV_AKv"
   },
   "source": [
    "Since you have an overview of the prices and their distribution, you want to investigate which features of your dataset you might use to make your pricing decision. To do so, discuss each feature of the dataset and already rule out features that will definitely not impact the pricing decision. Below you can find a brief description of each feature: \n",
    "\n",
    "- id: Unique identifier for an apartment\n",
    "- host id: Identifier of the host offering a certain apartment\n",
    "- neighborhood group: Name of a neighborhood group in which an apartment is located\n",
    "- neighborhood: More fine-grained view on neighborhoods than neighborhood group\n",
    "- lat: Latitude coordinate of an apartment\n",
    "- long: Longitude coordinate of an apartment\n",
    "- country: The country in which an apartment is located\n",
    "- country code: Code of the country in which an apartment is located\n",
    "- instant bookable: Boolean values if an apartment is instantly bookable\n",
    "- cancellation policy: Policy for cancellation of booking\n",
    "- room type: Type of apartment/room\n",
    "- construction year: Year of construction of apartment\n",
    "- price: Price for renting an apartment\n",
    "- service fee: Fee of service\n",
    "- minimum nights: Number of minimum nights to rent an apartment\n",
    "- number of reviews: Number of reviews for an apartment\n",
    "- review rate number:  Review rate for an apartment (1 to 5)\n",
    "- calculated host listings count: Number of listings a host has\n",
    "- number rooms: Number of rooms in an apartment"
   ]
  },
  {
   "cell_type": "code",
   "execution_count": null,
   "id": "2146a915",
   "metadata": {
    "id": "ly3THPi7PdLJ"
   },
   "outputs": [],
   "source": [
    "# Your answer goes here\n"
   ]
  },
  {
   "cell_type": "markdown",
   "id": "1aac44c1",
   "metadata": {},
   "source": [
    "_Answer:_ \n"
   ]
  },
  {
   "cell_type": "markdown",
   "id": "QlBJgLSjh2l5",
   "metadata": {
    "id": "QlBJgLSjh2l5"
   },
   "source": [
    "### Univariate Analysis"
   ]
  },
  {
   "cell_type": "markdown",
   "id": "X0phX-tc_txX",
   "metadata": {
    "id": "X0phX-tc_txX"
   },
   "source": [
    "In the following, you want to analyze which features influence the price. You do this univariately, i.e., look at the relationship between one feature and the price individually. No matter which features you concluded to be useful in the last task, **you will consider the following seven features: service fee, minimum nights, neighborhood group, room type, cancellation policy, construction year, and the number of rooms.**"
   ]
  },
  {
   "cell_type": "markdown",
   "id": "ymD1OuKhE58B",
   "metadata": {
    "id": "ymD1OuKhE58B"
   },
   "source": [
    "First, we look closely at the relationship between price and service fee. To do so, create a joint plot for these two attributes. What is your finding? Is this a helpful feature for our pricing decision?"
   ]
  },
  {
   "cell_type": "code",
   "execution_count": null,
   "id": "7d5c1da7",
   "metadata": {
    "id": "ly3THPi7PdLJ"
   },
   "outputs": [],
   "source": [
    "# Your answer goes here\n"
   ]
  },
  {
   "cell_type": "markdown",
   "id": "d7262980",
   "metadata": {},
   "source": [
    "_Answer:_\n",
    "\n"
   ]
  },
  {
   "cell_type": "markdown",
   "id": "2rcPfXMcGk1M",
   "metadata": {
    "id": "2rcPfXMcGk1M"
   },
   "source": [
    "Next, we are interested in the relationship between the number of minimum nights and the price. To analyze it, create a joint plot with a regression. Describe your observation."
   ]
  },
  {
   "cell_type": "code",
   "execution_count": null,
   "id": "b028e83e",
   "metadata": {
    "id": "ly3THPi7PdLJ"
   },
   "outputs": [],
   "source": [
    "# Your answer goes here\n"
   ]
  },
  {
   "cell_type": "markdown",
   "id": "f4cd05bf",
   "metadata": {},
   "source": [
    "_Answer:_\n",
    "\n"
   ]
  },
  {
   "cell_type": "markdown",
   "id": "6MIVIHji_tG1",
   "metadata": {
    "id": "6MIVIHji_tG1"
   },
   "source": [
    "To further investigate the pricing decision, you look at the remaining five features: neighborhood group, room type, cancellation policy, construction year, and the number of rooms.\n",
    "To get an overview, you decide to create box plots (including the mean) for each of these features to visualize their influence on the price. Describe your findings. Which values of the features influence the price?"
   ]
  },
  {
   "cell_type": "code",
   "execution_count": null,
   "id": "301f080d",
   "metadata": {
    "id": "ly3THPi7PdLJ"
   },
   "outputs": [],
   "source": [
    "# Your answer goes here\n"
   ]
  },
  {
   "cell_type": "markdown",
   "id": "16206993",
   "metadata": {},
   "source": [
    "_Answer:_\n",
    "\n"
   ]
  },
  {
   "cell_type": "markdown",
   "id": "1Bs51U6ch9Ka",
   "metadata": {
    "id": "1Bs51U6ch9Ka"
   },
   "source": [
    "### Multivariate Analysis"
   ]
  },
  {
   "cell_type": "markdown",
   "id": "LZJDkd6xiJuy",
   "metadata": {
    "id": "LZJDkd6xiJuy"
   },
   "source": [
    "As the univariate analysis of price relationships provided only limited insights, you decide to visualize some multivariate investigations of the price. **No matter what you concluded in the last section, you will use the features construction year, number of rooms, cancellation policy, room type, and neighborhood group in the multivariate analysis.**\n",
    "For each pair of features, create a grouped boxplot (using the hue argument) and investigate whether the two features together allow for an explanation of price differences. In the end, conclude which combination of features should be used to make your pricing decision."
   ]
  },
  {
   "cell_type": "markdown",
   "id": "a1af70ad",
   "metadata": {},
   "source": [
    "#### Multivariate Analysis for Neighborhood Group"
   ]
  },
  {
   "cell_type": "code",
   "execution_count": null,
   "id": "19b4a749",
   "metadata": {
    "id": "ly3THPi7PdLJ"
   },
   "outputs": [],
   "source": [
    "# Your answer goes here\n"
   ]
  },
  {
   "cell_type": "markdown",
   "id": "e8b80c4f",
   "metadata": {},
   "source": [
    "_Answer:_\n",
    "\n"
   ]
  },
  {
   "cell_type": "markdown",
   "id": "ddbbd25d",
   "metadata": {},
   "source": [
    "#### Multivariate Analysis for Room Type"
   ]
  },
  {
   "cell_type": "code",
   "execution_count": null,
   "id": "809668e7",
   "metadata": {},
   "outputs": [],
   "source": [
    "# Your answer goes here\n"
   ]
  },
  {
   "cell_type": "markdown",
   "id": "72041142",
   "metadata": {},
   "source": [
    "_Answer:_\n"
   ]
  },
  {
   "cell_type": "markdown",
   "id": "e11db5c3",
   "metadata": {},
   "source": [
    "#### Multivariate Analysis for Number of Rooms"
   ]
  },
  {
   "cell_type": "code",
   "execution_count": null,
   "id": "512f825d",
   "metadata": {},
   "outputs": [],
   "source": [
    "# Your answer goes here\n"
   ]
  },
  {
   "cell_type": "markdown",
   "id": "5c95f5b1",
   "metadata": {},
   "source": [
    "_Answer:_\n",
    "\n"
   ]
  },
  {
   "cell_type": "markdown",
   "id": "419042f2",
   "metadata": {},
   "source": [
    "#### Multivariate Analysis for Construction Year"
   ]
  },
  {
   "cell_type": "code",
   "execution_count": null,
   "id": "43469f1b",
   "metadata": {},
   "outputs": [],
   "source": [
    "# Your answer goes here"
   ]
  },
  {
   "cell_type": "markdown",
   "id": "e77ae423",
   "metadata": {},
   "source": [
    "_Answer:_\n",
    "\n"
   ]
  },
  {
   "cell_type": "markdown",
   "id": "2kZI5CkIbahY",
   "metadata": {
    "id": "2kZI5CkIbahY"
   },
   "source": [
    "### Selection of Variables"
   ]
  },
  {
   "cell_type": "markdown",
   "id": "UUkY4fg4emGQ",
   "metadata": {
    "id": "UUkY4fg4emGQ"
   },
   "source": [
    "Please argue: Which combinations of variables would you consider for pricing your AirBnB?"
   ]
  },
  {
   "cell_type": "markdown",
   "id": "e5808a47-1108-43c8-b371-aeb1f893e511",
   "metadata": {},
   "source": [
    "_Answer:_\n"
   ]
  },
  {
   "cell_type": "markdown",
   "id": "9fb5625b-7666-447e-848b-6a7d239a6d0b",
   "metadata": {
    "id": "9fb5625b-7666-447e-848b-6a7d239a6d0b",
    "tags": []
   },
   "source": [
    "## Question 2: Setting the Price"
   ]
  },
  {
   "cell_type": "markdown",
   "id": "UVRItjgwQSNb",
   "metadata": {
    "id": "UVRItjgwQSNb"
   },
   "source": [
    "No matter what you have deducted from your analysis, from now on, you will continue only with three features: **The number of rooms, the neighborhood group, and the room type.**"
   ]
  },
  {
   "cell_type": "markdown",
   "id": "c7128fc0-c9cc-4ecb-bc37-147ea4bfbf07",
   "metadata": {
    "id": "c7128fc0-c9cc-4ecb-bc37-147ea4bfbf07"
   },
   "source": [
    "**Enter Toby**: Toby is your long-term friend back from studying at RWTH. While you studied computer science, Toby studied business administration to become a big shot at Wall Street. He currently works in the back office of some swiss credit institute just across the corner from your office. You decide to drop by and get some of his input for your pricing decision. \n",
    "\n",
    "Toby proposes to first use comparables pricing to price your apartment. Comparables pricing is an established concept in economics and means that you price your apartment close to similar apartments. \n",
    "You will use different techniques to find similar apartments and set a price."
   ]
  },
  {
   "cell_type": "markdown",
   "id": "b139f2fd-5b7e-4086-8a1f-6098df4f6d25",
   "metadata": {
    "id": "b139f2fd-5b7e-4086-8a1f-6098df4f6d25"
   },
   "source": [
    "## Baseline"
   ]
  },
  {
   "cell_type": "markdown",
   "id": "tD6hGWmni8eA",
   "metadata": {
    "id": "tD6hGWmni8eA"
   },
   "source": [
    "First, you want to set a baseline to compare against. The baseline should always use the average price of all apartments as a recommended price. Evaluate on a test set of 5%. The same test set should also be used later (you can use the random_state argument in scikit learn's train_test_split, but you need to stay consistent for different questions)."
   ]
  },
  {
   "cell_type": "code",
   "execution_count": null,
   "id": "119dd20f",
   "metadata": {
    "id": "ly3THPi7PdLJ"
   },
   "outputs": [],
   "source": [
    "# Your answer goes here\n"
   ]
  },
  {
   "cell_type": "markdown",
   "id": "ddc1e5ce",
   "metadata": {
    "id": "ddc1e5ce"
   },
   "source": [
    "## Decision Tree"
   ]
  },
  {
   "cell_type": "markdown",
   "id": "8y3FUe5paWrY",
   "metadata": {
    "id": "8y3FUe5paWrY"
   },
   "source": [
    "Using a decision tree, you try to price your apartment according to similar apartments. "
   ]
  },
  {
   "cell_type": "markdown",
   "id": "0a06ecc8",
   "metadata": {
    "id": "0a06ecc8"
   },
   "source": [
    "In the following, we want to know the price ranges for renting AirBnBs. To use decision trees, you need to discretize prices. We use the following price bins:\n",
    "\n",
    "\n",
    "- [50, 200]\n",
    "- (200, 400]\n",
    "- (400, 600]\n",
    "- (600, 800]\n",
    "- (800, 1000]\n",
    "- (1000, 1200]\n",
    "\n",
    "We add the attribute \"Price_Bins\" using the discretization mentioned above for each apartment. For example, if an apartment costs 404, it is put into the bin (400, 600]."
   ]
  },
  {
   "cell_type": "code",
   "execution_count": null,
   "id": "f13ec0f0",
   "metadata": {
    "id": "ly3THPi7PdLJ"
   },
   "outputs": [],
   "source": [
    "# Your answer goes here\n"
   ]
  },
  {
   "cell_type": "markdown",
   "id": "9a15a3f0",
   "metadata": {
    "id": "9a15a3f0"
   },
   "source": [
    "Consider the extended dataset from the previous task. Use 'number rooms,' 'room type,' and 'neighborhood group' as descriptive features and \"Price_Bins\" as the target feature. Create a test and training set like before."
   ]
  },
  {
   "cell_type": "code",
   "execution_count": null,
   "id": "dc234682",
   "metadata": {
    "id": "ly3THPi7PdLJ"
   },
   "outputs": [],
   "source": [
    "# Your answer goes here\n"
   ]
  },
  {
   "cell_type": "markdown",
   "id": "WJuVU61pfuAU",
   "metadata": {
    "id": "WJuVU61pfuAU"
   },
   "source": [
    "Generate a decision tree in which the minimum number of samples for splitting is ten and use entropy. What is the system's entropy?\n",
    "\n",
    "Note: For this task, you must use the p_decision_tree library."
   ]
  },
  {
   "cell_type": "code",
   "execution_count": null,
   "id": "6a779d60",
   "metadata": {
    "id": "ly3THPi7PdLJ"
   },
   "outputs": [],
   "source": [
    "# Your answer goes here\n"
   ]
  },
  {
   "cell_type": "markdown",
   "id": "ddc5527b",
   "metadata": {
    "id": "ddc5527b"
   },
   "source": [
    "What is the first feature the decision tree splits on?"
   ]
  },
  {
   "cell_type": "markdown",
   "id": "dedb90c3",
   "metadata": {
    "id": "dedb90c3"
   },
   "source": [
    "_Answer:_\n",
    "\n"
   ]
  },
  {
   "cell_type": "markdown",
   "id": "604f3229",
   "metadata": {
    "id": "604f3229"
   },
   "source": [
    "Since it doesn't make sense to set a price range for renting a room, we need to fix a price. For simplicity, we use the means of the bins, i.e., 125, 300, 500, 700, 900, and 1100. For example, if a room were categorized in the bin (200, 400], it would have the price of 300.\n",
    "\n",
    "What prices are possible given your decision tree for:\n",
    "\n",
    "- Manhattan, 1-room, Private room\n",
    "- Staten Island, 1-room, Shared room"
   ]
  },
  {
   "cell_type": "markdown",
   "id": "75fc9049",
   "metadata": {
    "id": "dedb90c3"
   },
   "source": [
    "_Answer:_\n",
    "\n"
   ]
  },
  {
   "cell_type": "markdown",
   "id": "gXRYGEa5QwCC",
   "metadata": {
    "id": "gXRYGEa5QwCC"
   },
   "source": [
    "What is the proposed price of the decision tree for our apartment? Store it in a variable for later usage."
   ]
  },
  {
   "cell_type": "code",
   "execution_count": null,
   "id": "e2a17248",
   "metadata": {
    "id": "ly3THPi7PdLJ"
   },
   "outputs": [],
   "source": [
    "# Your answer goes here\n"
   ]
  },
  {
   "cell_type": "markdown",
   "id": "d7b71ded",
   "metadata": {
    "id": "d7b71ded"
   },
   "source": [
    "To evaluate how good our decision tree is for determining price categories, we want to measure the error of the predictions on the test set. To do so, the IDS team provided you helper functions below."
   ]
  },
  {
   "cell_type": "code",
   "execution_count": null,
   "id": "ywjosLTaa8sY",
   "metadata": {
    "id": "ywjosLTaa8sY"
   },
   "outputs": [],
   "source": [
    "def get_name_value_dict(graph):\n",
    "    id_label_dict = {}\n",
    "    root = decisionTree.root\n",
    "    visited = set() # Set to keep track of visited nodes of graph.\n",
    "\n",
    "    def dfs(visited, graph, node):#function for dfs \n",
    "        id_label_dict[node.name] = node.value\n",
    "        if node not in visited:\n",
    "            if node.next:\n",
    "                id_label_dict[node.next.name] = node.next.value\n",
    "            visited.add(node)\n",
    "            if node.childs:\n",
    "                for child in node.childs:\n",
    "                    if child is not None:\n",
    "                        dfs(visited, graph, child)\n",
    "            elif node.next:\n",
    "                if node.next.childs:\n",
    "                    for child in node.next.childs:\n",
    "                        if child is not None:\n",
    "                            dfs(visited, graph, child)\n",
    "    dfs(visited, decisionTree, root)\n",
    "    return id_label_dict\n",
    "\n",
    "def get_predictor(tree):\n",
    "  id_label_dict = get_name_value_dict(tree)\n",
    "  dotplus = pydotplus.graph_from_dot_data(tree.source)\n",
    "  G = networkx.nx_pydot.from_pydot(dotplus)\n",
    "  root = [n for n,d in G.in_degree() if d==0][0]\n",
    "  paths = []\n",
    "  for node in G:\n",
    "      if G.out_degree(node)==0: #it's a leaf\n",
    "          paths.append(networkx.shortest_path(G, root, node))\n",
    "  new_paths = []\n",
    "  for path in paths:\n",
    "      for name, value in id_label_dict.items():\n",
    "          path = ([p.replace(name, value) for p in path])\n",
    "      new_paths.append(path)\n",
    "  predictor = {}\n",
    "  for path in new_paths.copy():\n",
    "    target = path[-1]\n",
    "    classification = tuple(path[:-1])\n",
    "    predictor[classification] = target\n",
    "  return predictor\n",
    "\n",
    "def get_prediction_features(predictor):\n",
    "    features = set()\n",
    "    for key in predictor:\n",
    "        i = 0\n",
    "        while i <= len(key)-2:\n",
    "            features.add(key[i])\n",
    "            i +=2\n",
    "    return features\n",
    "            \n",
    "def get_predicted_bin(instance, features, predictor):\n",
    "  feature_values = {}\n",
    "  for feature in features:\n",
    "      feature_values[feature] = instance[feature]\n",
    "  possible_paths = predictor.keys()\n",
    "  i=0\n",
    "  while i<=len(feature_values):\n",
    "    attribute = [path[i] for path in possible_paths][0]\n",
    "    if attribute in predictor.values():\n",
    "      break\n",
    "    feature_value = feature_values[attribute]\n",
    "    candidates = []\n",
    "    for el in possible_paths:\n",
    "      if str(el[i+1]) == str(feature_value):\n",
    "        candidates.append(el)\n",
    "    possible_paths = candidates.copy()\n",
    "    i+=2\n",
    "  return predictor[possible_paths[0]]\n",
    "\n",
    "\n",
    "\n",
    "### Dot is your visual decision tree. Adjust the naming if needed\n",
    "predictor = get_predictor(dot)\n",
    "features = get_prediction_features(predictor)"
   ]
  },
  {
   "cell_type": "markdown",
   "id": "05b8fad0",
   "metadata": {},
   "source": [
    "To predict the price bin for each instance of your test set, apply the function get_predicted_bin using the variables *predictor* and *features* provided above."
   ]
  },
  {
   "cell_type": "code",
   "execution_count": null,
   "id": "04a9c317",
   "metadata": {},
   "outputs": [],
   "source": [
    "# Your answer goes here\n"
   ]
  },
  {
   "cell_type": "markdown",
   "id": "tErBbNh62NdR",
   "metadata": {
    "id": "tErBbNh62NdR"
   },
   "source": [
    "You predicted a price range for AirBnBs in your test set. However, since you cannot enter a price range for renting an apartment, we have to map the range of bins to one value. To do so, we use the mean of bins, as explained before, to predict the price. Given that, compute the mean absolute error between the prediction from the decision tree and the real price provided in the dataset. What is the mean absolute error?"
   ]
  },
  {
   "cell_type": "code",
   "execution_count": null,
   "id": "4e4a988f",
   "metadata": {
    "id": "ly3THPi7PdLJ"
   },
   "outputs": [],
   "source": [
    "# Your answer goes here\n"
   ]
  },
  {
   "cell_type": "markdown",
   "id": "4e0d4040-8285-41d8-9da7-547127f999ce",
   "metadata": {
    "id": "4e0d4040-8285-41d8-9da7-547127f999ce"
   },
   "source": [
    "## Clustering"
   ]
  },
  {
   "cell_type": "markdown",
   "id": "8bae6185",
   "metadata": {
    "id": "8bae6185"
   },
   "source": [
    "Another way to do comparables pricing is to find similar apartments using clustering. Each calculated cluster represents one or more similar apartments in the dataset. For each cluster, you calculate the mean price as a representative price. To predict the price for new apartments, you assign them to an existing cluster and give the mean price as prediction.\n",
    "\n",
    "Use the same features you used in the decision tree for the clustering as well (**number rooms, neighborhood group, room type**), and remember that your dataset is still split into a training and test set.\n",
    "\n",
    "In this task, you will use the k-means algorithm.\n",
    "*Note: To keep results comparable, please use 100 for random state and n_init when initializing the clustering algorithm. Also, remember to use the same test and training set as in the previous tasks to compare performances.*"
   ]
  },
  {
   "cell_type": "markdown",
   "id": "bHmkuRpS-pjY",
   "metadata": {
    "id": "bHmkuRpS-pjY"
   },
   "source": [
    "### Encoding "
   ]
  },
  {
   "cell_type": "markdown",
   "id": "TjuIWkKM1ylm",
   "metadata": {
    "id": "TjuIWkKM1ylm"
   },
   "source": [
    "K-means tries to calculate the distance between different data points. Since some of the features you want to use are not numeric, apply one-hot encoding to be able to use distance measures. Use the preprocessing module of sklearn to prepare your dataset for clustering."
   ]
  },
  {
   "cell_type": "code",
   "execution_count": null,
   "id": "b6285240",
   "metadata": {
    "id": "ly3THPi7PdLJ"
   },
   "outputs": [],
   "source": [
    "# Your answer goes here\n"
   ]
  },
  {
   "cell_type": "markdown",
   "id": "LYtN1tb8-0Yf",
   "metadata": {
    "id": "LYtN1tb8-0Yf"
   },
   "source": [
    "### Choosing number of clusters"
   ]
  },
  {
   "cell_type": "markdown",
   "id": "a58f00cf",
   "metadata": {
    "id": "a58f00cf"
   },
   "source": [
    "In k-means, the number of wanted clusters is a parameter one can decide on. Since this is information you do not have at this time, you choose to use the data to decide.\n",
    "\n",
    "You cluster on the training dataset by using `k` number of clusters where `k` is between 4 and 15. Since you are interested in the price, for each clustering, you calculate the **standard deviation of the mean prices for the clusters**. Therefore, for each clustering:\n",
    "1. Calculate the mean price for each of the resulting clusters.\n",
    "2. Calculate the standard deviation of the mean prices calculated in 1.\n",
    "\n",
    "Plot a diagram where on the `x-axis` you will have the *number of clusters used* and on the `y-axis` the *standard deviation of the means*.\n",
    "\n",
    "In your opinion, which amount of clusters makes more sense? Explain your answer."
   ]
  },
  {
   "cell_type": "code",
   "execution_count": null,
   "id": "cf32d53e",
   "metadata": {
    "id": "ly3THPi7PdLJ"
   },
   "outputs": [],
   "source": [
    "# Your answer goes here\n"
   ]
  },
  {
   "cell_type": "markdown",
   "id": "79a62a5b",
   "metadata": {},
   "source": [
    "_Answer:_\n",
    "\n"
   ]
  },
  {
   "cell_type": "markdown",
   "id": "8047129d",
   "metadata": {
    "id": "8047129d"
   },
   "source": [
    "**Note:** No matter the conclusion made in the previous task, from now on, you use the clustering model with **9 clusters** for predicting the price for your apartment and evaluating the clustering technique."
   ]
  },
  {
   "cell_type": "markdown",
   "id": "cd39a5ea",
   "metadata": {},
   "source": [
    "### Pricing your apartment\n",
    "\n",
    "To predict the price for your apartment, calculate in which cluster your apartment would be and use the mean value of the cluster as a possible price."
   ]
  },
  {
   "cell_type": "code",
   "execution_count": null,
   "id": "50a772aa",
   "metadata": {
    "id": "ly3THPi7PdLJ"
   },
   "outputs": [],
   "source": [
    "# Your answer goes here\n",
    "# cluster for 9 clusters\n"
   ]
  },
  {
   "cell_type": "markdown",
   "id": "_MyMuKLPVihY",
   "metadata": {
    "id": "_MyMuKLPVihY"
   },
   "source": [
    "### Evaluating clustering\n",
    "\n",
    "You want to evaluate how well your clustering worked. In your case, two things can be evaluated:\n",
    "\n",
    "1.   Whether the clustering technique can group similar apartments together\n",
    "2.   Whether other people determine the price of their apartment as you did, meaning whether similar apartments get a similar price"
   ]
  },
  {
   "cell_type": "markdown",
   "id": "O3VJSoR9VseI",
   "metadata": {
    "id": "O3VJSoR9VseI"
   },
   "source": [
    "You are going to evaluate the clustering technique visually. The IDS team provides you with the following fancy code that reduces your input to two dimensions."
   ]
  },
  {
   "cell_type": "code",
   "execution_count": null,
   "id": "IaMFg-ogVvpZ",
   "metadata": {
    "colab": {
     "base_uri": "https://localhost:8080/"
    },
    "id": "IaMFg-ogVvpZ",
    "outputId": "36e6a0f2-75fb-4331-8337-c3c9fa893e02"
   },
   "outputs": [],
   "source": [
    "import umap.umap_ as umap\n",
    "\n",
    "#Preprocessing numerical\n",
    "full_data = x_train # use the train dataset here\n",
    "numerical = full_data.select_dtypes(exclude='object')\n",
    "\n",
    "for c in numerical.columns:\n",
    "    pt = sklearn.preprocessing.PowerTransformer()\n",
    "    numerical.loc[:, c] = pt.fit_transform(np.array(numerical[c]).reshape(-1, 1))\n",
    "    \n",
    "##preprocessing categorical\n",
    "categorical = full_data.select_dtypes(include='object')\n",
    "categorical = pd.get_dummies(categorical)\n",
    "\n",
    "#Percentage of columns which are categorical is used as weight parameter in embeddings later\n",
    "categorical_weight = len(full_data.select_dtypes(include='object').columns) / full_data.shape[1]\n",
    "\n",
    "#Embedding numerical & categorical\n",
    "fit1 = umap.UMAP(metric='l2').fit(numerical)\n",
    "fit2 = umap.UMAP(metric='dice').fit(categorical)\n",
    "\n",
    "#Augmenting the numerical embedding with categorical\n",
    "intersection = umap.general_simplicial_set_intersection(fit1.graph_, fit2.graph_, weight=categorical_weight)\n",
    "intersection = umap.reset_local_connectivity(intersection)\n",
    "embedding = umap.simplicial_set_embedding(fit1._raw_data, intersection, fit1.n_components,\n",
    "                                                fit1._initial_alpha, fit1._a, fit1._b,\n",
    "                                                fit1.repulsion_strength, fit1.negative_sample_rate,\n",
    "                                                200, 'random', np.random, fit1.metric,\n",
    "                                                fit1._metric_kwds, False, {}, False)\n",
    "\n",
    "# Extracting the resulting dimensions\n",
    "dimension1 = embedding[0].T[0]\n",
    "dimension2 = embedding[0].T[1]"
   ]
  },
  {
   "cell_type": "markdown",
   "id": "1ea842d4",
   "metadata": {},
   "source": [
    "Create a scatter plot from the two dimensions and use the cluster labels for coloring the data points. Use the train set for the visualization. Discuss the result."
   ]
  },
  {
   "cell_type": "code",
   "execution_count": null,
   "id": "f319f3d2",
   "metadata": {
    "id": "ly3THPi7PdLJ"
   },
   "outputs": [],
   "source": [
    "# Your answer goes here\n"
   ]
  },
  {
   "cell_type": "markdown",
   "id": "1c822564",
   "metadata": {},
   "source": [
    "_Answer:_\n",
    "\n"
   ]
  },
  {
   "cell_type": "markdown",
   "id": "EFNtFLuyV7yQ",
   "metadata": {
    "id": "EFNtFLuyV7yQ"
   },
   "source": [
    "We next evaluate whether similar apartments (considering the attributes we chose) get similar prices. To do this, we use our test set. Assign each apartment of the test set to the nearest centroid. Predict the price of the apartments in the test set by taking the mean price of the cluster they was assigned to. Calculate the mean absolute error between the predicted and real prices."
   ]
  },
  {
   "cell_type": "code",
   "execution_count": null,
   "id": "cf6ae627",
   "metadata": {
    "id": "ly3THPi7PdLJ"
   },
   "outputs": [],
   "source": [
    "# Your answer goes here\n"
   ]
  },
  {
   "cell_type": "markdown",
   "id": "qxrtlduTBkRQ",
   "metadata": {
    "id": "qxrtlduTBkRQ"
   },
   "source": [
    "### Final comments on the price prediction\n",
    "\n",
    "Please compare the three approaches used for determining the price. Do they provide a good way of determining the price?"
   ]
  },
  {
   "cell_type": "markdown",
   "id": "93dedc80",
   "metadata": {},
   "source": [
    "_Answer:_\n",
    "\n"
   ]
  },
  {
   "cell_type": "markdown",
   "id": "a6797ffe-8983-42d2-891d-7df7d8f9fc85",
   "metadata": {
    "id": "a6797ffe-8983-42d2-891d-7df7d8f9fc85"
   },
   "source": [
    "## Question 3: Investigating Price Elasticity"
   ]
  },
  {
   "cell_type": "markdown",
   "id": "88ca941f-cdf0-45fa-b930-b55a21c71e86",
   "metadata": {
    "id": "88ca941f-cdf0-45fa-b930-b55a21c71e86"
   },
   "source": [
    "You show your results to Toby, excited about the price suggestions you got from the decision tree and clustering. You decide to take the higher price, which naturally means more income.\n",
    "\n",
    "However, he points you to one central flaw in your thinking: The number of bookings is not independent of the price. Therefore, you can not just take any price and assume that this will lead to more income than a lower price, as the demand (utilization) for your apartment might decrease. This is called **price elasticity**.\n",
    "\n",
    "You want to verify what Toby has been telling you. You extracted the utilization column of your dataset by grabbing the available data from AirBnB's calendar (smart!). The utilization values are contained in dataset **AirBnB_utilization.csv**. **Show several graphs investigating price elasticity.** For example, you might plot the utilization in relation to the price and color according to different variable values. \n",
    "After you have verified Toby's statements, you want to learn price elasticity from the dataset (the utilization of an apartment given the price, the number of rooms, the room type, and the neighborhood group, i.e., the same features as before). With the learned price elasticity, you want to evaluate which of the proposed prices (decision tree or clustering) is the better choice."
   ]
  },
  {
   "cell_type": "code",
   "execution_count": 3,
   "id": "14e26b23",
   "metadata": {
    "id": "ly3THPi7PdLJ"
   },
   "outputs": [
    {
     "data": {
      "text/html": [
       "<div>\n",
       "<style scoped>\n",
       "    .dataframe tbody tr th:only-of-type {\n",
       "        vertical-align: middle;\n",
       "    }\n",
       "\n",
       "    .dataframe tbody tr th {\n",
       "        vertical-align: top;\n",
       "    }\n",
       "\n",
       "    .dataframe thead th {\n",
       "        text-align: right;\n",
       "    }\n",
       "</style>\n",
       "<table border=\"1\" class=\"dataframe\">\n",
       "  <thead>\n",
       "    <tr style=\"text-align: right;\">\n",
       "      <th></th>\n",
       "      <th>id</th>\n",
       "      <th>number rooms</th>\n",
       "      <th>room type</th>\n",
       "      <th>neighborhood group</th>\n",
       "      <th>price</th>\n",
       "      <th>utilization</th>\n",
       "    </tr>\n",
       "  </thead>\n",
       "  <tbody>\n",
       "    <tr>\n",
       "      <th>0</th>\n",
       "      <td>1002102</td>\n",
       "      <td>1</td>\n",
       "      <td>Entire home/apt</td>\n",
       "      <td>Manhattan</td>\n",
       "      <td>142</td>\n",
       "      <td>305.263673</td>\n",
       "    </tr>\n",
       "    <tr>\n",
       "      <th>1</th>\n",
       "      <td>1002403</td>\n",
       "      <td>1</td>\n",
       "      <td>Private room</td>\n",
       "      <td>Manhattan</td>\n",
       "      <td>620</td>\n",
       "      <td>86.294663</td>\n",
       "    </tr>\n",
       "    <tr>\n",
       "      <th>2</th>\n",
       "      <td>1002755</td>\n",
       "      <td>2</td>\n",
       "      <td>Entire home/apt</td>\n",
       "      <td>Brooklyn</td>\n",
       "      <td>368</td>\n",
       "      <td>129.287482</td>\n",
       "    </tr>\n",
       "    <tr>\n",
       "      <th>3</th>\n",
       "      <td>1003689</td>\n",
       "      <td>1</td>\n",
       "      <td>Entire home/apt</td>\n",
       "      <td>Manhattan</td>\n",
       "      <td>204</td>\n",
       "      <td>206.579601</td>\n",
       "    </tr>\n",
       "    <tr>\n",
       "      <th>4</th>\n",
       "      <td>1004650</td>\n",
       "      <td>1</td>\n",
       "      <td>Private room</td>\n",
       "      <td>Brooklyn</td>\n",
       "      <td>71</td>\n",
       "      <td>361.000000</td>\n",
       "    </tr>\n",
       "    <tr>\n",
       "      <th>...</th>\n",
       "      <td>...</td>\n",
       "      <td>...</td>\n",
       "      <td>...</td>\n",
       "      <td>...</td>\n",
       "      <td>...</td>\n",
       "      <td>...</td>\n",
       "    </tr>\n",
       "    <tr>\n",
       "      <th>70837</th>\n",
       "      <td>57353610</td>\n",
       "      <td>1</td>\n",
       "      <td>Private room</td>\n",
       "      <td>Queens</td>\n",
       "      <td>103</td>\n",
       "      <td>256.254940</td>\n",
       "    </tr>\n",
       "    <tr>\n",
       "      <th>70838</th>\n",
       "      <td>57358028</td>\n",
       "      <td>1</td>\n",
       "      <td>Private room</td>\n",
       "      <td>Queens</td>\n",
       "      <td>982</td>\n",
       "      <td>53.849882</td>\n",
       "    </tr>\n",
       "    <tr>\n",
       "      <th>70839</th>\n",
       "      <td>57358580</td>\n",
       "      <td>1</td>\n",
       "      <td>Private room</td>\n",
       "      <td>Queens</td>\n",
       "      <td>946</td>\n",
       "      <td>59.483494</td>\n",
       "    </tr>\n",
       "    <tr>\n",
       "      <th>70840</th>\n",
       "      <td>57359685</td>\n",
       "      <td>3</td>\n",
       "      <td>Entire home/apt</td>\n",
       "      <td>Manhattan</td>\n",
       "      <td>1043</td>\n",
       "      <td>128.349359</td>\n",
       "    </tr>\n",
       "    <tr>\n",
       "      <th>70841</th>\n",
       "      <td>57360237</td>\n",
       "      <td>3</td>\n",
       "      <td>Entire home/apt</td>\n",
       "      <td>Brooklyn</td>\n",
       "      <td>809</td>\n",
       "      <td>90.275969</td>\n",
       "    </tr>\n",
       "  </tbody>\n",
       "</table>\n",
       "<p>70842 rows × 6 columns</p>\n",
       "</div>"
      ],
      "text/plain": [
       "             id  number rooms        room type neighborhood group  price  \\\n",
       "0       1002102             1  Entire home/apt          Manhattan    142   \n",
       "1       1002403             1     Private room          Manhattan    620   \n",
       "2       1002755             2  Entire home/apt           Brooklyn    368   \n",
       "3       1003689             1  Entire home/apt          Manhattan    204   \n",
       "4       1004650             1     Private room           Brooklyn     71   \n",
       "...         ...           ...              ...                ...    ...   \n",
       "70837  57353610             1     Private room             Queens    103   \n",
       "70838  57358028             1     Private room             Queens    982   \n",
       "70839  57358580             1     Private room             Queens    946   \n",
       "70840  57359685             3  Entire home/apt          Manhattan   1043   \n",
       "70841  57360237             3  Entire home/apt           Brooklyn    809   \n",
       "\n",
       "       utilization  \n",
       "0       305.263673  \n",
       "1        86.294663  \n",
       "2       129.287482  \n",
       "3       206.579601  \n",
       "4       361.000000  \n",
       "...            ...  \n",
       "70837   256.254940  \n",
       "70838    53.849882  \n",
       "70839    59.483494  \n",
       "70840   128.349359  \n",
       "70841    90.275969  \n",
       "\n",
       "[70842 rows x 6 columns]"
      ]
     },
     "execution_count": 3,
     "metadata": {},
     "output_type": "execute_result"
    }
   ],
   "source": [
    "# Your answer goes here\n",
    "# Import the utilization data set\n",
    "df_util = pd.read_csv('AirBnB_utilization.csv')\n",
    "df_util"
   ]
  },
  {
   "cell_type": "code",
   "execution_count": 10,
   "id": "b7b9b262",
   "metadata": {},
   "outputs": [],
   "source": [
    "# Helper function to plot price vs utilization colored by different attributes\n",
    "def plot_price_elasticity_by_att(df_util, price_col, util_col, att, xlabel='price', ylabel='utilization'):\n",
    "    groups = df_util.groupby(att)\n",
    "    for name, group in groups:\n",
    "        plt.scatter(group[price_col], group[util_col], label=name, alpha=0.5)\n",
    "        # alpha=0.5 because lot of points lie on each other\n",
    "    plt.title(f\"Price elasticity colored by {att}\")\n",
    "    plt.ylabel(ylabel)\n",
    "    plt.xlabel(xlabel)\n",
    "    plt.legend()\n",
    "    plt.show()"
   ]
  },
  {
   "cell_type": "code",
   "execution_count": 11,
   "id": "4ba89b60",
   "metadata": {},
   "outputs": [],
   "source": [
    "def plot_price_elasticity(df, price_col, util_col, atts, xlabel='price', ylabel='utilization'):\n",
    "    for att in atts:\n",
    "        plot_price_elasticity_by_att(df, price_col, util_col, att, xlabel, ylabel)"
   ]
  },
  {
   "cell_type": "code",
   "execution_count": 12,
   "id": "18a08871",
   "metadata": {},
   "outputs": [
    {
     "data": {
      "image/png": "[encoded data removed]",
      "text/plain": [
       "<Figure size 432x288 with 1 Axes>"
      ]
     },
     "metadata": {
      "needs_background": "light"
     },
     "output_type": "display_data"
    },
    {
     "data": {
      "image/png": "[encoded data removed]",
      "text/plain": [
       "<Figure size 432x288 with 1 Axes>"
      ]
     },
     "metadata": {
      "needs_background": "light"
     },
     "output_type": "display_data"
    },
    {
     "data": {
      "image/png": "[encoded data removed]",
      "text/plain": [
       "<Figure size 432x288 with 1 Axes>"
      ]
     },
     "metadata": {
      "needs_background": "light"
     },
     "output_type": "display_data"
    }
   ],
   "source": [
    "# Plot some graphs about price elasticity \n",
    "plot_price_elasticity(df_util, 'price', 'utilization', ['room type', 'number rooms', 'neighborhood group'])"
   ]
  },
  {
   "cell_type": "markdown",
   "id": "3014ad7a-a391-4485-9395-b69c3f081ee8",
   "metadata": {
    "id": "3014ad7a-a391-4485-9395-b69c3f081ee8"
   },
   "source": [
    "You will investigate the relationship between price and utilization in this subtask. First, you will train different models and choose the one that best predicts utilization for an apartment. Second, you will evaluate which of the proposed prices of decision tree and clustering prices were better, assuming that your model provides the correct utilization. Third, you will conclude your investigation and provide a pricing decision."
   ]
  },
  {
   "cell_type": "markdown",
   "id": "dc64c4de-fa5c-41fe-8bbe-3bb3c9008534",
   "metadata": {
    "id": "dc64c4de-fa5c-41fe-8bbe-3bb3c9008534"
   },
   "source": [
    "### Learning price elasticity\n",
    "You want to use different supervised learning techniques to learn price elasticity. You decide on linear regression, SVM, and multilayer perceptrons. However, you have to preprocess the data. Use the features of the neighborhood group, the room type, the number of rooms, and the price to predict the utilization. Split into training and testing data (test size 5%)."
   ]
  },
  {
   "cell_type": "markdown",
   "id": "UjOJNxt_UrQr",
   "metadata": {
    "id": "UjOJNxt_UrQr"
   },
   "source": [
    "Prepare the data set by splitting, one-hot encoding, and normalizing."
   ]
  },
  {
   "cell_type": "code",
   "execution_count": 4,
   "id": "7522c215",
   "metadata": {
    "id": "ly3THPi7PdLJ"
   },
   "outputs": [],
   "source": [
    "# Your answer goes here\n",
    "# One hot encoding\n",
    "df = pd.get_dummies(df_util)\n",
    "# Split to X (features) and y (target)\n",
    "# id should be left out\n",
    "X, y = df[set(df.columns) - set(['utilization', 'id'])], df['utilization']\n",
    "# IMPORTANT: Make sure column orders of X stays the same\n",
    "X = X[sorted(X.columns)]\n",
    "# Train test split with skrt skrt learn\n",
    "from sklearn.model_selection import train_test_split\n",
    "X_train_un, X_test_un, y_train, y_test = train_test_split(X, y, test_size=0.05, random_state=RANDOM_SEED)\n",
    "# Normalization\n",
    "from sklearn.preprocessing import MinMaxScaler\n",
    "scaler_train = MinMaxScaler()\n",
    "scaler_test = MinMaxScaler()\n",
    "X_train = scaler_train.fit_transform(X_train_un)\n",
    "X_test = scaler_test.fit_transform(X_test_un)"
   ]
  },
  {
   "cell_type": "markdown",
   "id": "JEKOoD10VF9y",
   "metadata": {
    "id": "JEKOoD10VF9y"
   },
   "source": [
    "For each technique, use 5-cross-fold validation and assess the performance on the test set. "
   ]
  },
  {
   "cell_type": "code",
   "execution_count": 62,
   "id": "b09d8725",
   "metadata": {},
   "outputs": [],
   "source": [
    "# Legacy code implementing GridSearchCV that we will keep for fun :-)\n",
    "\n",
    "# Helper to select best parameters for a classifier by \n",
    "# doing a grid search over specified params candidates.\n",
    "# For each param set, perform k-cross-fold and\n",
    "# then selecting the best param set by cross val score\n",
    "# import sys\n",
    "# from sklearn.model_selection import cross_val_score\n",
    "# def param_selection(classifier, param_sets, X, y, k=5):\n",
    "#     print(f\"Selecting best parameters for {classifier.__name__}\")\n",
    "#     param_keys = [] # Storing all keys in param_sets \n",
    "#     param_lens = [] # Storing all indices of corresponding param key\n",
    "#     for key, val in param_sets.items():\n",
    "#         param_keys.append(key)\n",
    "#         param_lens.append(tuple(range(len(val))))\n",
    "#     import itertools\n",
    "#     indices = list(itertools.product(*param_lens)) # All possible indices over param_sets\n",
    "#     best_score = -sys.maxsize\n",
    "#     best_candidate = None\n",
    "#     for index in indices:\n",
    "#         candidate = dict() # From the index, calculate current candidate\n",
    "#         for i in range(len(index)):\n",
    "#             candidate[param_keys[i]] = param_sets[param_keys[i]][index[i]]\n",
    "#         print(f\"Current candidate: {candidate}\")\n",
    "#         scores = cross_val_score(classifier(**candidate), X, y, scoring='neg_mean_absolute_error', cv=k, verbose=3, n_jobs=-1)\n",
    "#         avg_score = np.mean(scores) # Take average of the k-cross-fold scores\n",
    "#         print(f\"Candidate score: {avg_score}\")\n",
    "#         if avg_score > best_score:\n",
    "#             best_score = avg_score\n",
    "#             best_candidate = candidate\n",
    "#     print(f\"Best candidate: {best_candidate}\")\n",
    "#     return candidate"
   ]
  },
  {
   "cell_type": "markdown",
   "id": "c24bef91-6a16-4b09-a0e7-3069a687ed07",
   "metadata": {
    "id": "c24bef91-6a16-4b09-a0e7-3069a687ed07"
   },
   "source": [
    "#### Regression"
   ]
  },
  {
   "cell_type": "markdown",
   "id": "jK-Rpzm2kBEu",
   "metadata": {
    "id": "jK-Rpzm2kBEu"
   },
   "source": [
    "Learn a linear regression to predict the utilization of an AirBnB."
   ]
  },
  {
   "cell_type": "code",
   "execution_count": 5,
   "id": "37d648e1",
   "metadata": {
    "id": "ly3THPi7PdLJ"
   },
   "outputs": [
    {
     "name": "stdout",
     "output_type": "stream",
     "text": [
      "Fitting 5 folds for each of 1 candidates, totalling 5 fits\n",
      "[CV 1/5] END .......................n_jobs=-1;, score=-35.038 total time=   0.0s\n",
      "[CV 2/5] END .......................n_jobs=-1;, score=-35.408 total time=   0.0s\n",
      "[CV 3/5] END .......................n_jobs=-1;, score=-35.501 total time=   0.0s\n",
      "[CV 4/5] END .......................n_jobs=-1;, score=-35.098 total time=   0.0s\n",
      "[CV 5/5] END .......................n_jobs=-1;, score=-35.053 total time=   0.0s\n"
     ]
    },
    {
     "data": {
      "text/plain": [
       "{'n_jobs': -1}"
      ]
     },
     "execution_count": 5,
     "metadata": {},
     "output_type": "execute_result"
    }
   ],
   "source": [
    "# Your answer goes here\n",
    "# Selecting best parameters, for linear regression there are not many choices\n",
    "from sklearn.linear_model import LinearRegression\n",
    "from sklearn.model_selection import GridSearchCV\n",
    "import sklearn\n",
    "params_linreg = {\n",
    "    'n_jobs': [-1]\n",
    "}\n",
    "linreg_gscv = GridSearchCV(LinearRegression(), params_linreg, scoring='neg_mean_absolute_error', cv=5, verbose=3)\n",
    "linreg_gscv.fit(X_train, y_train)\n",
    "best_params_linreg = linreg_gscv.best_params_\n",
    "best_params_linreg"
   ]
  },
  {
   "cell_type": "code",
   "execution_count": 6,
   "id": "2bd9e7f2",
   "metadata": {},
   "outputs": [],
   "source": [
    "# Train a linear regression model\n",
    "linreg = LinearRegression(**best_params_linreg)\n",
    "linreg.fit(X_train, y_train)\n",
    "# Predict for test data\n",
    "y_pred_linreg = linreg.predict(X_test)"
   ]
  },
  {
   "cell_type": "markdown",
   "id": "KXaCxzVRkQT9",
   "metadata": {
    "id": "KXaCxzVRkQT9"
   },
   "source": [
    "What is the mean absolute error achieved on the test data?"
   ]
  },
  {
   "cell_type": "code",
   "execution_count": 7,
   "id": "f11f7bf2",
   "metadata": {
    "id": "ly3THPi7PdLJ"
   },
   "outputs": [
    {
     "name": "stdout",
     "output_type": "stream",
     "text": [
      "The mean absolute error achieved by linear regression on test data is 35.39191461742365\n"
     ]
    }
   ],
   "source": [
    "# Your answer goes here\n",
    "from sklearn.metrics import mean_absolute_error\n",
    "mae_linreg = mean_absolute_error(y_test, y_pred_linreg)\n",
    "print(f\"The mean absolute error achieved by linear regression on test data is {mae_linreg}\")"
   ]
  },
  {
   "cell_type": "markdown",
   "id": "Qod_TrT-kW8H",
   "metadata": {
    "id": "Qod_TrT-kW8H"
   },
   "source": [
    "Show (draw!) the price elasticity for your apartment. "
   ]
  },
  {
   "cell_type": "markdown",
   "id": "0661112e",
   "metadata": {},
   "source": [
    "Comments from group 420: \"Our\" apartment has 2 rooms and is located in Manhattan neighborhood. Based on the question, its appropriate room type would be entire home/apt. To draw the price elasticity, we create a dataset where every data point has an encoding representing a 2-room Manhattan apartment and the price ranges from 50 to 1200 (min to max price). This data set then goes through normalization and can be used to plot price elasticity."
   ]
  },
  {
   "cell_type": "code",
   "execution_count": 8,
   "id": "8c7a1634",
   "metadata": {},
   "outputs": [
    {
     "data": {
      "text/html": [
       "<div>\n",
       "<style scoped>\n",
       "    .dataframe tbody tr th:only-of-type {\n",
       "        vertical-align: middle;\n",
       "    }\n",
       "\n",
       "    .dataframe tbody tr th {\n",
       "        vertical-align: top;\n",
       "    }\n",
       "\n",
       "    .dataframe thead th {\n",
       "        text-align: right;\n",
       "    }\n",
       "</style>\n",
       "<table border=\"1\" class=\"dataframe\">\n",
       "  <thead>\n",
       "    <tr style=\"text-align: right;\">\n",
       "      <th></th>\n",
       "      <th>neighborhood group_Bronx</th>\n",
       "      <th>neighborhood group_Brooklyn</th>\n",
       "      <th>neighborhood group_Manhattan</th>\n",
       "      <th>neighborhood group_Queens</th>\n",
       "      <th>neighborhood group_Staten Island</th>\n",
       "      <th>number rooms</th>\n",
       "      <th>price</th>\n",
       "      <th>room type_Entire home/apt</th>\n",
       "      <th>room type_Hotel room</th>\n",
       "      <th>room type_Private room</th>\n",
       "      <th>room type_Shared room</th>\n",
       "    </tr>\n",
       "  </thead>\n",
       "  <tbody>\n",
       "    <tr>\n",
       "      <th>23447</th>\n",
       "      <td>0</td>\n",
       "      <td>0</td>\n",
       "      <td>1</td>\n",
       "      <td>0</td>\n",
       "      <td>0</td>\n",
       "      <td>3</td>\n",
       "      <td>887</td>\n",
       "      <td>1</td>\n",
       "      <td>0</td>\n",
       "      <td>0</td>\n",
       "      <td>0</td>\n",
       "    </tr>\n",
       "    <tr>\n",
       "      <th>44487</th>\n",
       "      <td>0</td>\n",
       "      <td>0</td>\n",
       "      <td>1</td>\n",
       "      <td>0</td>\n",
       "      <td>0</td>\n",
       "      <td>1</td>\n",
       "      <td>640</td>\n",
       "      <td>0</td>\n",
       "      <td>0</td>\n",
       "      <td>1</td>\n",
       "      <td>0</td>\n",
       "    </tr>\n",
       "    <tr>\n",
       "      <th>2706</th>\n",
       "      <td>0</td>\n",
       "      <td>0</td>\n",
       "      <td>1</td>\n",
       "      <td>0</td>\n",
       "      <td>0</td>\n",
       "      <td>1</td>\n",
       "      <td>439</td>\n",
       "      <td>1</td>\n",
       "      <td>0</td>\n",
       "      <td>0</td>\n",
       "      <td>0</td>\n",
       "    </tr>\n",
       "    <tr>\n",
       "      <th>60541</th>\n",
       "      <td>0</td>\n",
       "      <td>0</td>\n",
       "      <td>1</td>\n",
       "      <td>0</td>\n",
       "      <td>0</td>\n",
       "      <td>1</td>\n",
       "      <td>184</td>\n",
       "      <td>0</td>\n",
       "      <td>0</td>\n",
       "      <td>1</td>\n",
       "      <td>0</td>\n",
       "    </tr>\n",
       "    <tr>\n",
       "      <th>1877</th>\n",
       "      <td>0</td>\n",
       "      <td>1</td>\n",
       "      <td>0</td>\n",
       "      <td>0</td>\n",
       "      <td>0</td>\n",
       "      <td>1</td>\n",
       "      <td>411</td>\n",
       "      <td>1</td>\n",
       "      <td>0</td>\n",
       "      <td>0</td>\n",
       "      <td>0</td>\n",
       "    </tr>\n",
       "    <tr>\n",
       "      <th>...</th>\n",
       "      <td>...</td>\n",
       "      <td>...</td>\n",
       "      <td>...</td>\n",
       "      <td>...</td>\n",
       "      <td>...</td>\n",
       "      <td>...</td>\n",
       "      <td>...</td>\n",
       "      <td>...</td>\n",
       "      <td>...</td>\n",
       "      <td>...</td>\n",
       "      <td>...</td>\n",
       "    </tr>\n",
       "    <tr>\n",
       "      <th>14260</th>\n",
       "      <td>0</td>\n",
       "      <td>1</td>\n",
       "      <td>0</td>\n",
       "      <td>0</td>\n",
       "      <td>0</td>\n",
       "      <td>1</td>\n",
       "      <td>433</td>\n",
       "      <td>0</td>\n",
       "      <td>0</td>\n",
       "      <td>1</td>\n",
       "      <td>0</td>\n",
       "    </tr>\n",
       "    <tr>\n",
       "      <th>63370</th>\n",
       "      <td>0</td>\n",
       "      <td>1</td>\n",
       "      <td>0</td>\n",
       "      <td>0</td>\n",
       "      <td>0</td>\n",
       "      <td>1</td>\n",
       "      <td>247</td>\n",
       "      <td>0</td>\n",
       "      <td>0</td>\n",
       "      <td>1</td>\n",
       "      <td>0</td>\n",
       "    </tr>\n",
       "    <tr>\n",
       "      <th>65615</th>\n",
       "      <td>0</td>\n",
       "      <td>0</td>\n",
       "      <td>1</td>\n",
       "      <td>0</td>\n",
       "      <td>0</td>\n",
       "      <td>1</td>\n",
       "      <td>896</td>\n",
       "      <td>0</td>\n",
       "      <td>0</td>\n",
       "      <td>0</td>\n",
       "      <td>1</td>\n",
       "    </tr>\n",
       "    <tr>\n",
       "      <th>56088</th>\n",
       "      <td>0</td>\n",
       "      <td>0</td>\n",
       "      <td>0</td>\n",
       "      <td>1</td>\n",
       "      <td>0</td>\n",
       "      <td>2</td>\n",
       "      <td>859</td>\n",
       "      <td>1</td>\n",
       "      <td>0</td>\n",
       "      <td>0</td>\n",
       "      <td>0</td>\n",
       "    </tr>\n",
       "    <tr>\n",
       "      <th>38408</th>\n",
       "      <td>0</td>\n",
       "      <td>0</td>\n",
       "      <td>0</td>\n",
       "      <td>1</td>\n",
       "      <td>0</td>\n",
       "      <td>2</td>\n",
       "      <td>703</td>\n",
       "      <td>1</td>\n",
       "      <td>0</td>\n",
       "      <td>0</td>\n",
       "      <td>0</td>\n",
       "    </tr>\n",
       "  </tbody>\n",
       "</table>\n",
       "<p>67299 rows × 11 columns</p>\n",
       "</div>"
      ],
      "text/plain": [
       "       neighborhood group_Bronx  neighborhood group_Brooklyn  \\\n",
       "23447                         0                            0   \n",
       "44487                         0                            0   \n",
       "2706                          0                            0   \n",
       "60541                         0                            0   \n",
       "1877                          0                            1   \n",
       "...                         ...                          ...   \n",
       "14260                         0                            1   \n",
       "63370                         0                            1   \n",
       "65615                         0                            0   \n",
       "56088                         0                            0   \n",
       "38408                         0                            0   \n",
       "\n",
       "       neighborhood group_Manhattan  neighborhood group_Queens  \\\n",
       "23447                             1                          0   \n",
       "44487                             1                          0   \n",
       "2706                              1                          0   \n",
       "60541                             1                          0   \n",
       "1877                              0                          0   \n",
       "...                             ...                        ...   \n",
       "14260                             0                          0   \n",
       "63370                             0                          0   \n",
       "65615                             1                          0   \n",
       "56088                             0                          1   \n",
       "38408                             0                          1   \n",
       "\n",
       "       neighborhood group_Staten Island  number rooms  price  \\\n",
       "23447                                 0             3    887   \n",
       "44487                                 0             1    640   \n",
       "2706                                  0             1    439   \n",
       "60541                                 0             1    184   \n",
       "1877                                  0             1    411   \n",
       "...                                 ...           ...    ...   \n",
       "14260                                 0             1    433   \n",
       "63370                                 0             1    247   \n",
       "65615                                 0             1    896   \n",
       "56088                                 0             2    859   \n",
       "38408                                 0             2    703   \n",
       "\n",
       "       room type_Entire home/apt  room type_Hotel room  \\\n",
       "23447                          1                     0   \n",
       "44487                          0                     0   \n",
       "2706                           1                     0   \n",
       "60541                          0                     0   \n",
       "1877                           1                     0   \n",
       "...                          ...                   ...   \n",
       "14260                          0                     0   \n",
       "63370                          0                     0   \n",
       "65615                          0                     0   \n",
       "56088                          1                     0   \n",
       "38408                          1                     0   \n",
       "\n",
       "       room type_Private room  room type_Shared room  \n",
       "23447                       0                      0  \n",
       "44487                       1                      0  \n",
       "2706                        0                      0  \n",
       "60541                       1                      0  \n",
       "1877                        0                      0  \n",
       "...                       ...                    ...  \n",
       "14260                       1                      0  \n",
       "63370                       1                      0  \n",
       "65615                       0                      1  \n",
       "56088                       0                      0  \n",
       "38408                       0                      0  \n",
       "\n",
       "[67299 rows x 11 columns]"
      ]
     },
     "execution_count": 8,
     "metadata": {},
     "output_type": "execute_result"
    }
   ],
   "source": [
    "# We first see the unnormalized data to understand how categorical attributes are encoded\n",
    "X_train_un"
   ]
  },
  {
   "cell_type": "code",
   "execution_count": 9,
   "id": "b0039670",
   "metadata": {},
   "outputs": [
    {
     "data": {
      "text/plain": [
       "array([0.        , 0.        , 1.        , 0.        , 0.        ,\n",
       "       0.33333333, 0.02956522, 1.        , 0.        , 0.        ,\n",
       "       0.        ])"
      ]
     },
     "execution_count": 9,
     "metadata": {},
     "output_type": "execute_result"
    }
   ],
   "source": [
    "# From this, an unnormalized encoding of our apartment would be\n",
    "# [0, 0, 1, 0, 0, 2, price, 1, 0, 0, 0]\n",
    "# We now implement this encoding in a dataset X_our\n",
    "prices = np.arange(50, 1201, 1)\n",
    "X_our = np.zeros((1151, 11))\n",
    "X_our[:,6] = (prices-np.min(prices))/(np.max(prices)-np.min(prices)) # Manual normalization for price\n",
    "X_our[:,2] = 1\n",
    "X_our[:,7] = 1\n",
    "X_our[:,5] = (2-1)/(4-1) # Manual normalization for room\n",
    "X_our[34] # Print an example data point"
   ]
  },
  {
   "cell_type": "code",
   "execution_count": 10,
   "id": "5ee85945",
   "metadata": {
    "id": "ly3THPi7PdLJ"
   },
   "outputs": [
    {
     "data": {
      "image/png": "[encoded data removed]",
      "text/plain": [
       "<Figure size 432x288 with 1 Axes>"
      ]
     },
     "metadata": {
      "needs_background": "light"
     },
     "output_type": "display_data"
    }
   ],
   "source": [
    "# Your answer goes here\n",
    "# Predict utilization based on the linear regression model\n",
    "y_our_linreg = linreg.predict(X_our)\n",
    "plt.plot(prices, y_our_linreg)\n",
    "plt.title(\"Price elasticity based on linear regression\")\n",
    "plt.xlabel(\"price\")\n",
    "plt.ylabel(\"utilization predicted by linear regression\")\n",
    "plt.show()"
   ]
  },
  {
   "cell_type": "markdown",
   "id": "ae77f7d2-4752-49f8-b5e8-5bffda6e64d2",
   "metadata": {
    "id": "ae77f7d2-4752-49f8-b5e8-5bffda6e64d2"
   },
   "source": [
    "#### Linear SVR"
   ]
  },
  {
   "cell_type": "markdown",
   "id": "s0NzpYCzs8y9",
   "metadata": {
    "id": "s0NzpYCzs8y9"
   },
   "source": [
    "Train and evaluate a Linear SVR (Support Vector Regression) model."
   ]
  },
  {
   "cell_type": "code",
   "execution_count": 11,
   "id": "385ccf8e",
   "metadata": {
    "id": "ly3THPi7PdLJ"
   },
   "outputs": [
    {
     "name": "stdout",
     "output_type": "stream",
     "text": [
      "Fitting 5 folds for each of 12 candidates, totalling 60 fits\n"
     ]
    },
    {
     "data": {
      "text/plain": [
       "{'C': 2, 'epsilon': 0.0, 'tol': 0.0001}"
      ]
     },
     "execution_count": 11,
     "metadata": {},
     "output_type": "execute_result"
    }
   ],
   "source": [
    "# Your answer goes here\n",
    "# Perform grid search again to find best parameters set\n",
    "from sklearn.svm import LinearSVR\n",
    "params_linsvr = {\n",
    "    'epsilon': [0.0, 0.01, 0.05],\n",
    "    'tol': [1e-4, 1e-5],\n",
    "    'C': [1, 2]\n",
    "}\n",
    "linsvr_gscv = GridSearchCV(LinearSVR(random_state=RANDOM_SEED), params_linsvr, scoring='neg_mean_absolute_error', \n",
    "                           cv=5, verbose=3, n_jobs=-1)\n",
    "linsvr_gscv.fit(X_train, y_train)\n",
    "best_params_linsvr = linsvr_gscv.best_params_\n",
    "best_params_linsvr"
   ]
  },
  {
   "cell_type": "code",
   "execution_count": 12,
   "id": "e614cb07",
   "metadata": {},
   "outputs": [],
   "source": [
    "# Train a linear SVR model\n",
    "linsvr = LinearSVR(**best_params_linsvr)\n",
    "linsvr.fit(X_train, y_train)\n",
    "# Predict for test data\n",
    "y_pred_linsvr = linsvr.predict(X_test)"
   ]
  },
  {
   "cell_type": "markdown",
   "id": "YCccX3ZOdiiQ",
   "metadata": {
    "id": "YCccX3ZOdiiQ"
   },
   "source": [
    "What is the mean absolute error achieved on the test data?"
   ]
  },
  {
   "cell_type": "code",
   "execution_count": 13,
   "id": "2bbfe034",
   "metadata": {
    "id": "ly3THPi7PdLJ"
   },
   "outputs": [
    {
     "name": "stdout",
     "output_type": "stream",
     "text": [
      "The mean absolute error of linear SVR on test data is 32.53316448337848\n"
     ]
    }
   ],
   "source": [
    "# Your answer goes here\n",
    "mae_linsvr = mean_absolute_error(y_test, y_pred_linsvr)\n",
    "print(f\"The mean absolute error of linear SVR on test data is {mae_linsvr}\")"
   ]
  },
  {
   "cell_type": "markdown",
   "id": "akKwnMMgdrQX",
   "metadata": {
    "id": "akKwnMMgdrQX"
   },
   "source": [
    "Show (draw!) the price elasticity for your apartment. "
   ]
  },
  {
   "cell_type": "code",
   "execution_count": 14,
   "id": "48c2acb0",
   "metadata": {
    "id": "ly3THPi7PdLJ"
   },
   "outputs": [
    {
     "data": {
      "image/png": "[encoded data removed]",
      "text/plain": [
       "<Figure size 432x288 with 1 Axes>"
      ]
     },
     "metadata": {
      "needs_background": "light"
     },
     "output_type": "display_data"
    }
   ],
   "source": [
    "# Your answer goes here\n",
    "# Predict utilization based on the linear SVR model\n",
    "y_our_linsvr = linsvr.predict(X_our)\n",
    "plt.plot(prices, y_our_linsvr)\n",
    "plt.title(\"Price elasticity based on linear SVR\")\n",
    "plt.xlabel(\"price\")\n",
    "plt.ylabel(\"utilization predicted by linear SVR\")\n",
    "plt.show()"
   ]
  },
  {
   "cell_type": "markdown",
   "id": "d9737709-05dc-43e3-ad50-34d0bd89606c",
   "metadata": {},
   "source": [
    "#### Learning Non-Linear Relationships"
   ]
  },
  {
   "cell_type": "markdown",
   "id": "c50c7b78-3bf4-40cd-a8ca-1b6ca399df9f",
   "metadata": {},
   "source": [
    "You realize that learning linear relationships only provides limited performance. You want to learn non-linear relationships. First, you will learn non-linear relationships using linear regression and kernels. Second, you will use non-linear kernels in the Support Vector Regression. Third, you will use neural networks."
   ]
  },
  {
   "cell_type": "markdown",
   "id": "3f6422fa-115f-441e-a3bc-abdea38f4b25",
   "metadata": {},
   "source": [
    "#### Kernels in Regression"
   ]
  },
  {
   "cell_type": "markdown",
   "id": "e016dd91-0b6d-47d6-bf86-7485b3cd623c",
   "metadata": {},
   "source": [
    "Use a transformation of the price and a regression to incorporate non-linear relationships, as learned in the lecture. You can try different kernel functions, but at least you should use one quadratic kernel."
   ]
  },
  {
   "cell_type": "code",
   "execution_count": 15,
   "id": "02440e18-d727-4fb2-a8e5-aa3d0b79d58d",
   "metadata": {},
   "outputs": [],
   "source": [
    "# Your answer goes here\n",
    "# Prepare training set by adding kernel for price\n",
    "X2 = X.copy() # Prepare another df for this task\n",
    "X2['price^2'] = X2['price'].apply(lambda x: x**2) # quadratic kernel for price\n",
    "X2['price^3'] = X2['price'].apply(lambda x: x**3) # cubic kernel for price\n",
    "# Load the same indices of train and test set\n",
    "X2_train_un = X2.loc[X_train_un.index]\n",
    "X2_test_un = X2.loc[X_test_un.index]\n",
    "# Normalizarion\n",
    "scaler_train2 = MinMaxScaler()\n",
    "scaler_test2 = MinMaxScaler()\n",
    "X2_train = scaler_train2.fit_transform(X2_train_un)\n",
    "X2_test = scaler_test2.fit_transform(X2_test_un)"
   ]
  },
  {
   "cell_type": "code",
   "execution_count": 16,
   "id": "786bd1ac",
   "metadata": {},
   "outputs": [
    {
     "name": "stdout",
     "output_type": "stream",
     "text": [
      "Fitting 5 folds for each of 1 candidates, totalling 5 fits\n"
     ]
    }
   ],
   "source": [
    "# Run GridSearchCV (for formality)\n",
    "params_linreg_kern = {\n",
    "    'n_jobs': [-1]\n",
    "}\n",
    "linreg_kern_gscv = GridSearchCV(LinearRegression(), params_linreg_kern, scoring='neg_mean_absolute_error',\n",
    "                                cv=5, verbose=3, n_jobs=-1)\n",
    "linreg_kern_gscv.fit(X2_train, y_train)\n",
    "best_params_linreg_kern = linreg_kern_gscv.best_params_"
   ]
  },
  {
   "cell_type": "code",
   "execution_count": 17,
   "id": "e46ef8d4",
   "metadata": {},
   "outputs": [],
   "source": [
    "# Train linear regression on kernel-ed data\n",
    "linreg_kern = LinearRegression(**best_params_linreg_kern)\n",
    "linreg_kern.fit(X2_train, y_train)\n",
    "# Make predictions\n",
    "y_pred_linreg_kern = linreg_kern.predict(X2_test)"
   ]
  },
  {
   "cell_type": "markdown",
   "id": "2e28b4fb-b9f2-4408-983a-1053034003bc",
   "metadata": {},
   "source": [
    "What is the mean absolute error achieved on the test data?"
   ]
  },
  {
   "cell_type": "code",
   "execution_count": 18,
   "id": "f0e3ca24-6c5e-40c2-ad2d-e9d09670f573",
   "metadata": {},
   "outputs": [
    {
     "name": "stdout",
     "output_type": "stream",
     "text": [
      "The mean absolute error of linear regression with quadratic and cubic kernels on test data is 22.140992599454773\n"
     ]
    }
   ],
   "source": [
    "# Your answer goes here\n",
    "mae_linreg_kern = mean_absolute_error(y_test, y_pred_linreg_kern)\n",
    "print(f\"The mean absolute error of linear regression with quadratic and cubic kernels on test data is {mae_linreg_kern}\")"
   ]
  },
  {
   "cell_type": "markdown",
   "id": "dca155df-d2e2-4d0e-b8d0-db8e780828aa",
   "metadata": {},
   "source": [
    "Show (draw!) the price elasticity for your apartment. "
   ]
  },
  {
   "cell_type": "code",
   "execution_count": 19,
   "id": "d462859b-ae69-4799-bbb3-42ba65609b90",
   "metadata": {},
   "outputs": [
    {
     "data": {
      "image/png": "[encoded data removed]",
      "text/plain": [
       "<Figure size 432x288 with 1 Axes>"
      ]
     },
     "metadata": {
      "needs_background": "light"
     },
     "output_type": "display_data"
    }
   ],
   "source": [
    "# Your answer goes here\n",
    "# Adding normalized quadratic and cubic prices to X_our\n",
    "prices2 = prices**2\n",
    "prices3 = prices**3\n",
    "prices2 = (prices2-np.min(prices2))/(np.max(prices2)-np.min(prices2)) # Manual normalization, again :)\n",
    "prices3 = (prices3-np.min(prices3))/(np.max(prices3)-np.min(prices3))\n",
    "X2_our = np.hstack([X_our, np.expand_dims(prices, 1), np.expand_dims(prices3, 1)]) # Our apartment dataset with poly kernels\n",
    "y_our_linreg_kern = linreg_kern.predict(X2_our) # Predictions made by kernelized linear regression\n",
    "plt.plot(prices2, y_our_linreg)\n",
    "plt.title(\"Price elasticity based on kernelized linear regression\")\n",
    "plt.xlabel(\"price\")\n",
    "plt.ylabel(\"utilization predicted by \\n kernelized linear regression\")\n",
    "plt.show()"
   ]
  },
  {
   "cell_type": "markdown",
   "id": "39ad54ac-0056-4204-bae4-f4098e5f1175",
   "metadata": {
    "id": "ae77f7d2-4752-49f8-b5e8-5bffda6e64d2"
   },
   "source": [
    "#### Kernels in SVR"
   ]
  },
  {
   "cell_type": "markdown",
   "id": "61e205a3-ed09-4dfd-9d38-95cf7ef048e5",
   "metadata": {
    "id": "s0NzpYCzs8y9"
   },
   "source": [
    "Train and evaluate an SVR (Support Vector Regression) model with different, non-linear kernels. You can limit the size of your training set to 25000 samples to make the problem feasible in computation time."
   ]
  },
  {
   "cell_type": "code",
   "execution_count": 20,
   "id": "8fc03286-feeb-413e-8389-fede8fe8d11a",
   "metadata": {
    "id": "ly3THPi7PdLJ"
   },
   "outputs": [
    {
     "name": "stdout",
     "output_type": "stream",
     "text": [
      "Fitting 5 folds for each of 3 candidates, totalling 15 fits\n"
     ]
    },
    {
     "data": {
      "text/plain": [
       "{'C': 1, 'epsilon': 0.1, 'kernel': 'poly', 'tol': 0.001}"
      ]
     },
     "execution_count": 20,
     "metadata": {},
     "output_type": "execute_result"
    }
   ],
   "source": [
    "# Your answer goes here\n",
    "# Perform grid search again to find best parameters set\n",
    "from sklearn.svm import SVR\n",
    "params_svr_kern = {\n",
    "    'kernel': ['rbf', 'sigmoid', 'poly'],\n",
    "    'epsilon': [0.1],\n",
    "    'tol': [1e-3],\n",
    "    'C': [1]\n",
    "}\n",
    "svr_kern_gscv = GridSearchCV(SVR(), params_svr_kern, scoring='neg_mean_absolute_error', \n",
    "                             cv=5, verbose=3, n_jobs=-1)\n",
    "svr_kern_gscv.fit(X_train[:25000], y_train[:25000])\n",
    "best_params_svr_kern = svr_kern_gscv.best_params_\n",
    "best_params_svr_kern"
   ]
  },
  {
   "cell_type": "code",
   "execution_count": 21,
   "id": "566e2365",
   "metadata": {},
   "outputs": [],
   "source": [
    "# Train a kernelized SVR model\n",
    "svr_kern = SVR(**best_params_svr_kern)\n",
    "svr_kern.fit(X_train[:25000], y_train[:25000])\n",
    "# Predict for test data\n",
    "y_pred_svr_kern = svr_kern.predict(X_test)"
   ]
  },
  {
   "cell_type": "markdown",
   "id": "53fb862b-97c2-42fa-9f44-f58cdbb95cba",
   "metadata": {
    "id": "YCccX3ZOdiiQ"
   },
   "source": [
    "What is the mean absolute error achieved on the test data?"
   ]
  },
  {
   "cell_type": "code",
   "execution_count": 28,
   "id": "05343b84-1597-41b7-b7b6-4fa7bc5e7e82",
   "metadata": {
    "id": "ly3THPi7PdLJ"
   },
   "outputs": [
    {
     "name": "stdout",
     "output_type": "stream",
     "text": [
      "The mean absolute error of kernelized SVR on test data is 30.442801422516375\n"
     ]
    }
   ],
   "source": [
    "# Your answer goes here\n",
    "mae_svr_kern = mean_absolute_error(y_test, y_pred_svr_kern)\n",
    "print(f\"The mean absolute error of kernelized SVR on test data is {mae_svr_kern}\")"
   ]
  },
  {
   "cell_type": "markdown",
   "id": "3f9f3d21-40ab-4aa5-9b0b-e40e7fcc00e8",
   "metadata": {
    "id": "akKwnMMgdrQX"
   },
   "source": [
    "Show (draw!) the price elasticity for your apartment. "
   ]
  },
  {
   "cell_type": "code",
   "execution_count": 23,
   "id": "42c2da55-efb6-410a-8c37-56bf4abaf043",
   "metadata": {
    "id": "ly3THPi7PdLJ"
   },
   "outputs": [
    {
     "data": {
      "image/png": "[encoded data removed]",
      "text/plain": [
       "<Figure size 432x288 with 1 Axes>"
      ]
     },
     "metadata": {
      "needs_background": "light"
     },
     "output_type": "display_data"
    }
   ],
   "source": [
    "# Your answer goes here\n",
    "y_our_svr_kern = svr_kern.predict(X_our)\n",
    "plt.plot(prices, y_our_svr_kern)\n",
    "plt.title(\"Price elasticity based on kernelized SVR\")\n",
    "plt.xlabel(\"price\")\n",
    "plt.ylabel(\"utilization predicted by kernelized SVR\")\n",
    "plt.show()"
   ]
  },
  {
   "cell_type": "markdown",
   "id": "d43359b3-a2a4-4cda-90a8-0f66b04aa3fb",
   "metadata": {},
   "source": [
    "What is your conclusion on using kernels?"
   ]
  },
  {
   "cell_type": "markdown",
   "id": "a01dafcb-ce55-453c-a158-a46ab8bbfd1e",
   "metadata": {},
   "source": [
    "_Answer:_ In both the cases of linear regression and SVR, we see that the mean absolute error loss has improved with the use of kernels, especially for linear regression. Hence, using kernels improve the performance of the regressor.\n",
    "\n"
   ]
  },
  {
   "cell_type": "markdown",
   "id": "39ea35b3-b236-429d-81cb-17fd6877aed4",
   "metadata": {
    "id": "39ea35b3-b236-429d-81cb-17fd6877aed4"
   },
   "source": [
    "#### Neural Network"
   ]
  },
  {
   "cell_type": "markdown",
   "id": "79IHOFdbkmN-",
   "metadata": {
    "id": "79IHOFdbkmN-"
   },
   "source": [
    "Learn a neural network (multilayer perceptron) to predict the utilization of an AirBnB."
   ]
  },
  {
   "cell_type": "code",
   "execution_count": 26,
   "id": "d963fd7e",
   "metadata": {
    "id": "ly3THPi7PdLJ"
   },
   "outputs": [
    {
     "name": "stdout",
     "output_type": "stream",
     "text": [
      "Fitting 5 folds for each of 24 candidates, totalling 120 fits\n"
     ]
    },
    {
     "data": {
      "text/plain": [
       "{'activation': 'tanh',\n",
       " 'hidden_layer_sizes': 30,\n",
       " 'learning_rate': 'adaptive',\n",
       " 'solver': 'sgd'}"
      ]
     },
     "execution_count": 26,
     "metadata": {},
     "output_type": "execute_result"
    }
   ],
   "source": [
    "# Your answer goes here\n",
    "# Find best params for NN\n",
    "from sklearn.neural_network import MLPRegressor\n",
    "params_nn = {\n",
    "    'hidden_layer_sizes': [20, 30],\n",
    "    'activation': ['identity', 'tanh', 'relu'],\n",
    "    'solver': ['sgd', 'adam'],\n",
    "    'learning_rate': ['constant', 'adaptive']\n",
    "}\n",
    "nn_gscv = GridSearchCV(MLPRegressor(), params_nn, scoring='neg_mean_absolute_error', \n",
    "                       cv=5, verbose=3, n_jobs=-1)\n",
    "nn_gscv.fit(X_train, y_train)\n",
    "best_params_nn = nn_gscv.best_params_\n",
    "best_params_nn"
   ]
  },
  {
   "cell_type": "code",
   "execution_count": 27,
   "id": "088b7050",
   "metadata": {},
   "outputs": [],
   "source": [
    "# Train a neural network with the best paramters found\n",
    "nn = MLPRegressor(**best_params_nn)\n",
    "nn.fit(X_train, y_train)\n",
    "# Predict for test data\n",
    "y_pred_nn = nn.predict(X_test)"
   ]
  },
  {
   "cell_type": "markdown",
   "id": "NEh_vR3gkyZG",
   "metadata": {
    "id": "NEh_vR3gkyZG"
   },
   "source": [
    "What is the mean absolute error achieved on the test data?"
   ]
  },
  {
   "cell_type": "code",
   "execution_count": 29,
   "id": "3660d9c1",
   "metadata": {
    "id": "ly3THPi7PdLJ"
   },
   "outputs": [
    {
     "name": "stdout",
     "output_type": "stream",
     "text": [
      "The mean absolute error of neural network on test data is 18.987066383527495\n"
     ]
    }
   ],
   "source": [
    "# Your answer goes here\n",
    "mae_nn = mean_absolute_error(y_test, y_pred_nn)\n",
    "print(f\"The mean absolute error of neural network on test data is {mae_nn}\")"
   ]
  },
  {
   "cell_type": "markdown",
   "id": "PUwlWri4kzze",
   "metadata": {
    "id": "PUwlWri4kzze"
   },
   "source": [
    "Show (draw!) the price elasticity for your apartment. "
   ]
  },
  {
   "cell_type": "code",
   "execution_count": 30,
   "id": "9d42d222",
   "metadata": {
    "id": "ly3THPi7PdLJ"
   },
   "outputs": [
    {
     "data": {
      "image/png": "[encoded data removed]",
      "text/plain": [
       "<Figure size 432x288 with 1 Axes>"
      ]
     },
     "metadata": {
      "needs_background": "light"
     },
     "output_type": "display_data"
    }
   ],
   "source": [
    "# Your answer goes here\n",
    "y_our_nn = nn.predict(X_our)\n",
    "plt.plot(prices, y_our_nn)\n",
    "plt.title(\"Price elasticity based on neural network\")\n",
    "plt.xlabel(\"price\")\n",
    "plt.ylabel(\"utilization predicted by neural network\")\n",
    "plt.show()"
   ]
  },
  {
   "cell_type": "markdown",
   "id": "7e9c469a-9ef3-45b5-a225-ff4109086d16",
   "metadata": {
    "id": "7e9c469a-9ef3-45b5-a225-ff4109086d16"
   },
   "source": [
    "### Profit discrepencies when incorporating price elasticity"
   ]
  },
  {
   "cell_type": "markdown",
   "id": "OmfvMMkWk-Dt",
   "metadata": {
    "id": "OmfvMMkWk-Dt"
   },
   "source": [
    "Use the model that best captures price elasticity on the testing set. You can assume that this model accurately captures price elasticity, i.e., is the ground truth. What is the better of the two proposed prices? Is the better price the optimal price?"
   ]
  },
  {
   "cell_type": "code",
   "execution_count": null,
   "id": "d0b855ae",
   "metadata": {
    "id": "ly3THPi7PdLJ"
   },
   "outputs": [],
   "source": [
    "# Your answer goes here\n"
   ]
  },
  {
   "cell_type": "markdown",
   "id": "4878657a",
   "metadata": {},
   "source": [
    "_Answer:_\n",
    "\n"
   ]
  },
  {
   "cell_type": "markdown",
   "id": "8827d79d-7f99-4e6c-af6c-9ba7ff7509bc",
   "metadata": {
    "id": "8827d79d-7f99-4e6c-af6c-9ba7ff7509bc"
   },
   "source": [
    "# Question 4: Conclusion"
   ]
  },
  {
   "cell_type": "markdown",
   "id": "38a971e0-7b6b-414f-a845-5379cd705838",
   "metadata": {
    "id": "38a971e0-7b6b-414f-a845-5379cd705838"
   },
   "source": [
    "Summarize your findings and discuss limitations."
   ]
  },
  {
   "cell_type": "markdown",
   "id": "d5c1c314",
   "metadata": {},
   "source": [
    "_Answer:_ \n",
    "\n"
   ]
  }
 ],
 "metadata": {
  "colab": {
   "collapsed_sections": [],
   "provenance": []
  },
  "kernelspec": {
   "display_name": "Python 3 (ipykernel)",
   "language": "python",
   "name": "python3"
  },
  "language_info": {
   "codemirror_mode": {
    "name": "ipython",
    "version": 3
   },
   "file_extension": ".py",
   "mimetype": "text/x-python",
   "name": "python",
   "nbconvert_exporter": "python",
   "pygments_lexer": "ipython3",
   "version": "3.8.10"
  }
 },
 "nbformat": 4,
 "nbformat_minor": 5
}
