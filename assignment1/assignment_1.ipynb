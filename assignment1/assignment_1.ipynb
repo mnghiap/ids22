{
 "cells": [
  {
   "cell_type": "markdown",
   "id": "3c531158",
   "metadata": {},
   "source": [
    "# IDS Assignment Part 1 - <font color=\"red\"><h7>Deadline: 18/12/2022 23:59</h7></font>\n",
    "This is the first part of the assignments in IDS 2022/2023. \n",
    "Please use this Jupyter notebook to work on the questions posed in the assignment. When you are done, upload the notebook in Moodle at the designated activity. This is the _only_ file that is required. A separate report is _not_ needed and will not be considered for grading. \n",
    "\n",
    "Give your commented Python code and answers in the corresponding provided cells. Make sure to answer all questions in a clear and explicit manner and discuss your outputs. _Please do not change the general structure of this notebook_. You can, however, add additional markdown or code cells if necessary. <b>Please DO NOT CLEAR THE OUTPUT of the notebook you are submitting! </b>\n",
    "\n",
    "<font color=\"red\"> *Please make sure to include the names and matriculation numbers of all group members in the slot provided below.* </font> If a name or a student id is missing, the student will not receive any points.\n",
    "\n",
    "Hint 1: While working on the assignment, you will get a better understanding of the dataset. Feel free to generate additional results and visualizations to support your answers. For example, this might be useful regarding data modification, data simplification, or output interpretation. <font color=\"red\">Ensure that all your claims are supported.</font>\n",
    "\n",
    "Hint 2: <font color=\"red\">Plan your time wisely. </font> A few parts of this assignment may take some time to run. It might be necessary to consider time management when you plan your group work. Also, do not attempt to upload your assignment at the last minute before the deadline. This often does not work, and you will miss the deadline. Late submissions will not be considered.\n",
    "\n",
    "Hint 3: RWTHmoodle allows multiple submissions, with every new submission overwriting the previous one. <b>Partial submissions are therefore possible and encouraged. </b> This might be helpful in case of technical issues with RWTHMoodle, which may occur close to the deadline."
   ]
  },
  {
   "cell_type": "markdown",
   "id": "9e826e43",
   "metadata": {},
   "source": [
    "<font color=\"red\"><b>Student Names and IDs:\n",
    "    \n",
    "    1. Minh Nghia Phan, 394806\n",
    "    \n",
    "    2. \n",
    "    \n",
    "    3."
   ]
  },
  {
   "cell_type": "markdown",
   "id": "171c05f0",
   "metadata": {},
   "source": [
    "For those using Jupyter Notebook in your local environments, please install the following library in your environment:\n",
    "```pip install umap-learn==0.5.3```"
   ]
  },
  {
   "cell_type": "code",
   "execution_count": 1,
   "id": "ab570761-1a8a-4c62-8de2-534f88604bb8",
   "metadata": {
    "colab": {
     "base_uri": "https://localhost:8080/"
    },
    "id": "ab570761-1a8a-4c62-8de2-534f88604bb8",
    "outputId": "a8278aa6-aa87-4cea-c7f7-10ab381b364f"
   },
   "outputs": [],
   "source": [
    "#your imports (only use libraries provided in the environment)\n",
    "import pandas as pd\n",
    "import numpy as np\n",
    "import matplotlib.pyplot as plt\n",
    "import seaborn as sns\n",
    "import sklearn\n",
    "\n",
    "# set global random seed\n",
    "RANDOM_SEED = 100"
   ]
  },
  {
   "cell_type": "markdown",
   "id": "le9qm43wNPGY",
   "metadata": {
    "id": "le9qm43wNPGY"
   },
   "source": [
    "# Pricing your AirBnB"
   ]
  },
  {
   "cell_type": "markdown",
   "id": "8dfa8631-4eba-4472-b981-510d243e1b2b",
   "metadata": {
    "id": "8dfa8631-4eba-4472-b981-510d243e1b2b"
   },
   "source": [
    "You finally made it! Working as a data scientist at an established process mining company in New York, you earned so much money that you can buy a flat for yourself. You decide to buy a 2-room apartment in Manhattan. Congratulations!\n",
    "\n",
    "Currently, you are still living in your rental apartment and are tied to a long-running rental contract. You can only use the apartment in 5 years from now. Therefore, you want to use the apartment as an AirBnB in the meantime, generating some consistent income. \n",
    "\n",
    "\n",
    "You have no clue how you should price your AirBnB per night (you are living in New York, so you never needed to book an AirBnB). You decide to leverage your unique skill set and perform a data-driven, informed decision. You collect all the data you can get your hands on by traversing all New York apartments. The retrieved data set **AirBnB_original.csv** is your starting point for investigation."
   ]
  },
  {
   "cell_type": "markdown",
   "id": "7e21b607-828f-47b4-a57a-18b6ccab6322",
   "metadata": {
    "id": "7e21b607-828f-47b4-a57a-18b6ccab6322"
   },
   "source": [
    "## Question 1: Exploring the Data Set"
   ]
  },
  {
   "cell_type": "markdown",
   "id": "3a79e889",
   "metadata": {
    "id": "3a79e889"
   },
   "source": [
    "As with every data set, you first want to know what you are dealing with. You perform some exploratory data analysis and clean the data along the way."
   ]
  },
  {
   "cell_type": "markdown",
   "id": "8L8J85EfPRoZ",
   "metadata": {
    "id": "8L8J85EfPRoZ"
   },
   "source": [
    "Show a few data points contained in the data set. Include all attributes."
   ]
  },
  {
   "cell_type": "code",
   "execution_count": 2,
   "id": "ly3THPi7PdLJ",
   "metadata": {
    "id": "ly3THPi7PdLJ"
   },
   "outputs": [
    {
     "data": {
      "text/html": [
       "<div>\n",
       "<style scoped>\n",
       "    .dataframe tbody tr th:only-of-type {\n",
       "        vertical-align: middle;\n",
       "    }\n",
       "\n",
       "    .dataframe tbody tr th {\n",
       "        vertical-align: top;\n",
       "    }\n",
       "\n",
       "    .dataframe thead th {\n",
       "        text-align: right;\n",
       "    }\n",
       "</style>\n",
       "<table border=\"1\" class=\"dataframe\">\n",
       "  <thead>\n",
       "    <tr style=\"text-align: right;\">\n",
       "      <th></th>\n",
       "      <th>id</th>\n",
       "      <th>host id</th>\n",
       "      <th>neighborhood group</th>\n",
       "      <th>neighborhood</th>\n",
       "      <th>lat</th>\n",
       "      <th>long</th>\n",
       "      <th>country</th>\n",
       "      <th>country code</th>\n",
       "      <th>instant bookable</th>\n",
       "      <th>cancellation policy</th>\n",
       "      <th>room type</th>\n",
       "      <th>construction year</th>\n",
       "      <th>price</th>\n",
       "      <th>service fee</th>\n",
       "      <th>minimum nights</th>\n",
       "      <th>number of reviews</th>\n",
       "      <th>review rate number</th>\n",
       "      <th>calculated host listings count</th>\n",
       "      <th>number rooms</th>\n",
       "    </tr>\n",
       "  </thead>\n",
       "  <tbody>\n",
       "    <tr>\n",
       "      <th>0</th>\n",
       "      <td>1001254</td>\n",
       "      <td>80014485718</td>\n",
       "      <td>Brooklyn</td>\n",
       "      <td>Kensington</td>\n",
       "      <td>40.64749</td>\n",
       "      <td>-73.97237</td>\n",
       "      <td>United States</td>\n",
       "      <td>US</td>\n",
       "      <td>0</td>\n",
       "      <td>strict</td>\n",
       "      <td>Private room</td>\n",
       "      <td>2020.0</td>\n",
       "      <td>966</td>\n",
       "      <td>193.0</td>\n",
       "      <td>7.0</td>\n",
       "      <td>9.0</td>\n",
       "      <td>4.0</td>\n",
       "      <td>6.0</td>\n",
       "      <td>1</td>\n",
       "    </tr>\n",
       "    <tr>\n",
       "      <th>1</th>\n",
       "      <td>1002102</td>\n",
       "      <td>52335172823</td>\n",
       "      <td>Manhattan</td>\n",
       "      <td>Midtown</td>\n",
       "      <td>40.75362</td>\n",
       "      <td>-73.98377</td>\n",
       "      <td>United States</td>\n",
       "      <td>US</td>\n",
       "      <td>0</td>\n",
       "      <td>moderate</td>\n",
       "      <td>Entire home/apt</td>\n",
       "      <td>2007.0</td>\n",
       "      <td>142</td>\n",
       "      <td>28.0</td>\n",
       "      <td>7.0</td>\n",
       "      <td>45.0</td>\n",
       "      <td>4.0</td>\n",
       "      <td>2.0</td>\n",
       "      <td>2</td>\n",
       "    </tr>\n",
       "    <tr>\n",
       "      <th>2</th>\n",
       "      <td>1002403</td>\n",
       "      <td>78829239556</td>\n",
       "      <td>Manhattan</td>\n",
       "      <td>Harlem</td>\n",
       "      <td>40.80902</td>\n",
       "      <td>-73.94190</td>\n",
       "      <td>United States</td>\n",
       "      <td>US</td>\n",
       "      <td>0</td>\n",
       "      <td>flexible</td>\n",
       "      <td>Private room</td>\n",
       "      <td>2005.0</td>\n",
       "      <td>620</td>\n",
       "      <td>124.0</td>\n",
       "      <td>3.0</td>\n",
       "      <td>0.0</td>\n",
       "      <td>5.0</td>\n",
       "      <td>1.0</td>\n",
       "      <td>1</td>\n",
       "    </tr>\n",
       "    <tr>\n",
       "      <th>3</th>\n",
       "      <td>1002755</td>\n",
       "      <td>85098326012</td>\n",
       "      <td>Brooklyn</td>\n",
       "      <td>Clinton Hill</td>\n",
       "      <td>40.68514</td>\n",
       "      <td>-73.95976</td>\n",
       "      <td>United States</td>\n",
       "      <td>US</td>\n",
       "      <td>0</td>\n",
       "      <td>moderate</td>\n",
       "      <td>Entire home/apt</td>\n",
       "      <td>2005.0</td>\n",
       "      <td>368</td>\n",
       "      <td>74.0</td>\n",
       "      <td>7.0</td>\n",
       "      <td>270.0</td>\n",
       "      <td>4.0</td>\n",
       "      <td>1.0</td>\n",
       "      <td>2</td>\n",
       "    </tr>\n",
       "    <tr>\n",
       "      <th>4</th>\n",
       "      <td>1003689</td>\n",
       "      <td>92037596077</td>\n",
       "      <td>Manhattan</td>\n",
       "      <td>East Harlem</td>\n",
       "      <td>40.79851</td>\n",
       "      <td>-73.94399</td>\n",
       "      <td>United States</td>\n",
       "      <td>US</td>\n",
       "      <td>0</td>\n",
       "      <td>moderate</td>\n",
       "      <td>Entire home/apt</td>\n",
       "      <td>2009.0</td>\n",
       "      <td>204</td>\n",
       "      <td>41.0</td>\n",
       "      <td>7.0</td>\n",
       "      <td>9.0</td>\n",
       "      <td>3.0</td>\n",
       "      <td>1.0</td>\n",
       "      <td>1</td>\n",
       "    </tr>\n",
       "    <tr>\n",
       "      <th>5</th>\n",
       "      <td>1004650</td>\n",
       "      <td>61300605564</td>\n",
       "      <td>Brooklyn</td>\n",
       "      <td>Bedford-Stuyvesant</td>\n",
       "      <td>40.68688</td>\n",
       "      <td>-73.95596</td>\n",
       "      <td>United States</td>\n",
       "      <td>US</td>\n",
       "      <td>0</td>\n",
       "      <td>moderate</td>\n",
       "      <td>Private room</td>\n",
       "      <td>2015.0</td>\n",
       "      <td>71</td>\n",
       "      <td>14.0</td>\n",
       "      <td>7.0</td>\n",
       "      <td>49.0</td>\n",
       "      <td>5.0</td>\n",
       "      <td>1.0</td>\n",
       "      <td>1</td>\n",
       "    </tr>\n",
       "    <tr>\n",
       "      <th>6</th>\n",
       "      <td>1005202</td>\n",
       "      <td>90821839709</td>\n",
       "      <td>Brooklyn</td>\n",
       "      <td>Bedford-Stuyvesant</td>\n",
       "      <td>40.68688</td>\n",
       "      <td>-73.95596</td>\n",
       "      <td>United States</td>\n",
       "      <td>US</td>\n",
       "      <td>0</td>\n",
       "      <td>moderate</td>\n",
       "      <td>Private room</td>\n",
       "      <td>2009.0</td>\n",
       "      <td>1060</td>\n",
       "      <td>212.0</td>\n",
       "      <td>7.0</td>\n",
       "      <td>49.0</td>\n",
       "      <td>5.0</td>\n",
       "      <td>1.0</td>\n",
       "      <td>1</td>\n",
       "    </tr>\n",
       "    <tr>\n",
       "      <th>7</th>\n",
       "      <td>1005754</td>\n",
       "      <td>79384379533</td>\n",
       "      <td>Manhattan</td>\n",
       "      <td>Hell's Kitchen</td>\n",
       "      <td>40.76489</td>\n",
       "      <td>-73.98493</td>\n",
       "      <td>United States</td>\n",
       "      <td>US</td>\n",
       "      <td>0</td>\n",
       "      <td>strict</td>\n",
       "      <td>Private room</td>\n",
       "      <td>2005.0</td>\n",
       "      <td>1018</td>\n",
       "      <td>204.0</td>\n",
       "      <td>2.0</td>\n",
       "      <td>430.0</td>\n",
       "      <td>3.0</td>\n",
       "      <td>1.0</td>\n",
       "      <td>1</td>\n",
       "    </tr>\n",
       "    <tr>\n",
       "      <th>8</th>\n",
       "      <td>1006859</td>\n",
       "      <td>1280143094</td>\n",
       "      <td>Manhattan</td>\n",
       "      <td>Chinatown</td>\n",
       "      <td>40.71344</td>\n",
       "      <td>-73.99037</td>\n",
       "      <td>United States</td>\n",
       "      <td>US</td>\n",
       "      <td>0</td>\n",
       "      <td>flexible</td>\n",
       "      <td>Entire home/apt</td>\n",
       "      <td>2004.0</td>\n",
       "      <td>319</td>\n",
       "      <td>64.0</td>\n",
       "      <td>1.0</td>\n",
       "      <td>160.0</td>\n",
       "      <td>3.0</td>\n",
       "      <td>4.0</td>\n",
       "      <td>1</td>\n",
       "    </tr>\n",
       "    <tr>\n",
       "      <th>9</th>\n",
       "      <td>1007411</td>\n",
       "      <td>18824631834</td>\n",
       "      <td>Manhattan</td>\n",
       "      <td>Upper West Side</td>\n",
       "      <td>40.80316</td>\n",
       "      <td>-73.96545</td>\n",
       "      <td>United States</td>\n",
       "      <td>US</td>\n",
       "      <td>0</td>\n",
       "      <td>flexible</td>\n",
       "      <td>Entire home/apt</td>\n",
       "      <td>2008.0</td>\n",
       "      <td>606</td>\n",
       "      <td>121.0</td>\n",
       "      <td>5.0</td>\n",
       "      <td>53.0</td>\n",
       "      <td>4.0</td>\n",
       "      <td>1.0</td>\n",
       "      <td>2</td>\n",
       "    </tr>\n",
       "  </tbody>\n",
       "</table>\n",
       "</div>"
      ],
      "text/plain": [
       "        id      host id neighborhood group        neighborhood       lat  \\\n",
       "0  1001254  80014485718           Brooklyn          Kensington  40.64749   \n",
       "1  1002102  52335172823          Manhattan             Midtown  40.75362   \n",
       "2  1002403  78829239556          Manhattan              Harlem  40.80902   \n",
       "3  1002755  85098326012           Brooklyn        Clinton Hill  40.68514   \n",
       "4  1003689  92037596077          Manhattan         East Harlem  40.79851   \n",
       "5  1004650  61300605564           Brooklyn  Bedford-Stuyvesant  40.68688   \n",
       "6  1005202  90821839709           Brooklyn  Bedford-Stuyvesant  40.68688   \n",
       "7  1005754  79384379533          Manhattan      Hell's Kitchen  40.76489   \n",
       "8  1006859   1280143094          Manhattan           Chinatown  40.71344   \n",
       "9  1007411  18824631834          Manhattan     Upper West Side  40.80316   \n",
       "\n",
       "       long        country country code  instant bookable cancellation policy  \\\n",
       "0 -73.97237  United States           US                 0              strict   \n",
       "1 -73.98377  United States           US                 0            moderate   \n",
       "2 -73.94190  United States           US                 0            flexible   \n",
       "3 -73.95976  United States           US                 0            moderate   \n",
       "4 -73.94399  United States           US                 0            moderate   \n",
       "5 -73.95596  United States           US                 0            moderate   \n",
       "6 -73.95596  United States           US                 0            moderate   \n",
       "7 -73.98493  United States           US                 0              strict   \n",
       "8 -73.99037  United States           US                 0            flexible   \n",
       "9 -73.96545  United States           US                 0            flexible   \n",
       "\n",
       "         room type  construction year  price  service fee  minimum nights  \\\n",
       "0     Private room             2020.0    966        193.0             7.0   \n",
       "1  Entire home/apt             2007.0    142         28.0             7.0   \n",
       "2     Private room             2005.0    620        124.0             3.0   \n",
       "3  Entire home/apt             2005.0    368         74.0             7.0   \n",
       "4  Entire home/apt             2009.0    204         41.0             7.0   \n",
       "5     Private room             2015.0     71         14.0             7.0   \n",
       "6     Private room             2009.0   1060        212.0             7.0   \n",
       "7     Private room             2005.0   1018        204.0             2.0   \n",
       "8  Entire home/apt             2004.0    319         64.0             1.0   \n",
       "9  Entire home/apt             2008.0    606        121.0             5.0   \n",
       "\n",
       "   number of reviews  review rate number  calculated host listings count  \\\n",
       "0                9.0                 4.0                             6.0   \n",
       "1               45.0                 4.0                             2.0   \n",
       "2                0.0                 5.0                             1.0   \n",
       "3              270.0                 4.0                             1.0   \n",
       "4                9.0                 3.0                             1.0   \n",
       "5               49.0                 5.0                             1.0   \n",
       "6               49.0                 5.0                             1.0   \n",
       "7              430.0                 3.0                             1.0   \n",
       "8              160.0                 3.0                             4.0   \n",
       "9               53.0                 4.0                             1.0   \n",
       "\n",
       "   number rooms  \n",
       "0             1  \n",
       "1             2  \n",
       "2             1  \n",
       "3             2  \n",
       "4             1  \n",
       "5             1  \n",
       "6             1  \n",
       "7             1  \n",
       "8             1  \n",
       "9             2  "
      ]
     },
     "execution_count": 2,
     "metadata": {},
     "output_type": "execute_result"
    }
   ],
   "source": [
    "# Your answer goes here\n",
    "# Show the first 10 data points\n",
    "df_original = pd.read_csv('AirBnB_original.csv')\n",
    "df_original.head(10)"
   ]
  },
  {
   "cell_type": "markdown",
   "id": "9_9aEzu5PI1h",
   "metadata": {
    "id": "9_9aEzu5PI1h"
   },
   "source": [
    "### Basic Cleaning"
   ]
  },
  {
   "cell_type": "markdown",
   "id": "38360b13",
   "metadata": {
    "id": "38360b13"
   },
   "source": [
    "First, you have to remove NaN entries across the data set such that we only keep rows without any NaN value. How many rows did you remove?"
   ]
  },
  {
   "cell_type": "code",
   "execution_count": 3,
   "id": "d8b96e7f",
   "metadata": {
    "id": "ly3THPi7PdLJ"
   },
   "outputs": [
    {
     "name": "stdout",
     "output_type": "stream",
     "text": [
      "Number of removed rows is 1477\n"
     ]
    }
   ],
   "source": [
    "# Your answer goes here\n",
    "df_original_no_nan = df_original.dropna() # data without rows with NaN\n",
    "print(f\"Number of removed rows is {len(df_original) - len(df_original_no_nan)}\")"
   ]
  },
  {
   "cell_type": "markdown",
   "id": "1dee5fbc",
   "metadata": {
    "id": "1dee5fbc"
   },
   "source": [
    "Since duplicated entries are misleading, we want to remove duplicate flats (identified by their id), such that we only keep them once and create a new dataset. How many duplicates are removed?"
   ]
  },
  {
   "cell_type": "code",
   "execution_count": 4,
   "id": "403479a7",
   "metadata": {
    "id": "ly3THPi7PdLJ"
   },
   "outputs": [
    {
     "name": "stdout",
     "output_type": "stream",
     "text": [
      "Number of removed duplicates is 389\n"
     ]
    }
   ],
   "source": [
    "# Your answer goes here\n",
    "df_no_dup = df_original_no_nan.drop_duplicates(subset=['id']) # data without duplicate flats\n",
    "print(f\"Number of removed duplicates is {len(df_original_no_nan) - len(df_no_dup)}\")"
   ]
  },
  {
   "cell_type": "markdown",
   "id": "Yty_b-ftfTPc",
   "metadata": {
    "id": "Yty_b-ftfTPc"
   },
   "source": [
    "From now on, you work with the dataset **AirBnB_cleaned.csv**."
   ]
  },
  {
   "cell_type": "markdown",
   "id": "g-rLfHOoEGuz",
   "metadata": {
    "id": "g-rLfHOoEGuz"
   },
   "source": [
    "To get a feeling for nightly prices in New York, you take a look at the price attribute. Calculate the average price, the first and third quantiles, and the standard deviation."
   ]
  },
  {
   "cell_type": "code",
   "execution_count": 5,
   "id": "08d61469",
   "metadata": {},
   "outputs": [
    {
     "data": {
      "text/plain": [
       "count    70842.000000\n",
       "mean       625.463680\n",
       "std        331.236241\n",
       "min         50.000000\n",
       "25%        340.000000\n",
       "50%        625.000000\n",
       "75%        913.000000\n",
       "max       1200.000000\n",
       "Name: price, dtype: float64"
      ]
     },
     "execution_count": 5,
     "metadata": {},
     "output_type": "execute_result"
    }
   ],
   "source": [
    "# Import cleaned data\n",
    "df_cleaned = pd.read_csv(\"AirBnB_cleaned.csv\")\n",
    "# Get some statistics of price\n",
    "price_summary = df_cleaned[\"price\"].describe()\n",
    "price_summary"
   ]
  },
  {
   "cell_type": "code",
   "execution_count": 6,
   "id": "76bb6f5a",
   "metadata": {
    "id": "ly3THPi7PdLJ"
   },
   "outputs": [
    {
     "name": "stdout",
     "output_type": "stream",
     "text": [
      "The average price is 625.4636797380085\n",
      "The first quantile is 340.0\n",
      "The third quantile is 913.0\n",
      "The standard deviation is 331.23624102553555\n"
     ]
    }
   ],
   "source": [
    "# Your answer goes here\n",
    "# Answers to the question\n",
    "print(f\"The average price is {price_summary['mean']}\")\n",
    "print(f\"The first quantile is {price_summary['25%']}\")\n",
    "print(f\"The third quantile is {price_summary['75%']}\")\n",
    "print(f\"The standard deviation is {price_summary['std']}\")"
   ]
  },
  {
   "cell_type": "markdown",
   "id": "eqDy9wQIElfF",
   "metadata": {
    "id": "eqDy9wQIElfF"
   },
   "source": [
    "You want to get a more visual picture of the price range. Use a histogram and boxplot to show the distribution of prices on the entire dataset."
   ]
  },
  {
   "cell_type": "code",
   "execution_count": 7,
   "id": "efc0714e",
   "metadata": {
    "id": "ly3THPi7PdLJ"
   },
   "outputs": [
    {
     "data": {
      "image/png": "[encoded data removed]",
      "text/plain": [
       "<Figure size 640x480 with 1 Axes>"
      ]
     },
     "metadata": {},
     "output_type": "display_data"
    }
   ],
   "source": [
    "# Your answer goes here\n",
    "# Draw the histogram\n",
    "plt.hist(df_cleaned['price'], bins=20, edgecolor='black')\n",
    "plt.xlabel('Price')\n",
    "plt.ylabel('Frequency')\n",
    "plt.show()"
   ]
  },
  {
   "cell_type": "code",
   "execution_count": 8,
   "id": "2fc639be",
   "metadata": {},
   "outputs": [
    {
     "data": {
      "image/png": "[encoded data removed]",
      "text/plain": [
       "<Figure size 640x480 with 1 Axes>"
      ]
     },
     "metadata": {},
     "output_type": "display_data"
    }
   ],
   "source": [
    "# Draw the boxplot\n",
    "plt.boxplot(df_cleaned['price'], showfliers=True)\n",
    "plt.show()"
   ]
  },
  {
   "cell_type": "markdown",
   "id": "3RkQxNBpQ7mC",
   "metadata": {
    "id": "3RkQxNBpQ7mC"
   },
   "source": [
    "### Exploring Price Relationships"
   ]
  },
  {
   "cell_type": "markdown",
   "id": "lKi9SkO1RF56",
   "metadata": {
    "id": "lKi9SkO1RF56"
   },
   "source": [
    "To inform our pricing decision, we want to investigate some differentiating factors for pricing apartments."
   ]
  },
  {
   "cell_type": "markdown",
   "id": "nClcY_FV_AKv",
   "metadata": {
    "id": "nClcY_FV_AKv"
   },
   "source": [
    "Since you have an overview of the prices and their distribution, you want to investigate which features of your dataset you might use to make your pricing decision. To do so, discuss each feature of the dataset and already rule out features that will definitely not impact the pricing decision. Below you can find a brief description of each feature: \n",
    "\n",
    "- id: Unique identifier for an apartment\n",
    "- host id: Identifier of the host offering a certain apartment\n",
    "- neighborhood group: Name of a neighborhood group in which an apartment is located\n",
    "- neighborhood: More fine-grained view on neighborhoods than neighborhood group\n",
    "- lat: Latitude coordinate of an apartment\n",
    "- long: Longitude coordinate of an apartment\n",
    "- country: The country in which an apartment is located\n",
    "- country code: Code of the country in which an apartment is located\n",
    "- instant bookable: Boolean values if an apartment is instantly bookable\n",
    "- cancellation policy: Policy for cancellation of booking\n",
    "- room type: Type of apartment/room\n",
    "- construction year: Year of construction of apartment\n",
    "- price: Price for renting an apartment\n",
    "- service fee: Fee of service\n",
    "- minimum nights: Number of minimum nights to rent an apartment\n",
    "- number of reviews: Number of reviews for an apartment\n",
    "- review rate number:  Review rate for an apartment (1 to 5)\n",
    "- calculated host listings count: Number of listings a host has\n",
    "- number rooms: Number of rooms in an apartment"
   ]
  },
  {
   "cell_type": "code",
   "execution_count": 9,
   "id": "2146a915",
   "metadata": {
    "id": "ly3THPi7PdLJ"
   },
   "outputs": [
    {
     "data": {
      "image/png": "[encoded data removed]",
      "text/plain": [
       "<Figure size 1000x1000 with 12 Axes>"
      ]
     },
     "metadata": {},
     "output_type": "display_data"
    }
   ],
   "source": [
    "# Your answer goes here\n",
    "import math\n",
    "\n",
    "# list of continuous features\n",
    "cont_feats = list(df_cleaned._get_numeric_data().columns)\n",
    "cont_feats.remove('price')\n",
    "\n",
    "num_cols = 3\n",
    "num_rows = math.ceil(len(cont_feats) / num_cols)\n",
    "\n",
    "\n",
    "fig, axs = plt.subplots(nrows=num_rows, ncols=num_cols, figsize=(10,10))\n",
    "\n",
    "for r in range(num_rows):\n",
    "    for c in range(num_cols):\n",
    "        feature = cont_feats.pop(0)\n",
    "        # scatter plot for exploring relationship between\n",
    "        # each continuous descriptive feature and target feature 'price'\n",
    "        df_cleaned.plot.scatter(ax=axs[r,c], x=feature, y='price')\n",
    "\n",
    "fig.tight_layout()\n"
   ]
  },
  {
   "cell_type": "code",
   "execution_count": null,
   "id": "2ae075c1-d861-44b4-a7ed-ca22b3308ebf",
   "metadata": {},
   "outputs": [],
   "source": [
    "\n"
   ]
  },
  {
   "cell_type": "code",
   "execution_count": 10,
   "id": "7622a68d-0fed-42b2-8233-0e2c93d136da",
   "metadata": {},
   "outputs": [
    {
     "data": {
      "text/plain": [
       "id                                0.007083\n",
       "host id                           0.006699\n",
       "lat                              -0.003476\n",
       "long                              0.002518\n",
       "instant bookable                       NaN\n",
       "construction year                -0.000497\n",
       "price                             1.000000\n",
       "service fee                       0.999991\n",
       "minimum nights                   -0.001062\n",
       "number of reviews                 0.008259\n",
       "review rate number               -0.010797\n",
       "calculated host listings count   -0.000796\n",
       "number rooms                      0.317470\n",
       "Name: price, dtype: float64"
      ]
     },
     "execution_count": 10,
     "metadata": {},
     "output_type": "execute_result"
    }
   ],
   "source": [
    "# correlation matrix between each descriptive feature and the target feature 'price'\n",
    "corr_matrix = df_cleaned.corr()['price']\n",
    "corr_matrix"
   ]
  },
  {
   "cell_type": "markdown",
   "id": "1aac44c1",
   "metadata": {},
   "source": [
    "_Answer:_ \n"
   ]
  },
  {
   "cell_type": "markdown",
   "id": "QlBJgLSjh2l5",
   "metadata": {
    "id": "QlBJgLSjh2l5"
   },
   "source": [
    "### Univariate Analysis"
   ]
  },
  {
   "cell_type": "markdown",
   "id": "X0phX-tc_txX",
   "metadata": {
    "id": "X0phX-tc_txX"
   },
   "source": [
    "In the following, you want to analyze which features influence the price. You do this univariately, i.e., look at the relationship between one feature and the price individually. No matter which features you concluded to be useful in the last task, **you will consider the following seven features: service fee, minimum nights, neighborhood group, room type, cancellation policy, construction year, and the number of rooms.**"
   ]
  },
  {
   "cell_type": "markdown",
   "id": "ymD1OuKhE58B",
   "metadata": {
    "id": "ymD1OuKhE58B"
   },
   "source": [
    "First, we look closely at the relationship between price and service fee. To do so, create a joint plot for these two attributes. What is your finding? Is this a helpful feature for our pricing decision?"
   ]
  },
  {
   "cell_type": "code",
   "execution_count": 11,
   "id": "7d5c1da7",
   "metadata": {
    "id": "ly3THPi7PdLJ"
   },
   "outputs": [
    {
     "data": {
      "text/plain": [
       "<seaborn.axisgrid.JointGrid at 0x7f7a9e75cca0>"
      ]
     },
     "execution_count": 11,
     "metadata": {},
     "output_type": "execute_result"
    },
    {
     "data": {
      "image/png": "[encoded data removed]",
      "text/plain": [
       "<Figure size 600x600 with 3 Axes>"
      ]
     },
     "metadata": {},
     "output_type": "display_data"
    }
   ],
   "source": [
    "# Your answer goes here\n",
    "sns.jointplot(x='service fee', y='price', data=df_cleaned)"
   ]
  },
  {
   "cell_type": "markdown",
   "id": "d7262980",
   "metadata": {},
   "source": [
    "_Answer:_\n",
    "\n",
    "There is a linear positive correlation between service fee and price.\n",
    "Service fee seems to be a very helpful feature (might has higher weight) for our pricing decision"
   ]
  },
  {
   "cell_type": "markdown",
   "id": "2rcPfXMcGk1M",
   "metadata": {
    "id": "2rcPfXMcGk1M"
   },
   "source": [
    "Next, we are interested in the relationship between the number of minimum nights and the price. To analyze it, create a joint plot with a regression. Describe your observation."
   ]
  },
  {
   "cell_type": "code",
   "execution_count": 12,
   "id": "b028e83e",
   "metadata": {
    "id": "ly3THPi7PdLJ"
   },
   "outputs": [
    {
     "data": {
      "text/plain": [
       "<seaborn.axisgrid.JointGrid at 0x7f7a9e6e9bb0>"
      ]
     },
     "execution_count": 12,
     "metadata": {},
     "output_type": "execute_result"
    },
    {
     "data": {
      "image/png": "[encoded data removed]",
      "text/plain": [
       "<Figure size 600x600 with 3 Axes>"
      ]
     },
     "metadata": {},
     "output_type": "display_data"
    }
   ],
   "source": [
    "# Your answer goes here\n",
    "sns.jointplot(x='minimum nights', y='price', data=df_cleaned, kind=\"reg\")\n"
   ]
  },
  {
   "cell_type": "markdown",
   "id": "f4cd05bf",
   "metadata": {},
   "source": [
    "_Answer:_\n",
    "\n"
   ]
  },
  {
   "cell_type": "markdown",
   "id": "6MIVIHji_tG1",
   "metadata": {
    "id": "6MIVIHji_tG1"
   },
   "source": [
    "To further investigate the pricing decision, you look at the remaining five features: neighborhood group, room type, cancellation policy, construction year, and the number of rooms.\n",
    "To get an overview, you decide to create box plots (including the mean) for each of these features to visualize their influence on the price. Describe your findings. Which values of the features influence the price?"
   ]
  },
  {
   "cell_type": "code",
   "execution_count": 13,
   "id": "301f080d",
   "metadata": {
    "id": "ly3THPi7PdLJ"
   },
   "outputs": [
    {
     "data": {
      "image/png": "[encoded data removed]",
      "text/plain": [
       "<Figure size 640x480 with 1 Axes>"
      ]
     },
     "metadata": {},
     "output_type": "display_data"
    },
    {
     "data": {
      "image/png": "[encoded data removed]",
      "text/plain": [
       "<Figure size 640x480 with 1 Axes>"
      ]
     },
     "metadata": {},
     "output_type": "display_data"
    },
    {
     "data": {
      "image/png": "[encoded data removed]",
      "text/plain": [
       "<Figure size 640x480 with 1 Axes>"
      ]
     },
     "metadata": {},
     "output_type": "display_data"
    },
    {
     "data": {
      "image/png": "[encoded data removed]",
      "text/plain": [
       "<Figure size 640x480 with 1 Axes>"
      ]
     },
     "metadata": {},
     "output_type": "display_data"
    },
    {
     "data": {
      "image/png": "[encoded data removed]",
      "text/plain": [
       "<Figure size 640x480 with 1 Axes>"
      ]
     },
     "metadata": {},
     "output_type": "display_data"
    }
   ],
   "source": [
    "# Your answer goes here\n",
    "\n",
    "feats = [\"neighborhood group\", \"room type\", \"cancellation policy\", \"construction year\", \"number rooms\"]\n",
    "\n",
    "\n",
    "for feature in feats:\n",
    "    df_cleaned.boxplot(column='price', by=feature)\n"
   ]
  },
  {
   "cell_type": "markdown",
   "id": "16206993",
   "metadata": {},
   "source": [
    "_Answer:_\n",
    "\n"
   ]
  },
  {
   "cell_type": "markdown",
   "id": "1Bs51U6ch9Ka",
   "metadata": {
    "id": "1Bs51U6ch9Ka"
   },
   "source": [
    "### Multivariate Analysis"
   ]
  },
  {
   "cell_type": "markdown",
   "id": "LZJDkd6xiJuy",
   "metadata": {
    "id": "LZJDkd6xiJuy"
   },
   "source": [
    "As the univariate analysis of price relationships provided only limited insights, you decide to visualize some multivariate investigations of the price. **No matter what you concluded in the last section, you will use the features construction year, number of rooms, cancellation policy, room type, and neighborhood group in the multivariate analysis.**\n",
    "For each pair of features, create a grouped boxplot (using the hue argument) and investigate whether the two features together allow for an explanation of price differences. In the end, conclude which combination of features should be used to make your pricing decision."
   ]
  },
  {
   "cell_type": "markdown",
   "id": "a1af70ad",
   "metadata": {},
   "source": [
    "#### Multivariate Analysis for Neighborhood Group"
   ]
  },
  {
   "cell_type": "code",
   "execution_count": 14,
   "id": "19b4a749",
   "metadata": {
    "id": "ly3THPi7PdLJ"
   },
   "outputs": [],
   "source": [
    "# Your answer goes here\n"
   ]
  },
  {
   "cell_type": "markdown",
   "id": "e8b80c4f",
   "metadata": {},
   "source": [
    "_Answer:_\n",
    "\n"
   ]
  },
  {
   "cell_type": "markdown",
   "id": "ddbbd25d",
   "metadata": {},
   "source": [
    "#### Multivariate Analysis for Room Type"
   ]
  },
  {
   "cell_type": "code",
   "execution_count": 15,
   "id": "809668e7",
   "metadata": {},
   "outputs": [],
   "source": [
    "# Your answer goes here\n"
   ]
  },
  {
   "cell_type": "markdown",
   "id": "72041142",
   "metadata": {},
   "source": [
    "_Answer:_\n"
   ]
  },
  {
   "cell_type": "markdown",
   "id": "e11db5c3",
   "metadata": {},
   "source": [
    "#### Multivariate Analysis for Number of Rooms"
   ]
  },
  {
   "cell_type": "code",
   "execution_count": 16,
   "id": "512f825d",
   "metadata": {},
   "outputs": [],
   "source": [
    "# Your answer goes here\n"
   ]
  },
  {
   "cell_type": "markdown",
   "id": "5c95f5b1",
   "metadata": {},
   "source": [
    "_Answer:_\n",
    "\n"
   ]
  },
  {
   "cell_type": "markdown",
   "id": "419042f2",
   "metadata": {},
   "source": [
    "#### Multivariate Analysis for Construction Year"
   ]
  },
  {
   "cell_type": "code",
   "execution_count": 17,
   "id": "43469f1b",
   "metadata": {},
   "outputs": [],
   "source": [
    "# Your answer goes here"
   ]
  },
  {
   "cell_type": "markdown",
   "id": "e77ae423",
   "metadata": {},
   "source": [
    "_Answer:_\n",
    "\n"
   ]
  },
  {
   "cell_type": "markdown",
   "id": "2kZI5CkIbahY",
   "metadata": {
    "id": "2kZI5CkIbahY"
   },
   "source": [
    "### Selection of Variables"
   ]
  },
  {
   "cell_type": "markdown",
   "id": "UUkY4fg4emGQ",
   "metadata": {
    "id": "UUkY4fg4emGQ"
   },
   "source": [
    "Please argue: Which combinations of variables would you consider for pricing your AirBnB?"
   ]
  },
  {
   "cell_type": "markdown",
   "id": "e5808a47-1108-43c8-b371-aeb1f893e511",
   "metadata": {},
   "source": [
    "_Answer:_\n"
   ]
  },
  {
   "cell_type": "markdown",
   "id": "9fb5625b-7666-447e-848b-6a7d239a6d0b",
   "metadata": {
    "id": "9fb5625b-7666-447e-848b-6a7d239a6d0b",
    "tags": []
   },
   "source": [
    "## Question 2: Setting the Price"
   ]
  },
  {
   "cell_type": "markdown",
   "id": "UVRItjgwQSNb",
   "metadata": {
    "id": "UVRItjgwQSNb"
   },
   "source": [
    "No matter what you have deducted from your analysis, from now on, you will continue only with three features: **The number of rooms, the neighborhood group, and the room type.**"
   ]
  },
  {
   "cell_type": "markdown",
   "id": "c7128fc0-c9cc-4ecb-bc37-147ea4bfbf07",
   "metadata": {
    "id": "c7128fc0-c9cc-4ecb-bc37-147ea4bfbf07"
   },
   "source": [
    "**Enter Toby**: Toby is your long-term friend back from studying at RWTH. While you studied computer science, Toby studied business administration to become a big shot at Wall Street. He currently works in the back office of some swiss credit institute just across the corner from your office. You decide to drop by and get some of his input for your pricing decision. \n",
    "\n",
    "Toby proposes to first use comparables pricing to price your apartment. Comparables pricing is an established concept in economics and means that you price your apartment close to similar apartments. \n",
    "You will use different techniques to find similar apartments and set a price."
   ]
  },
  {
   "cell_type": "markdown",
   "id": "b139f2fd-5b7e-4086-8a1f-6098df4f6d25",
   "metadata": {
    "id": "b139f2fd-5b7e-4086-8a1f-6098df4f6d25"
   },
   "source": [
    "## Baseline"
   ]
  },
  {
   "cell_type": "markdown",
   "id": "tD6hGWmni8eA",
   "metadata": {
    "id": "tD6hGWmni8eA"
   },
   "source": [
    "First, you want to set a baseline to compare against. The baseline should always use the average price of all apartments as a recommended price. Evaluate on a test set of 5%. The same test set should also be used later (you can use the random_state argument in scikit learn's train_test_split, but you need to stay consistent for different questions)."
   ]
  },
  {
   "cell_type": "code",
   "execution_count": 18,
   "id": "119dd20f",
   "metadata": {
    "id": "ly3THPi7PdLJ"
   },
   "outputs": [
    {
     "name": "stdout",
     "output_type": "stream",
     "text": [
      "625.4636797380085\n"
     ]
    },
    {
     "data": {
      "text/html": [
       "<div>\n",
       "<style scoped>\n",
       "    .dataframe tbody tr th:only-of-type {\n",
       "        vertical-align: middle;\n",
       "    }\n",
       "\n",
       "    .dataframe tbody tr th {\n",
       "        vertical-align: top;\n",
       "    }\n",
       "\n",
       "    .dataframe thead th {\n",
       "        text-align: right;\n",
       "    }\n",
       "</style>\n",
       "<table border=\"1\" class=\"dataframe\">\n",
       "  <thead>\n",
       "    <tr style=\"text-align: right;\">\n",
       "      <th></th>\n",
       "      <th>neighborhood group</th>\n",
       "      <th>number rooms</th>\n",
       "      <th>room type</th>\n",
       "    </tr>\n",
       "  </thead>\n",
       "  <tbody>\n",
       "    <tr>\n",
       "      <th>0</th>\n",
       "      <td>Manhattan</td>\n",
       "      <td>2</td>\n",
       "      <td>Entire home/apt</td>\n",
       "    </tr>\n",
       "    <tr>\n",
       "      <th>1</th>\n",
       "      <td>Manhattan</td>\n",
       "      <td>1</td>\n",
       "      <td>Private room</td>\n",
       "    </tr>\n",
       "    <tr>\n",
       "      <th>2</th>\n",
       "      <td>Brooklyn</td>\n",
       "      <td>2</td>\n",
       "      <td>Entire home/apt</td>\n",
       "    </tr>\n",
       "    <tr>\n",
       "      <th>3</th>\n",
       "      <td>Manhattan</td>\n",
       "      <td>1</td>\n",
       "      <td>Entire home/apt</td>\n",
       "    </tr>\n",
       "    <tr>\n",
       "      <th>4</th>\n",
       "      <td>Brooklyn</td>\n",
       "      <td>1</td>\n",
       "      <td>Private room</td>\n",
       "    </tr>\n",
       "    <tr>\n",
       "      <th>...</th>\n",
       "      <td>...</td>\n",
       "      <td>...</td>\n",
       "      <td>...</td>\n",
       "    </tr>\n",
       "    <tr>\n",
       "      <th>70837</th>\n",
       "      <td>Queens</td>\n",
       "      <td>1</td>\n",
       "      <td>Private room</td>\n",
       "    </tr>\n",
       "    <tr>\n",
       "      <th>70838</th>\n",
       "      <td>Queens</td>\n",
       "      <td>1</td>\n",
       "      <td>Private room</td>\n",
       "    </tr>\n",
       "    <tr>\n",
       "      <th>70839</th>\n",
       "      <td>Queens</td>\n",
       "      <td>1</td>\n",
       "      <td>Private room</td>\n",
       "    </tr>\n",
       "    <tr>\n",
       "      <th>70840</th>\n",
       "      <td>Manhattan</td>\n",
       "      <td>1</td>\n",
       "      <td>Entire home/apt</td>\n",
       "    </tr>\n",
       "    <tr>\n",
       "      <th>70841</th>\n",
       "      <td>Brooklyn</td>\n",
       "      <td>1</td>\n",
       "      <td>Entire home/apt</td>\n",
       "    </tr>\n",
       "  </tbody>\n",
       "</table>\n",
       "<p>70842 rows × 3 columns</p>\n",
       "</div>"
      ],
      "text/plain": [
       "      neighborhood group  number rooms        room type\n",
       "0              Manhattan             2  Entire home/apt\n",
       "1              Manhattan             1     Private room\n",
       "2               Brooklyn             2  Entire home/apt\n",
       "3              Manhattan             1  Entire home/apt\n",
       "4               Brooklyn             1     Private room\n",
       "...                  ...           ...              ...\n",
       "70837             Queens             1     Private room\n",
       "70838             Queens             1     Private room\n",
       "70839             Queens             1     Private room\n",
       "70840          Manhattan             1  Entire home/apt\n",
       "70841           Brooklyn             1  Entire home/apt\n",
       "\n",
       "[70842 rows x 3 columns]"
      ]
     },
     "execution_count": 18,
     "metadata": {},
     "output_type": "execute_result"
    }
   ],
   "source": [
    "# Your answer goes here\n",
    "from sklearn.model_selection import train_test_split\n",
    "\n",
    "# average price of all apartments\n",
    "avg_price = df_cleaned[\"price\"].mean()\n",
    "print(avg_price)\n",
    "\n",
    "# Split to X (features) and y (target)\n",
    "# X = ['number rooms', 'neighborhood group', 'room type'], y='price'\n",
    "X_base, y_base = df_cleaned[['number rooms', 'neighborhood group', 'room type']], df_cleaned['price']\n",
    "\n",
    "# IMPORTANT: Make sure column orders of X stays the same\n",
    "X_base = X_base[sorted(X_base.columns)]\n",
    "\n",
    "# Train test split with skrt learn\n",
    "X_train_base, X_test_base, y_train_base, y_test_base = train_test_split(X_base, y_base, test_size=0.05, random_state=RANDOM_SEED)\n",
    "\n",
    "X_base\n"
   ]
  },
  {
   "cell_type": "markdown",
   "id": "ddc1e5ce",
   "metadata": {
    "id": "ddc1e5ce"
   },
   "source": [
    "## Decision Tree"
   ]
  },
  {
   "cell_type": "markdown",
   "id": "8y3FUe5paWrY",
   "metadata": {
    "id": "8y3FUe5paWrY"
   },
   "source": [
    "Using a decision tree, you try to price your apartment according to similar apartments. "
   ]
  },
  {
   "cell_type": "markdown",
   "id": "0a06ecc8",
   "metadata": {
    "id": "0a06ecc8"
   },
   "source": [
    "In the following, we want to know the price ranges for renting AirBnBs. To use decision trees, you need to discretize prices. We use the following price bins:\n",
    "\n",
    "\n",
    "- [50, 200]\n",
    "- (200, 400]\n",
    "- (400, 600]\n",
    "- (600, 800]\n",
    "- (800, 1000]\n",
    "- (1000, 1200]\n",
    "\n",
    "We add the attribute \"Price_Bins\" using the discretization mentioned above for each apartment. For example, if an apartment costs 404, it is put into the bin (400, 600]."
   ]
  },
  {
   "cell_type": "code",
   "execution_count": 19,
   "id": "f13ec0f0",
   "metadata": {
    "id": "ly3THPi7PdLJ"
   },
   "outputs": [],
   "source": [
    "# Your answer goes here\n",
    "\n",
    "# added column 'Price_Bins'\n",
    "df_cleaned['Price_Bins'] = pd.cut(df_cleaned['price'], bins=[50,200,400,600,800,1000,1200], right=True, include_lowest=True)\n",
    "\n"
   ]
  },
  {
   "cell_type": "markdown",
   "id": "9a15a3f0",
   "metadata": {
    "id": "9a15a3f0"
   },
   "source": [
    "Consider the extended dataset from the previous task. Use 'number rooms,' 'room type,' and 'neighborhood group' as descriptive features and \"Price_Bins\" as the target feature. Create a test and training set like before."
   ]
  },
  {
   "cell_type": "code",
   "execution_count": 20,
   "id": "dc234682",
   "metadata": {
    "id": "ly3THPi7PdLJ"
   },
   "outputs": [],
   "source": [
    "# Your answer goes here\n",
    "\n",
    "# Split to X (features) and y (target)\n",
    "# X = ['number rooms', 'neighborhood group', 'room type'], y='Price_Bins'\n",
    "y_discrete = df_cleaned['Price_Bins']\n",
    "\n",
    "# Train test split with skrt learn\n",
    "X_train_priceBins, X_test_priceBins, y_train_priceBins, y_test_priceBins = train_test_split(X_base, y_discrete, test_size=0.05, random_state=RANDOM_SEED)\n"
   ]
  },
  {
   "cell_type": "markdown",
   "id": "WJuVU61pfuAU",
   "metadata": {
    "id": "WJuVU61pfuAU"
   },
   "source": [
    "Generate a decision tree in which the minimum number of samples for splitting is ten and use entropy. What is the system's entropy?\n",
    "\n",
    "Note: For this task, you must use the p_decision_tree library."
   ]
  },
  {
   "cell_type": "code",
   "execution_count": 21,
   "id": "6a779d60",
   "metadata": {
    "id": "ly3THPi7PdLJ"
   },
   "outputs": [
    {
     "data": {
      "image/svg+xml": [
       "<?xml version=\"1.0\" encoding=\"UTF-8\" standalone=\"no\"?>\n",
       "<!DOCTYPE svg PUBLIC \"-//W3C//DTD SVG 1.1//EN\"\n",
       " \"http://www.w3.org/Graphics/SVG/1.1/DTD/svg11.dtd\">\n",
       "<!-- Generated by graphviz version 2.43.0 (0)\n",
       " -->\n",
       "<!-- Title: %3 Pages: 1 -->\n",
       "<svg width=\"4872pt\" height=\"476pt\"\n",
       " viewBox=\"0.00 0.00 4871.79 476.00\" xmlns=\"http://www.w3.org/2000/svg\" xmlns:xlink=\"http://www.w3.org/1999/xlink\">\n",
       "<g id=\"graph0\" class=\"graph\" transform=\"scale(1 1) rotate(0) translate(4 472)\">\n",
       "<title>%3</title>\n",
       "<polygon fill=\"white\" stroke=\"transparent\" points=\"-4,4 -4,-472 4867.79,-472 4867.79,4 -4,4\"/>\n",
       "<!-- root -->\n",
       "<g id=\"node1\" class=\"node\">\n",
       "<title>root</title>\n",
       "<ellipse fill=\"none\" stroke=\"black\" cx=\"2695.59\" cy=\"-450\" rx=\"63.09\" ry=\"18\"/>\n",
       "<text text-anchor=\"middle\" x=\"2695.59\" y=\"-446.3\" font-family=\"Times,serif\" font-size=\"14.00\">number rooms</text>\n",
       "</g>\n",
       "<!-- 0.26237962811777393 -->\n",
       "<g id=\"node2\" class=\"node\">\n",
       "<title>0.26237962811777393</title>\n",
       "<ellipse fill=\"none\" stroke=\"black\" cx=\"1696.59\" cy=\"-378\" rx=\"27\" ry=\"18\"/>\n",
       "<text text-anchor=\"middle\" x=\"1696.59\" y=\"-374.3\" font-family=\"Times,serif\" font-size=\"14.00\">2</text>\n",
       "</g>\n",
       "<!-- root&#45;&gt;0.26237962811777393 -->\n",
       "<g id=\"edge1\" class=\"edge\">\n",
       "<title>root&#45;&gt;0.26237962811777393</title>\n",
       "<path fill=\"none\" stroke=\"black\" d=\"M2634.98,-444.75C2447.97,-431.65 1883.58,-392.1 1733.55,-381.59\"/>\n",
       "<polygon fill=\"black\" stroke=\"black\" points=\"1733.7,-378.09 1723.48,-380.88 1733.21,-385.07 1733.7,-378.09\"/>\n",
       "</g>\n",
       "<!-- 0.654594424111595 -->\n",
       "<g id=\"node4\" class=\"node\">\n",
       "<title>0.654594424111595</title>\n",
       "<ellipse fill=\"none\" stroke=\"black\" cx=\"2659.59\" cy=\"-378\" rx=\"27\" ry=\"18\"/>\n",
       "<text text-anchor=\"middle\" x=\"2659.59\" y=\"-374.3\" font-family=\"Times,serif\" font-size=\"14.00\">1</text>\n",
       "</g>\n",
       "<!-- root&#45;&gt;0.654594424111595 -->\n",
       "<g id=\"edge3\" class=\"edge\">\n",
       "<title>root&#45;&gt;0.654594424111595</title>\n",
       "<path fill=\"none\" stroke=\"black\" d=\"M2686.88,-432.05C2682.62,-423.77 2677.4,-413.62 2672.67,-404.42\"/>\n",
       "<polygon fill=\"black\" stroke=\"black\" points=\"2675.67,-402.6 2667.98,-395.31 2669.44,-405.8 2675.67,-402.6\"/>\n",
       "</g>\n",
       "<!-- 0.49249472159711005 -->\n",
       "<g id=\"node6\" class=\"node\">\n",
       "<title>0.49249472159711005</title>\n",
       "<ellipse fill=\"none\" stroke=\"black\" cx=\"3276.59\" cy=\"-378\" rx=\"27\" ry=\"18\"/>\n",
       "<text text-anchor=\"middle\" x=\"3276.59\" y=\"-374.3\" font-family=\"Times,serif\" font-size=\"14.00\">3</text>\n",
       "</g>\n",
       "<!-- root&#45;&gt;0.49249472159711005 -->\n",
       "<g id=\"edge5\" class=\"edge\">\n",
       "<title>root&#45;&gt;0.49249472159711005</title>\n",
       "<path fill=\"none\" stroke=\"black\" d=\"M2752.36,-442.16C2870.96,-427.87 3142.15,-395.2 3240.29,-383.37\"/>\n",
       "<polygon fill=\"black\" stroke=\"black\" points=\"3240.81,-386.84 3250.32,-382.17 3239.97,-379.89 3240.81,-386.84\"/>\n",
       "</g>\n",
       "<!-- 0.4980607816864423 -->\n",
       "<g id=\"node8\" class=\"node\">\n",
       "<title>0.4980607816864423</title>\n",
       "<ellipse fill=\"none\" stroke=\"black\" cx=\"3969.59\" cy=\"-378\" rx=\"27\" ry=\"18\"/>\n",
       "<text text-anchor=\"middle\" x=\"3969.59\" y=\"-374.3\" font-family=\"Times,serif\" font-size=\"14.00\">4</text>\n",
       "</g>\n",
       "<!-- root&#45;&gt;0.4980607816864423 -->\n",
       "<g id=\"edge7\" class=\"edge\">\n",
       "<title>root&#45;&gt;0.4980607816864423</title>\n",
       "<path fill=\"none\" stroke=\"black\" d=\"M2757.04,-445.62C2981.59,-433.29 3753.93,-390.85 3932.53,-381.04\"/>\n",
       "<polygon fill=\"black\" stroke=\"black\" points=\"3932.93,-384.52 3942.72,-380.48 3932.54,-377.53 3932.93,-384.52\"/>\n",
       "</g>\n",
       "<!-- 0.9333094815654365 -->\n",
       "<g id=\"node3\" class=\"node\">\n",
       "<title>0.9333094815654365</title>\n",
       "<ellipse fill=\"none\" stroke=\"black\" cx=\"456.59\" cy=\"-306\" rx=\"82.59\" ry=\"18\"/>\n",
       "<text text-anchor=\"middle\" x=\"456.59\" y=\"-302.3\" font-family=\"Times,serif\" font-size=\"14.00\">neighborhood group</text>\n",
       "</g>\n",
       "<!-- 0.26237962811777393&#45;&gt;0.9333094815654365 -->\n",
       "<g id=\"edge2\" class=\"edge\">\n",
       "<title>0.26237962811777393&#45;&gt;0.9333094815654365</title>\n",
       "<path fill=\"none\" stroke=\"black\" d=\"M1669.83,-375.49C1521.77,-367.13 800.45,-326.41 545.82,-312.04\"/>\n",
       "<polygon fill=\"black\" stroke=\"black\" points=\"545.68,-308.52 535.5,-311.45 545.29,-315.51 545.68,-308.52\"/>\n",
       "</g>\n",
       "<!-- 0.6316318957342131 -->\n",
       "<g id=\"node10\" class=\"node\">\n",
       "<title>0.6316318957342131</title>\n",
       "<ellipse fill=\"none\" stroke=\"black\" cx=\"132.59\" cy=\"-234\" rx=\"48.99\" ry=\"18\"/>\n",
       "<text text-anchor=\"middle\" x=\"132.59\" y=\"-230.3\" font-family=\"Times,serif\" font-size=\"14.00\">Manhattan</text>\n",
       "</g>\n",
       "<!-- 0.9333094815654365&#45;&gt;0.6316318957342131 -->\n",
       "<g id=\"edge9\" class=\"edge\">\n",
       "<title>0.9333094815654365&#45;&gt;0.6316318957342131</title>\n",
       "<path fill=\"none\" stroke=\"black\" d=\"M394.43,-294.08C340.52,-284.25 260.54,-268.8 191.59,-252 187.46,-250.99 183.18,-249.89 178.9,-248.73\"/>\n",
       "<polygon fill=\"black\" stroke=\"black\" points=\"179.55,-245.28 168.98,-246 177.68,-252.03 179.55,-245.28\"/>\n",
       "</g>\n",
       "<!-- 0.17992714046249547 -->\n",
       "<g id=\"node12\" class=\"node\">\n",
       "<title>0.17992714046249547</title>\n",
       "<ellipse fill=\"none\" stroke=\"black\" cx=\"244.59\" cy=\"-234\" rx=\"44.39\" ry=\"18\"/>\n",
       "<text text-anchor=\"middle\" x=\"244.59\" y=\"-230.3\" font-family=\"Times,serif\" font-size=\"14.00\">Brooklyn</text>\n",
       "</g>\n",
       "<!-- 0.9333094815654365&#45;&gt;0.17992714046249547 -->\n",
       "<g id=\"edge11\" class=\"edge\">\n",
       "<title>0.9333094815654365&#45;&gt;0.17992714046249547</title>\n",
       "<path fill=\"none\" stroke=\"black\" d=\"M413.18,-290.67C376.53,-278.56 324.33,-261.33 287.75,-249.25\"/>\n",
       "<polygon fill=\"black\" stroke=\"black\" points=\"288.46,-245.8 277.87,-245.99 286.27,-252.45 288.46,-245.8\"/>\n",
       "</g>\n",
       "<!-- 0.6430076466459592 -->\n",
       "<g id=\"node14\" class=\"node\">\n",
       "<title>0.6430076466459592</title>\n",
       "<ellipse fill=\"none\" stroke=\"black\" cx=\"400.59\" cy=\"-234\" rx=\"56.59\" ry=\"18\"/>\n",
       "<text text-anchor=\"middle\" x=\"400.59\" y=\"-230.3\" font-family=\"Times,serif\" font-size=\"14.00\">Staten Island</text>\n",
       "</g>\n",
       "<!-- 0.9333094815654365&#45;&gt;0.6430076466459592 -->\n",
       "<g id=\"edge13\" class=\"edge\">\n",
       "<title>0.9333094815654365&#45;&gt;0.6430076466459592</title>\n",
       "<path fill=\"none\" stroke=\"black\" d=\"M443.04,-288.05C436.23,-279.54 427.85,-269.07 420.34,-259.68\"/>\n",
       "<polygon fill=\"black\" stroke=\"black\" points=\"423.01,-257.41 414.03,-251.79 417.54,-261.78 423.01,-257.41\"/>\n",
       "</g>\n",
       "<!-- 0.8648913264071005 -->\n",
       "<g id=\"node16\" class=\"node\">\n",
       "<title>0.8648913264071005</title>\n",
       "<ellipse fill=\"none\" stroke=\"black\" cx=\"512.59\" cy=\"-234\" rx=\"37.09\" ry=\"18\"/>\n",
       "<text text-anchor=\"middle\" x=\"512.59\" y=\"-230.3\" font-family=\"Times,serif\" font-size=\"14.00\">Queens</text>\n",
       "</g>\n",
       "<!-- 0.9333094815654365&#45;&gt;0.8648913264071005 -->\n",
       "<g id=\"edge15\" class=\"edge\">\n",
       "<title>0.9333094815654365&#45;&gt;0.8648913264071005</title>\n",
       "<path fill=\"none\" stroke=\"black\" d=\"M470.15,-288.05C477.06,-279.42 485.59,-268.76 493.18,-259.27\"/>\n",
       "<polygon fill=\"black\" stroke=\"black\" points=\"496.03,-261.3 499.55,-251.31 490.57,-256.93 496.03,-261.3\"/>\n",
       "</g>\n",
       "<!-- 0.059678907581183216 -->\n",
       "<g id=\"node18\" class=\"node\">\n",
       "<title>0.059678907581183216</title>\n",
       "<ellipse fill=\"none\" stroke=\"black\" cx=\"632.59\" cy=\"-234\" rx=\"32.49\" ry=\"18\"/>\n",
       "<text text-anchor=\"middle\" x=\"632.59\" y=\"-230.3\" font-family=\"Times,serif\" font-size=\"14.00\">Bronx</text>\n",
       "</g>\n",
       "<!-- 0.9333094815654365&#45;&gt;0.059678907581183216 -->\n",
       "<g id=\"edge17\" class=\"edge\">\n",
       "<title>0.9333094815654365&#45;&gt;0.059678907581183216</title>\n",
       "<path fill=\"none\" stroke=\"black\" d=\"M494.35,-289.98C524.84,-277.86 567.43,-260.92 597.26,-249.05\"/>\n",
       "<polygon fill=\"black\" stroke=\"black\" points=\"598.85,-252.19 606.85,-245.24 596.26,-245.68 598.85,-252.19\"/>\n",
       "</g>\n",
       "<!-- 0.05815724840638248 -->\n",
       "<g id=\"node5\" class=\"node\">\n",
       "<title>0.05815724840638248</title>\n",
       "<ellipse fill=\"none\" stroke=\"black\" cx=\"2387.59\" cy=\"-306\" rx=\"47.39\" ry=\"18\"/>\n",
       "<text text-anchor=\"middle\" x=\"2387.59\" y=\"-302.3\" font-family=\"Times,serif\" font-size=\"14.00\">room type</text>\n",
       "</g>\n",
       "<!-- 0.654594424111595&#45;&gt;0.05815724840638248 -->\n",
       "<g id=\"edge4\" class=\"edge\">\n",
       "<title>0.654594424111595&#45;&gt;0.05815724840638248</title>\n",
       "<path fill=\"none\" stroke=\"black\" d=\"M2634.49,-370.54C2589.36,-358.93 2493.82,-334.34 2435.72,-319.38\"/>\n",
       "<polygon fill=\"black\" stroke=\"black\" points=\"2436.58,-315.99 2426.02,-316.89 2434.84,-322.77 2436.58,-315.99\"/>\n",
       "</g>\n",
       "<!-- 0.9026047634002332 -->\n",
       "<g id=\"node20\" class=\"node\">\n",
       "<title>0.9026047634002332</title>\n",
       "<ellipse fill=\"none\" stroke=\"black\" cx=\"1386.59\" cy=\"-234\" rx=\"57.39\" ry=\"18\"/>\n",
       "<text text-anchor=\"middle\" x=\"1386.59\" y=\"-230.3\" font-family=\"Times,serif\" font-size=\"14.00\">Private room</text>\n",
       "</g>\n",
       "<!-- 0.05815724840638248&#45;&gt;0.9026047634002332 -->\n",
       "<g id=\"edge19\" class=\"edge\">\n",
       "<title>0.05815724840638248&#45;&gt;0.9026047634002332</title>\n",
       "<path fill=\"none\" stroke=\"black\" d=\"M2341.32,-301.76C2179.73,-290.46 1640.15,-252.73 1451.99,-239.57\"/>\n",
       "<polygon fill=\"black\" stroke=\"black\" points=\"1452.19,-236.08 1441.97,-238.87 1451.7,-243.06 1452.19,-236.08\"/>\n",
       "</g>\n",
       "<!-- 0.11592067869525757 -->\n",
       "<g id=\"node22\" class=\"node\">\n",
       "<title>0.11592067869525757</title>\n",
       "<ellipse fill=\"none\" stroke=\"black\" cx=\"2104.59\" cy=\"-234\" rx=\"67.69\" ry=\"18\"/>\n",
       "<text text-anchor=\"middle\" x=\"2104.59\" y=\"-230.3\" font-family=\"Times,serif\" font-size=\"14.00\">Entire home/apt</text>\n",
       "</g>\n",
       "<!-- 0.05815724840638248&#45;&gt;0.11592067869525757 -->\n",
       "<g id=\"edge21\" class=\"edge\">\n",
       "<title>0.05815724840638248&#45;&gt;0.11592067869525757</title>\n",
       "<path fill=\"none\" stroke=\"black\" d=\"M2348.84,-295.41C2300.57,-283.47 2217.69,-262.98 2162.04,-249.21\"/>\n",
       "<polygon fill=\"black\" stroke=\"black\" points=\"2162.87,-245.81 2152.32,-246.8 2161.19,-252.6 2162.87,-245.81\"/>\n",
       "</g>\n",
       "<!-- 0.7465021600456334 -->\n",
       "<g id=\"node24\" class=\"node\">\n",
       "<title>0.7465021600456334</title>\n",
       "<ellipse fill=\"none\" stroke=\"black\" cx=\"2387.59\" cy=\"-234\" rx=\"51.99\" ry=\"18\"/>\n",
       "<text text-anchor=\"middle\" x=\"2387.59\" y=\"-230.3\" font-family=\"Times,serif\" font-size=\"14.00\">Hotel room</text>\n",
       "</g>\n",
       "<!-- 0.05815724840638248&#45;&gt;0.7465021600456334 -->\n",
       "<g id=\"edge23\" class=\"edge\">\n",
       "<title>0.05815724840638248&#45;&gt;0.7465021600456334</title>\n",
       "<path fill=\"none\" stroke=\"black\" d=\"M2387.59,-287.7C2387.59,-279.98 2387.59,-270.71 2387.59,-262.11\"/>\n",
       "<polygon fill=\"black\" stroke=\"black\" points=\"2391.09,-262.1 2387.59,-252.1 2384.09,-262.1 2391.09,-262.1\"/>\n",
       "</g>\n",
       "<!-- 0.08617086587250788 -->\n",
       "<g id=\"node26\" class=\"node\">\n",
       "<title>0.08617086587250788</title>\n",
       "<ellipse fill=\"none\" stroke=\"black\" cx=\"2743.59\" cy=\"-234\" rx=\"56.59\" ry=\"18\"/>\n",
       "<text text-anchor=\"middle\" x=\"2743.59\" y=\"-230.3\" font-family=\"Times,serif\" font-size=\"14.00\">Shared room</text>\n",
       "</g>\n",
       "<!-- 0.05815724840638248&#45;&gt;0.08617086587250788 -->\n",
       "<g id=\"edge25\" class=\"edge\">\n",
       "<title>0.05815724840638248&#45;&gt;0.08617086587250788</title>\n",
       "<path fill=\"none\" stroke=\"black\" d=\"M2428.78,-296.9C2492.37,-284.4 2614.61,-260.36 2686.63,-246.2\"/>\n",
       "<polygon fill=\"black\" stroke=\"black\" points=\"2687.74,-249.55 2696.88,-244.19 2686.39,-242.68 2687.74,-249.55\"/>\n",
       "</g>\n",
       "<!-- 0.41750640267255457 -->\n",
       "<g id=\"node7\" class=\"node\">\n",
       "<title>0.41750640267255457</title>\n",
       "<ellipse fill=\"none\" stroke=\"black\" cx=\"3618.59\" cy=\"-306\" rx=\"82.59\" ry=\"18\"/>\n",
       "<text text-anchor=\"middle\" x=\"3618.59\" y=\"-302.3\" font-family=\"Times,serif\" font-size=\"14.00\">neighborhood group</text>\n",
       "</g>\n",
       "<!-- 0.49249472159711005&#45;&gt;0.41750640267255457 -->\n",
       "<g id=\"edge6\" class=\"edge\">\n",
       "<title>0.49249472159711005&#45;&gt;0.41750640267255457</title>\n",
       "<path fill=\"none\" stroke=\"black\" d=\"M3302.02,-371.8C3354.02,-361.15 3474.06,-336.58 3550.47,-320.94\"/>\n",
       "<polygon fill=\"black\" stroke=\"black\" points=\"3551.39,-324.33 3560.49,-318.89 3549.99,-317.47 3551.39,-324.33\"/>\n",
       "</g>\n",
       "<!-- 0.5701034166121218 -->\n",
       "<g id=\"node28\" class=\"node\">\n",
       "<title>0.5701034166121218</title>\n",
       "<ellipse fill=\"none\" stroke=\"black\" cx=\"3439.59\" cy=\"-234\" rx=\"32.49\" ry=\"18\"/>\n",
       "<text text-anchor=\"middle\" x=\"3439.59\" y=\"-230.3\" font-family=\"Times,serif\" font-size=\"14.00\">Bronx</text>\n",
       "</g>\n",
       "<!-- 0.41750640267255457&#45;&gt;0.5701034166121218 -->\n",
       "<g id=\"edge27\" class=\"edge\">\n",
       "<title>0.41750640267255457&#45;&gt;0.5701034166121218</title>\n",
       "<path fill=\"none\" stroke=\"black\" d=\"M3580.19,-289.98C3548.96,-277.77 3505.23,-260.67 3474.86,-248.79\"/>\n",
       "<polygon fill=\"black\" stroke=\"black\" points=\"3476.1,-245.52 3465.51,-245.13 3473.55,-252.04 3476.1,-245.52\"/>\n",
       "</g>\n",
       "<!-- 0.547027013429793 -->\n",
       "<g id=\"node30\" class=\"node\">\n",
       "<title>0.547027013429793</title>\n",
       "<ellipse fill=\"none\" stroke=\"black\" cx=\"3557.59\" cy=\"-234\" rx=\"44.39\" ry=\"18\"/>\n",
       "<text text-anchor=\"middle\" x=\"3557.59\" y=\"-230.3\" font-family=\"Times,serif\" font-size=\"14.00\">Brooklyn</text>\n",
       "</g>\n",
       "<!-- 0.41750640267255457&#45;&gt;0.547027013429793 -->\n",
       "<g id=\"edge29\" class=\"edge\">\n",
       "<title>0.41750640267255457&#45;&gt;0.547027013429793</title>\n",
       "<path fill=\"none\" stroke=\"black\" d=\"M3603.83,-288.05C3596.22,-279.33 3586.83,-268.54 3578.49,-258.98\"/>\n",
       "<polygon fill=\"black\" stroke=\"black\" points=\"3581.01,-256.55 3571.8,-251.31 3575.74,-261.15 3581.01,-256.55\"/>\n",
       "</g>\n",
       "<!-- 0.5258827815056539 -->\n",
       "<g id=\"node32\" class=\"node\">\n",
       "<title>0.5258827815056539</title>\n",
       "<ellipse fill=\"none\" stroke=\"black\" cx=\"3671.59\" cy=\"-234\" rx=\"48.99\" ry=\"18\"/>\n",
       "<text text-anchor=\"middle\" x=\"3671.59\" y=\"-230.3\" font-family=\"Times,serif\" font-size=\"14.00\">Manhattan</text>\n",
       "</g>\n",
       "<!-- 0.41750640267255457&#45;&gt;0.5258827815056539 -->\n",
       "<g id=\"edge31\" class=\"edge\">\n",
       "<title>0.41750640267255457&#45;&gt;0.5258827815056539</title>\n",
       "<path fill=\"none\" stroke=\"black\" d=\"M3631.42,-288.05C3637.8,-279.63 3645.64,-269.28 3652.69,-259.97\"/>\n",
       "<polygon fill=\"black\" stroke=\"black\" points=\"3655.64,-261.87 3658.88,-251.79 3650.06,-257.65 3655.64,-261.87\"/>\n",
       "</g>\n",
       "<!-- 0.4606001362393234 -->\n",
       "<g id=\"node34\" class=\"node\">\n",
       "<title>0.4606001362393234</title>\n",
       "<ellipse fill=\"none\" stroke=\"black\" cx=\"3798.59\" cy=\"-234\" rx=\"37.09\" ry=\"18\"/>\n",
       "<text text-anchor=\"middle\" x=\"3798.59\" y=\"-230.3\" font-family=\"Times,serif\" font-size=\"14.00\">Queens</text>\n",
       "</g>\n",
       "<!-- 0.41750640267255457&#45;&gt;0.4606001362393234 -->\n",
       "<g id=\"edge33\" class=\"edge\">\n",
       "<title>0.41750640267255457&#45;&gt;0.4606001362393234</title>\n",
       "<path fill=\"none\" stroke=\"black\" d=\"M3657.21,-289.98C3687.97,-278.02 3730.77,-261.38 3761.21,-249.54\"/>\n",
       "<polygon fill=\"black\" stroke=\"black\" points=\"3762.57,-252.76 3770.62,-245.88 3760.03,-246.24 3762.57,-252.76\"/>\n",
       "</g>\n",
       "<!-- 0.1488502674386023 -->\n",
       "<g id=\"node36\" class=\"node\">\n",
       "<title>0.1488502674386023</title>\n",
       "<ellipse fill=\"none\" stroke=\"black\" cx=\"3940.59\" cy=\"-234\" rx=\"56.59\" ry=\"18\"/>\n",
       "<text text-anchor=\"middle\" x=\"3940.59\" y=\"-230.3\" font-family=\"Times,serif\" font-size=\"14.00\">Staten Island</text>\n",
       "</g>\n",
       "<!-- 0.41750640267255457&#45;&gt;0.1488502674386023 -->\n",
       "<g id=\"edge35\" class=\"edge\">\n",
       "<title>0.41750640267255457&#45;&gt;0.1488502674386023</title>\n",
       "<path fill=\"none\" stroke=\"black\" d=\"M3675.05,-292.73C3734.3,-279.85 3826.83,-259.73 3885.55,-246.97\"/>\n",
       "<polygon fill=\"black\" stroke=\"black\" points=\"3886.36,-250.37 3895.38,-244.83 3884.87,-243.53 3886.36,-250.37\"/>\n",
       "</g>\n",
       "<!-- 0.6000830594477058 -->\n",
       "<g id=\"node9\" class=\"node\">\n",
       "<title>0.6000830594477058</title>\n",
       "<ellipse fill=\"none\" stroke=\"black\" cx=\"4397.59\" cy=\"-306\" rx=\"82.59\" ry=\"18\"/>\n",
       "<text text-anchor=\"middle\" x=\"4397.59\" y=\"-302.3\" font-family=\"Times,serif\" font-size=\"14.00\">neighborhood group</text>\n",
       "</g>\n",
       "<!-- 0.4980607816864423&#45;&gt;0.6000830594477058 -->\n",
       "<g id=\"edge8\" class=\"edge\">\n",
       "<title>0.4980607816864423&#45;&gt;0.6000830594477058</title>\n",
       "<path fill=\"none\" stroke=\"black\" d=\"M3995.72,-372.73C4059.7,-362.26 4226.09,-335.05 4323.54,-319.11\"/>\n",
       "<polygon fill=\"black\" stroke=\"black\" points=\"4324.31,-322.53 4333.62,-317.46 4323.18,-315.62 4324.31,-322.53\"/>\n",
       "</g>\n",
       "<!-- 0.17974586661587044 -->\n",
       "<g id=\"node38\" class=\"node\">\n",
       "<title>0.17974586661587044</title>\n",
       "<ellipse fill=\"none\" stroke=\"black\" cx=\"4214.59\" cy=\"-234\" rx=\"37.09\" ry=\"18\"/>\n",
       "<text text-anchor=\"middle\" x=\"4214.59\" y=\"-230.3\" font-family=\"Times,serif\" font-size=\"14.00\">Queens</text>\n",
       "</g>\n",
       "<!-- 0.6000830594477058&#45;&gt;0.17974586661587044 -->\n",
       "<g id=\"edge37\" class=\"edge\">\n",
       "<title>0.6000830594477058&#45;&gt;0.17974586661587044</title>\n",
       "<path fill=\"none\" stroke=\"black\" d=\"M4358.34,-289.98C4326.97,-277.98 4283.28,-261.27 4252.32,-249.43\"/>\n",
       "<polygon fill=\"black\" stroke=\"black\" points=\"4253.34,-246.07 4242.75,-245.77 4250.84,-252.61 4253.34,-246.07\"/>\n",
       "</g>\n",
       "<!-- 0.12685854829497845 -->\n",
       "<g id=\"node40\" class=\"node\">\n",
       "<title>0.12685854829497845</title>\n",
       "<ellipse fill=\"none\" stroke=\"black\" cx=\"4345.59\" cy=\"-234\" rx=\"44.39\" ry=\"18\"/>\n",
       "<text text-anchor=\"middle\" x=\"4345.59\" y=\"-230.3\" font-family=\"Times,serif\" font-size=\"14.00\">Brooklyn</text>\n",
       "</g>\n",
       "<!-- 0.6000830594477058&#45;&gt;0.12685854829497845 -->\n",
       "<g id=\"edge39\" class=\"edge\">\n",
       "<title>0.6000830594477058&#45;&gt;0.12685854829497845</title>\n",
       "<path fill=\"none\" stroke=\"black\" d=\"M4385.01,-288.05C4378.75,-279.63 4371.06,-269.28 4364.14,-259.97\"/>\n",
       "<polygon fill=\"black\" stroke=\"black\" points=\"4366.84,-257.73 4358.07,-251.79 4361.22,-261.9 4366.84,-257.73\"/>\n",
       "</g>\n",
       "<!-- 0.8599080723012782 -->\n",
       "<g id=\"node42\" class=\"node\">\n",
       "<title>0.8599080723012782</title>\n",
       "<ellipse fill=\"none\" stroke=\"black\" cx=\"4449.59\" cy=\"-234\" rx=\"32.49\" ry=\"18\"/>\n",
       "<text text-anchor=\"middle\" x=\"4449.59\" y=\"-230.3\" font-family=\"Times,serif\" font-size=\"14.00\">Bronx</text>\n",
       "</g>\n",
       "<!-- 0.6000830594477058&#45;&gt;0.8599080723012782 -->\n",
       "<g id=\"edge41\" class=\"edge\">\n",
       "<title>0.6000830594477058&#45;&gt;0.8599080723012782</title>\n",
       "<path fill=\"none\" stroke=\"black\" d=\"M4410.18,-288.05C4416.63,-279.38 4424.58,-268.67 4431.66,-259.15\"/>\n",
       "<polygon fill=\"black\" stroke=\"black\" points=\"4434.68,-260.94 4437.84,-250.83 4429.06,-256.77 4434.68,-260.94\"/>\n",
       "</g>\n",
       "<!-- 0.1428121982618593 -->\n",
       "<g id=\"node44\" class=\"node\">\n",
       "<title>0.1428121982618593</title>\n",
       "<ellipse fill=\"none\" stroke=\"black\" cx=\"4554.59\" cy=\"-234\" rx=\"48.99\" ry=\"18\"/>\n",
       "<text text-anchor=\"middle\" x=\"4554.59\" y=\"-230.3\" font-family=\"Times,serif\" font-size=\"14.00\">Manhattan</text>\n",
       "</g>\n",
       "<!-- 0.6000830594477058&#45;&gt;0.1428121982618593 -->\n",
       "<g id=\"edge43\" class=\"edge\">\n",
       "<title>0.6000830594477058&#45;&gt;0.1428121982618593</title>\n",
       "<path fill=\"none\" stroke=\"black\" d=\"M4432.05,-289.64C4456.62,-278.68 4489.71,-263.93 4515.31,-252.52\"/>\n",
       "<polygon fill=\"black\" stroke=\"black\" points=\"4517.01,-255.59 4524.72,-248.32 4514.16,-249.2 4517.01,-255.59\"/>\n",
       "</g>\n",
       "<!-- 0.038864387462559824 -->\n",
       "<g id=\"node46\" class=\"node\">\n",
       "<title>0.038864387462559824</title>\n",
       "<ellipse fill=\"none\" stroke=\"black\" cx=\"4680.59\" cy=\"-234\" rx=\"56.59\" ry=\"18\"/>\n",
       "<text text-anchor=\"middle\" x=\"4680.59\" y=\"-230.3\" font-family=\"Times,serif\" font-size=\"14.00\">Staten Island</text>\n",
       "</g>\n",
       "<!-- 0.6000830594477058&#45;&gt;0.038864387462559824 -->\n",
       "<g id=\"edge45\" class=\"edge\">\n",
       "<title>0.6000830594477058&#45;&gt;0.038864387462559824</title>\n",
       "<path fill=\"none\" stroke=\"black\" d=\"M4450.18,-292.09C4493.72,-281.39 4557.19,-265.76 4612.59,-252 4617.49,-250.79 4622.58,-249.52 4627.68,-248.25\"/>\n",
       "<polygon fill=\"black\" stroke=\"black\" points=\"4628.58,-251.63 4637.43,-245.81 4626.88,-244.84 4628.58,-251.63\"/>\n",
       "</g>\n",
       "<!-- 0.6857999809433669 -->\n",
       "<g id=\"node11\" class=\"node\">\n",
       "<title>0.6857999809433669</title>\n",
       "<ellipse fill=\"none\" stroke=\"black\" cx=\"73.59\" cy=\"-162\" rx=\"47.39\" ry=\"18\"/>\n",
       "<text text-anchor=\"middle\" x=\"73.59\" y=\"-158.3\" font-family=\"Times,serif\" font-size=\"14.00\">room type</text>\n",
       "</g>\n",
       "<!-- 0.6316318957342131&#45;&gt;0.6857999809433669 -->\n",
       "<g id=\"edge10\" class=\"edge\">\n",
       "<title>0.6316318957342131&#45;&gt;0.6857999809433669</title>\n",
       "<path fill=\"none\" stroke=\"black\" d=\"M118.61,-216.41C111.26,-207.69 102.12,-196.85 94,-187.21\"/>\n",
       "<polygon fill=\"black\" stroke=\"black\" points=\"96.6,-184.86 87.48,-179.47 91.24,-189.37 96.6,-184.86\"/>\n",
       "</g>\n",
       "<!-- 0.43633501168563416 -->\n",
       "<g id=\"node48\" class=\"node\">\n",
       "<title>0.43633501168563416</title>\n",
       "<ellipse fill=\"none\" stroke=\"black\" cx=\"67.59\" cy=\"-90\" rx=\"67.69\" ry=\"18\"/>\n",
       "<text text-anchor=\"middle\" x=\"67.59\" y=\"-86.3\" font-family=\"Times,serif\" font-size=\"14.00\">Entire home/apt</text>\n",
       "</g>\n",
       "<!-- 0.6857999809433669&#45;&gt;0.43633501168563416 -->\n",
       "<g id=\"edge47\" class=\"edge\">\n",
       "<title>0.6857999809433669&#45;&gt;0.43633501168563416</title>\n",
       "<path fill=\"none\" stroke=\"black\" d=\"M72.11,-143.7C71.45,-135.98 70.66,-126.71 69.92,-118.11\"/>\n",
       "<polygon fill=\"black\" stroke=\"black\" points=\"73.4,-117.77 69.06,-108.1 66.43,-118.37 73.4,-117.77\"/>\n",
       "</g>\n",
       "<!-- 0.1604541452959487 -->\n",
       "<g id=\"node13\" class=\"node\">\n",
       "<title>0.1604541452959487</title>\n",
       "<ellipse fill=\"none\" stroke=\"black\" cx=\"225.59\" cy=\"-162\" rx=\"47.39\" ry=\"18\"/>\n",
       "<text text-anchor=\"middle\" x=\"225.59\" y=\"-158.3\" font-family=\"Times,serif\" font-size=\"14.00\">room type</text>\n",
       "</g>\n",
       "<!-- 0.17992714046249547&#45;&gt;0.1604541452959487 -->\n",
       "<g id=\"edge12\" class=\"edge\">\n",
       "<title>0.17992714046249547&#45;&gt;0.1604541452959487</title>\n",
       "<path fill=\"none\" stroke=\"black\" d=\"M239.99,-216.05C237.88,-208.26 235.32,-198.82 232.94,-190.08\"/>\n",
       "<polygon fill=\"black\" stroke=\"black\" points=\"236.28,-189.01 230.28,-180.28 229.52,-190.84 236.28,-189.01\"/>\n",
       "</g>\n",
       "<!-- 0.16991499235623986 -->\n",
       "<g id=\"node50\" class=\"node\">\n",
       "<title>0.16991499235623986</title>\n",
       "<ellipse fill=\"none\" stroke=\"black\" cx=\"220.59\" cy=\"-90\" rx=\"67.69\" ry=\"18\"/>\n",
       "<text text-anchor=\"middle\" x=\"220.59\" y=\"-86.3\" font-family=\"Times,serif\" font-size=\"14.00\">Entire home/apt</text>\n",
       "</g>\n",
       "<!-- 0.1604541452959487&#45;&gt;0.16991499235623986 -->\n",
       "<g id=\"edge49\" class=\"edge\">\n",
       "<title>0.1604541452959487&#45;&gt;0.16991499235623986</title>\n",
       "<path fill=\"none\" stroke=\"black\" d=\"M224.36,-143.7C223.81,-135.98 223.14,-126.71 222.53,-118.11\"/>\n",
       "<polygon fill=\"black\" stroke=\"black\" points=\"226.02,-117.83 221.82,-108.1 219.04,-118.33 226.02,-117.83\"/>\n",
       "</g>\n",
       "<!-- 0.7289714009691818 -->\n",
       "<g id=\"node15\" class=\"node\">\n",
       "<title>0.7289714009691818</title>\n",
       "<ellipse fill=\"none\" stroke=\"black\" cx=\"384.59\" cy=\"-162\" rx=\"47.39\" ry=\"18\"/>\n",
       "<text text-anchor=\"middle\" x=\"384.59\" y=\"-158.3\" font-family=\"Times,serif\" font-size=\"14.00\">room type</text>\n",
       "</g>\n",
       "<!-- 0.6430076466459592&#45;&gt;0.7289714009691818 -->\n",
       "<g id=\"edge14\" class=\"edge\">\n",
       "<title>0.6430076466459592&#45;&gt;0.7289714009691818</title>\n",
       "<path fill=\"none\" stroke=\"black\" d=\"M396.64,-215.7C394.88,-207.98 392.76,-198.71 390.79,-190.11\"/>\n",
       "<polygon fill=\"black\" stroke=\"black\" points=\"394.14,-189.07 388.5,-180.1 387.32,-190.63 394.14,-189.07\"/>\n",
       "</g>\n",
       "<!-- 0.36519084537934754 -->\n",
       "<g id=\"node52\" class=\"node\">\n",
       "<title>0.36519084537934754</title>\n",
       "<ellipse fill=\"none\" stroke=\"black\" cx=\"373.59\" cy=\"-90\" rx=\"67.69\" ry=\"18\"/>\n",
       "<text text-anchor=\"middle\" x=\"373.59\" y=\"-86.3\" font-family=\"Times,serif\" font-size=\"14.00\">Entire home/apt</text>\n",
       "</g>\n",
       "<!-- 0.7289714009691818&#45;&gt;0.36519084537934754 -->\n",
       "<g id=\"edge51\" class=\"edge\">\n",
       "<title>0.7289714009691818&#45;&gt;0.36519084537934754</title>\n",
       "<path fill=\"none\" stroke=\"black\" d=\"M381.87,-143.7C380.66,-135.98 379.21,-126.71 377.85,-118.11\"/>\n",
       "<polygon fill=\"black\" stroke=\"black\" points=\"381.29,-117.44 376.28,-108.1 374.38,-118.53 381.29,-117.44\"/>\n",
       "</g>\n",
       "<!-- 0.04923479433814515 -->\n",
       "<g id=\"node17\" class=\"node\">\n",
       "<title>0.04923479433814515</title>\n",
       "<ellipse fill=\"none\" stroke=\"black\" cx=\"517.59\" cy=\"-162\" rx=\"47.39\" ry=\"18\"/>\n",
       "<text text-anchor=\"middle\" x=\"517.59\" y=\"-158.3\" font-family=\"Times,serif\" font-size=\"14.00\">room type</text>\n",
       "</g>\n",
       "<!-- 0.8648913264071005&#45;&gt;0.04923479433814515 -->\n",
       "<g id=\"edge16\" class=\"edge\">\n",
       "<title>0.8648913264071005&#45;&gt;0.04923479433814515</title>\n",
       "<path fill=\"none\" stroke=\"black\" d=\"M513.83,-215.7C514.38,-207.98 515.04,-198.71 515.66,-190.11\"/>\n",
       "<polygon fill=\"black\" stroke=\"black\" points=\"519.15,-190.33 516.37,-180.1 512.17,-189.83 519.15,-190.33\"/>\n",
       "</g>\n",
       "<!-- 0.8025530821842584 -->\n",
       "<g id=\"node54\" class=\"node\">\n",
       "<title>0.8025530821842584</title>\n",
       "<ellipse fill=\"none\" stroke=\"black\" cx=\"526.59\" cy=\"-90\" rx=\"67.69\" ry=\"18\"/>\n",
       "<text text-anchor=\"middle\" x=\"526.59\" y=\"-86.3\" font-family=\"Times,serif\" font-size=\"14.00\">Entire home/apt</text>\n",
       "</g>\n",
       "<!-- 0.04923479433814515&#45;&gt;0.8025530821842584 -->\n",
       "<g id=\"edge53\" class=\"edge\">\n",
       "<title>0.04923479433814515&#45;&gt;0.8025530821842584</title>\n",
       "<path fill=\"none\" stroke=\"black\" d=\"M519.82,-143.7C520.81,-135.98 522,-126.71 523.11,-118.11\"/>\n",
       "<polygon fill=\"black\" stroke=\"black\" points=\"526.59,-118.47 524.39,-108.1 519.65,-117.58 526.59,-118.47\"/>\n",
       "</g>\n",
       "<!-- 0.9313561636009156 -->\n",
       "<g id=\"node19\" class=\"node\">\n",
       "<title>0.9313561636009156</title>\n",
       "<ellipse fill=\"none\" stroke=\"black\" cx=\"656.59\" cy=\"-162\" rx=\"47.39\" ry=\"18\"/>\n",
       "<text text-anchor=\"middle\" x=\"656.59\" y=\"-158.3\" font-family=\"Times,serif\" font-size=\"14.00\">room type</text>\n",
       "</g>\n",
       "<!-- 0.059678907581183216&#45;&gt;0.9313561636009156 -->\n",
       "<g id=\"edge18\" class=\"edge\">\n",
       "<title>0.059678907581183216&#45;&gt;0.9313561636009156</title>\n",
       "<path fill=\"none\" stroke=\"black\" d=\"M638.4,-216.05C641.11,-208.18 644.38,-198.62 647.41,-189.79\"/>\n",
       "<polygon fill=\"black\" stroke=\"black\" points=\"650.74,-190.87 650.67,-180.28 644.12,-188.6 650.74,-190.87\"/>\n",
       "</g>\n",
       "<!-- 0.1378364989278157 -->\n",
       "<g id=\"node56\" class=\"node\">\n",
       "<title>0.1378364989278157</title>\n",
       "<ellipse fill=\"none\" stroke=\"black\" cx=\"679.59\" cy=\"-90\" rx=\"67.69\" ry=\"18\"/>\n",
       "<text text-anchor=\"middle\" x=\"679.59\" y=\"-86.3\" font-family=\"Times,serif\" font-size=\"14.00\">Entire home/apt</text>\n",
       "</g>\n",
       "<!-- 0.9313561636009156&#45;&gt;0.1378364989278157 -->\n",
       "<g id=\"edge55\" class=\"edge\">\n",
       "<title>0.9313561636009156&#45;&gt;0.1378364989278157</title>\n",
       "<path fill=\"none\" stroke=\"black\" d=\"M662.16,-144.05C664.75,-136.18 667.89,-126.62 670.79,-117.79\"/>\n",
       "<polygon fill=\"black\" stroke=\"black\" points=\"674.12,-118.87 673.92,-108.28 667.47,-116.68 674.12,-118.87\"/>\n",
       "</g>\n",
       "<!-- 0.6890241544114832 -->\n",
       "<g id=\"node21\" class=\"node\">\n",
       "<title>0.6890241544114832</title>\n",
       "<ellipse fill=\"none\" stroke=\"black\" cx=\"1160.59\" cy=\"-162\" rx=\"82.59\" ry=\"18\"/>\n",
       "<text text-anchor=\"middle\" x=\"1160.59\" y=\"-158.3\" font-family=\"Times,serif\" font-size=\"14.00\">neighborhood group</text>\n",
       "</g>\n",
       "<!-- 0.9026047634002332&#45;&gt;0.6890241544114832 -->\n",
       "<g id=\"edge20\" class=\"edge\">\n",
       "<title>0.9026047634002332&#45;&gt;0.6890241544114832</title>\n",
       "<path fill=\"none\" stroke=\"black\" d=\"M1347.23,-220.81C1310.89,-209.55 1256.57,-192.73 1215.88,-180.13\"/>\n",
       "<polygon fill=\"black\" stroke=\"black\" points=\"1216.7,-176.72 1206.12,-177.1 1214.63,-183.4 1216.7,-176.72\"/>\n",
       "</g>\n",
       "<!-- 0.6858629214551394 -->\n",
       "<g id=\"node58\" class=\"node\">\n",
       "<title>0.6858629214551394</title>\n",
       "<ellipse fill=\"none\" stroke=\"black\" cx=\"843.59\" cy=\"-90\" rx=\"48.99\" ry=\"18\"/>\n",
       "<text text-anchor=\"middle\" x=\"843.59\" y=\"-86.3\" font-family=\"Times,serif\" font-size=\"14.00\">Manhattan</text>\n",
       "</g>\n",
       "<!-- 0.6890241544114832&#45;&gt;0.6858629214551394 -->\n",
       "<g id=\"edge57\" class=\"edge\">\n",
       "<title>0.6890241544114832&#45;&gt;0.6858629214551394</title>\n",
       "<path fill=\"none\" stroke=\"black\" d=\"M1104.65,-148.65C1045.13,-135.5 951.78,-114.89 894.33,-102.2\"/>\n",
       "<polygon fill=\"black\" stroke=\"black\" points=\"894.9,-98.75 884.38,-100.01 893.39,-105.58 894.9,-98.75\"/>\n",
       "</g>\n",
       "<!-- 0.8425558132084386 -->\n",
       "<g id=\"node60\" class=\"node\">\n",
       "<title>0.8425558132084386</title>\n",
       "<ellipse fill=\"none\" stroke=\"black\" cx=\"987.59\" cy=\"-90\" rx=\"44.39\" ry=\"18\"/>\n",
       "<text text-anchor=\"middle\" x=\"987.59\" y=\"-86.3\" font-family=\"Times,serif\" font-size=\"14.00\">Brooklyn</text>\n",
       "</g>\n",
       "<!-- 0.6890241544114832&#45;&gt;0.8425558132084386 -->\n",
       "<g id=\"edge59\" class=\"edge\">\n",
       "<title>0.6890241544114832&#45;&gt;0.8425558132084386</title>\n",
       "<path fill=\"none\" stroke=\"black\" d=\"M1123.06,-145.81C1094.75,-134.36 1056.02,-118.69 1027.22,-107.03\"/>\n",
       "<polygon fill=\"black\" stroke=\"black\" points=\"1028.45,-103.76 1017.87,-103.25 1025.82,-110.24 1028.45,-103.76\"/>\n",
       "</g>\n",
       "<!-- 0.16418392836068973 -->\n",
       "<g id=\"node62\" class=\"node\">\n",
       "<title>0.16418392836068973</title>\n",
       "<ellipse fill=\"none\" stroke=\"black\" cx=\"1103.59\" cy=\"-90\" rx=\"37.09\" ry=\"18\"/>\n",
       "<text text-anchor=\"middle\" x=\"1103.59\" y=\"-86.3\" font-family=\"Times,serif\" font-size=\"14.00\">Queens</text>\n",
       "</g>\n",
       "<!-- 0.6890241544114832&#45;&gt;0.16418392836068973 -->\n",
       "<g id=\"edge61\" class=\"edge\">\n",
       "<title>0.6890241544114832&#45;&gt;0.16418392836068973</title>\n",
       "<path fill=\"none\" stroke=\"black\" d=\"M1146.8,-144.05C1139.76,-135.42 1131.08,-124.76 1123.36,-115.27\"/>\n",
       "<polygon fill=\"black\" stroke=\"black\" points=\"1125.9,-112.85 1116.87,-107.31 1120.47,-117.27 1125.9,-112.85\"/>\n",
       "</g>\n",
       "<!-- 0.3814784080505108 -->\n",
       "<g id=\"node64\" class=\"node\">\n",
       "<title>0.3814784080505108</title>\n",
       "<ellipse fill=\"none\" stroke=\"black\" cx=\"1223.59\" cy=\"-90\" rx=\"56.59\" ry=\"18\"/>\n",
       "<text text-anchor=\"middle\" x=\"1223.59\" y=\"-86.3\" font-family=\"Times,serif\" font-size=\"14.00\">Staten Island</text>\n",
       "</g>\n",
       "<!-- 0.6890241544114832&#45;&gt;0.3814784080505108 -->\n",
       "<g id=\"edge63\" class=\"edge\">\n",
       "<title>0.6890241544114832&#45;&gt;0.3814784080505108</title>\n",
       "<path fill=\"none\" stroke=\"black\" d=\"M1175.84,-144.05C1183.58,-135.46 1193.12,-124.86 1201.64,-115.4\"/>\n",
       "<polygon fill=\"black\" stroke=\"black\" points=\"1204.4,-117.56 1208.48,-107.79 1199.19,-112.88 1204.4,-117.56\"/>\n",
       "</g>\n",
       "<!-- 0.022842119639846614 -->\n",
       "<g id=\"node66\" class=\"node\">\n",
       "<title>0.022842119639846614</title>\n",
       "<ellipse fill=\"none\" stroke=\"black\" cx=\"1358.59\" cy=\"-90\" rx=\"32.49\" ry=\"18\"/>\n",
       "<text text-anchor=\"middle\" x=\"1358.59\" y=\"-86.3\" font-family=\"Times,serif\" font-size=\"14.00\">Bronx</text>\n",
       "</g>\n",
       "<!-- 0.6890241544114832&#45;&gt;0.022842119639846614 -->\n",
       "<g id=\"edge65\" class=\"edge\">\n",
       "<title>0.6890241544114832&#45;&gt;0.022842119639846614</title>\n",
       "<path fill=\"none\" stroke=\"black\" d=\"M1202.1,-146.33C1237.71,-133.74 1288.5,-115.78 1322.46,-103.77\"/>\n",
       "<polygon fill=\"black\" stroke=\"black\" points=\"1323.73,-107.04 1331.99,-100.4 1321.4,-100.44 1323.73,-107.04\"/>\n",
       "</g>\n",
       "<!-- 0.7231389977815891 -->\n",
       "<g id=\"node23\" class=\"node\">\n",
       "<title>0.7231389977815891</title>\n",
       "<ellipse fill=\"none\" stroke=\"black\" cx=\"1889.59\" cy=\"-162\" rx=\"82.59\" ry=\"18\"/>\n",
       "<text text-anchor=\"middle\" x=\"1889.59\" y=\"-158.3\" font-family=\"Times,serif\" font-size=\"14.00\">neighborhood group</text>\n",
       "</g>\n",
       "<!-- 0.11592067869525757&#45;&gt;0.7231389977815891 -->\n",
       "<g id=\"edge22\" class=\"edge\">\n",
       "<title>0.11592067869525757&#45;&gt;0.7231389977815891</title>\n",
       "<path fill=\"none\" stroke=\"black\" d=\"M2063.65,-219.67C2029.54,-208.56 1980.68,-192.66 1943.41,-180.52\"/>\n",
       "<polygon fill=\"black\" stroke=\"black\" points=\"1944.31,-177.13 1933.72,-177.37 1942.14,-183.79 1944.31,-177.13\"/>\n",
       "</g>\n",
       "<!-- 0.7049902782756592 -->\n",
       "<g id=\"node68\" class=\"node\">\n",
       "<title>0.7049902782756592</title>\n",
       "<ellipse fill=\"none\" stroke=\"black\" cx=\"1546.59\" cy=\"-90\" rx=\"48.99\" ry=\"18\"/>\n",
       "<text text-anchor=\"middle\" x=\"1546.59\" y=\"-86.3\" font-family=\"Times,serif\" font-size=\"14.00\">Manhattan</text>\n",
       "</g>\n",
       "<!-- 0.7231389977815891&#45;&gt;0.7049902782756592 -->\n",
       "<g id=\"edge67\" class=\"edge\">\n",
       "<title>0.7231389977815891&#45;&gt;0.7049902782756592</title>\n",
       "<path fill=\"none\" stroke=\"black\" d=\"M1830.1,-149.51C1776.14,-139 1694.45,-122.88 1623.59,-108 1615.03,-106.2 1605.94,-104.24 1597.12,-102.31\"/>\n",
       "<polygon fill=\"black\" stroke=\"black\" points=\"1597.84,-98.89 1587.32,-100.16 1596.34,-105.72 1597.84,-98.89\"/>\n",
       "</g>\n",
       "<!-- 0.4895779598874176 -->\n",
       "<g id=\"node70\" class=\"node\">\n",
       "<title>0.4895779598874176</title>\n",
       "<ellipse fill=\"none\" stroke=\"black\" cx=\"1689.59\" cy=\"-90\" rx=\"56.59\" ry=\"18\"/>\n",
       "<text text-anchor=\"middle\" x=\"1689.59\" y=\"-86.3\" font-family=\"Times,serif\" font-size=\"14.00\">Staten Island</text>\n",
       "</g>\n",
       "<!-- 0.7231389977815891&#45;&gt;0.4895779598874176 -->\n",
       "<g id=\"edge69\" class=\"edge\">\n",
       "<title>0.7231389977815891&#45;&gt;0.4895779598874176</title>\n",
       "<path fill=\"none\" stroke=\"black\" d=\"M1847.67,-146.33C1814.93,-134.87 1769.49,-118.96 1735.73,-107.15\"/>\n",
       "<polygon fill=\"black\" stroke=\"black\" points=\"1736.69,-103.77 1726.09,-103.77 1734.38,-110.38 1736.69,-103.77\"/>\n",
       "</g>\n",
       "<!-- 0.647373641314858 -->\n",
       "<g id=\"node72\" class=\"node\">\n",
       "<title>0.647373641314858</title>\n",
       "<ellipse fill=\"none\" stroke=\"black\" cx=\"1829.59\" cy=\"-90\" rx=\"44.39\" ry=\"18\"/>\n",
       "<text text-anchor=\"middle\" x=\"1829.59\" y=\"-86.3\" font-family=\"Times,serif\" font-size=\"14.00\">Brooklyn</text>\n",
       "</g>\n",
       "<!-- 0.7231389977815891&#45;&gt;0.647373641314858 -->\n",
       "<g id=\"edge71\" class=\"edge\">\n",
       "<title>0.7231389977815891&#45;&gt;0.647373641314858</title>\n",
       "<path fill=\"none\" stroke=\"black\" d=\"M1875.07,-144.05C1867.59,-135.33 1858.35,-124.54 1850.15,-114.98\"/>\n",
       "<polygon fill=\"black\" stroke=\"black\" points=\"1852.74,-112.62 1843.57,-107.31 1847.42,-117.18 1852.74,-112.62\"/>\n",
       "</g>\n",
       "<!-- 0.7277904355097764 -->\n",
       "<g id=\"node74\" class=\"node\">\n",
       "<title>0.7277904355097764</title>\n",
       "<ellipse fill=\"none\" stroke=\"black\" cx=\"1939.59\" cy=\"-90\" rx=\"37.09\" ry=\"18\"/>\n",
       "<text text-anchor=\"middle\" x=\"1939.59\" y=\"-86.3\" font-family=\"Times,serif\" font-size=\"14.00\">Queens</text>\n",
       "</g>\n",
       "<!-- 0.7231389977815891&#45;&gt;0.7277904355097764 -->\n",
       "<g id=\"edge73\" class=\"edge\">\n",
       "<title>0.7231389977815891&#45;&gt;0.7277904355097764</title>\n",
       "<path fill=\"none\" stroke=\"black\" d=\"M1901.7,-144.05C1907.8,-135.5 1915.33,-124.97 1922.05,-115.56\"/>\n",
       "<polygon fill=\"black\" stroke=\"black\" points=\"1924.98,-117.48 1927.95,-107.31 1919.29,-113.41 1924.98,-117.48\"/>\n",
       "</g>\n",
       "<!-- 0.43553643047446056 -->\n",
       "<g id=\"node76\" class=\"node\">\n",
       "<title>0.43553643047446056</title>\n",
       "<ellipse fill=\"none\" stroke=\"black\" cx=\"2064.59\" cy=\"-90\" rx=\"32.49\" ry=\"18\"/>\n",
       "<text text-anchor=\"middle\" x=\"2064.59\" y=\"-86.3\" font-family=\"Times,serif\" font-size=\"14.00\">Bronx</text>\n",
       "</g>\n",
       "<!-- 0.7231389977815891&#45;&gt;0.43553643047446056 -->\n",
       "<g id=\"edge75\" class=\"edge\">\n",
       "<title>0.7231389977815891&#45;&gt;0.43553643047446056</title>\n",
       "<path fill=\"none\" stroke=\"black\" d=\"M1927.57,-145.81C1957.91,-133.67 2000.11,-116.79 2029.63,-104.98\"/>\n",
       "<polygon fill=\"black\" stroke=\"black\" points=\"2031.14,-108.15 2039.12,-101.19 2028.54,-101.65 2031.14,-108.15\"/>\n",
       "</g>\n",
       "<!-- 0.00507387138315063 -->\n",
       "<g id=\"node25\" class=\"node\">\n",
       "<title>0.00507387138315063</title>\n",
       "<ellipse fill=\"none\" stroke=\"black\" cx=\"2387.59\" cy=\"-162\" rx=\"82.59\" ry=\"18\"/>\n",
       "<text text-anchor=\"middle\" x=\"2387.59\" y=\"-158.3\" font-family=\"Times,serif\" font-size=\"14.00\">neighborhood group</text>\n",
       "</g>\n",
       "<!-- 0.7465021600456334&#45;&gt;0.00507387138315063 -->\n",
       "<g id=\"edge24\" class=\"edge\">\n",
       "<title>0.7465021600456334&#45;&gt;0.00507387138315063</title>\n",
       "<path fill=\"none\" stroke=\"black\" d=\"M2387.59,-215.7C2387.59,-207.98 2387.59,-198.71 2387.59,-190.11\"/>\n",
       "<polygon fill=\"black\" stroke=\"black\" points=\"2391.09,-190.1 2387.59,-180.1 2384.09,-190.1 2391.09,-190.1\"/>\n",
       "</g>\n",
       "<!-- 0.9171015434427221 -->\n",
       "<g id=\"node78\" class=\"node\">\n",
       "<title>0.9171015434427221</title>\n",
       "<ellipse fill=\"none\" stroke=\"black\" cx=\"2259.59\" cy=\"-90\" rx=\"48.99\" ry=\"18\"/>\n",
       "<text text-anchor=\"middle\" x=\"2259.59\" y=\"-86.3\" font-family=\"Times,serif\" font-size=\"14.00\">Manhattan</text>\n",
       "</g>\n",
       "<!-- 0.00507387138315063&#45;&gt;0.9171015434427221 -->\n",
       "<g id=\"edge77\" class=\"edge\">\n",
       "<title>0.00507387138315063&#45;&gt;0.9171015434427221</title>\n",
       "<path fill=\"none\" stroke=\"black\" d=\"M2358.55,-145.12C2339.62,-134.76 2314.79,-121.19 2294.75,-110.22\"/>\n",
       "<polygon fill=\"black\" stroke=\"black\" points=\"2296.37,-107.12 2285.91,-105.39 2293.01,-113.26 2296.37,-107.12\"/>\n",
       "</g>\n",
       "<!-- 0.033757771820882465 -->\n",
       "<g id=\"node80\" class=\"node\">\n",
       "<title>0.033757771820882465</title>\n",
       "<ellipse fill=\"none\" stroke=\"black\" cx=\"2387.59\" cy=\"-90\" rx=\"44.39\" ry=\"18\"/>\n",
       "<text text-anchor=\"middle\" x=\"2387.59\" y=\"-86.3\" font-family=\"Times,serif\" font-size=\"14.00\">Brooklyn</text>\n",
       "</g>\n",
       "<!-- 0.00507387138315063&#45;&gt;0.033757771820882465 -->\n",
       "<g id=\"edge79\" class=\"edge\">\n",
       "<title>0.00507387138315063&#45;&gt;0.033757771820882465</title>\n",
       "<path fill=\"none\" stroke=\"black\" d=\"M2387.59,-143.7C2387.59,-135.98 2387.59,-126.71 2387.59,-118.11\"/>\n",
       "<polygon fill=\"black\" stroke=\"black\" points=\"2391.09,-118.1 2387.59,-108.1 2384.09,-118.1 2391.09,-118.1\"/>\n",
       "</g>\n",
       "<!-- 0.02778123789742537 -->\n",
       "<g id=\"node82\" class=\"node\">\n",
       "<title>0.02778123789742537</title>\n",
       "<ellipse fill=\"none\" stroke=\"black\" cx=\"2509.59\" cy=\"-90\" rx=\"37.09\" ry=\"18\"/>\n",
       "<text text-anchor=\"middle\" x=\"2509.59\" y=\"-86.3\" font-family=\"Times,serif\" font-size=\"14.00\">Queens</text>\n",
       "</g>\n",
       "<!-- 0.00507387138315063&#45;&gt;0.02778123789742537 -->\n",
       "<g id=\"edge81\" class=\"edge\">\n",
       "<title>0.00507387138315063&#45;&gt;0.02778123789742537</title>\n",
       "<path fill=\"none\" stroke=\"black\" d=\"M2415.58,-144.94C2434.17,-134.28 2458.6,-120.26 2477.9,-109.19\"/>\n",
       "<polygon fill=\"black\" stroke=\"black\" points=\"2479.71,-112.18 2486.64,-104.17 2476.22,-106.11 2479.71,-112.18\"/>\n",
       "</g>\n",
       "<!-- 0.5487774419513674 -->\n",
       "<g id=\"node27\" class=\"node\">\n",
       "<title>0.5487774419513674</title>\n",
       "<ellipse fill=\"none\" stroke=\"black\" cx=\"2902.59\" cy=\"-162\" rx=\"82.59\" ry=\"18\"/>\n",
       "<text text-anchor=\"middle\" x=\"2902.59\" y=\"-158.3\" font-family=\"Times,serif\" font-size=\"14.00\">neighborhood group</text>\n",
       "</g>\n",
       "<!-- 0.08617086587250788&#45;&gt;0.5487774419513674 -->\n",
       "<g id=\"edge26\" class=\"edge\">\n",
       "<title>0.08617086587250788&#45;&gt;0.5487774419513674</title>\n",
       "<path fill=\"none\" stroke=\"black\" d=\"M2775.39,-219C2799.12,-208.56 2831.85,-194.15 2858.16,-182.56\"/>\n",
       "<polygon fill=\"black\" stroke=\"black\" points=\"2859.8,-185.67 2867.54,-178.43 2856.98,-179.26 2859.8,-185.67\"/>\n",
       "</g>\n",
       "<!-- 0.5507350261384144 -->\n",
       "<g id=\"node84\" class=\"node\">\n",
       "<title>0.5507350261384144</title>\n",
       "<ellipse fill=\"none\" stroke=\"black\" cx=\"2707.59\" cy=\"-90\" rx=\"37.09\" ry=\"18\"/>\n",
       "<text text-anchor=\"middle\" x=\"2707.59\" y=\"-86.3\" font-family=\"Times,serif\" font-size=\"14.00\">Queens</text>\n",
       "</g>\n",
       "<!-- 0.5487774419513674&#45;&gt;0.5507350261384144 -->\n",
       "<g id=\"edge83\" class=\"edge\">\n",
       "<title>0.5487774419513674&#45;&gt;0.5507350261384144</title>\n",
       "<path fill=\"none\" stroke=\"black\" d=\"M2861.72,-146.33C2827.56,-134.07 2779.22,-116.71 2745.83,-104.73\"/>\n",
       "<polygon fill=\"black\" stroke=\"black\" points=\"2747,-101.43 2736.41,-101.34 2744.64,-108.02 2747,-101.43\"/>\n",
       "</g>\n",
       "<!-- 0.0327552427258887 -->\n",
       "<g id=\"node86\" class=\"node\">\n",
       "<title>0.0327552427258887</title>\n",
       "<ellipse fill=\"none\" stroke=\"black\" cx=\"2839.59\" cy=\"-90\" rx=\"44.39\" ry=\"18\"/>\n",
       "<text text-anchor=\"middle\" x=\"2839.59\" y=\"-86.3\" font-family=\"Times,serif\" font-size=\"14.00\">Brooklyn</text>\n",
       "</g>\n",
       "<!-- 0.5487774419513674&#45;&gt;0.0327552427258887 -->\n",
       "<g id=\"edge85\" class=\"edge\">\n",
       "<title>0.5487774419513674&#45;&gt;0.0327552427258887</title>\n",
       "<path fill=\"none\" stroke=\"black\" d=\"M2887.34,-144.05C2879.49,-135.33 2869.78,-124.54 2861.18,-114.98\"/>\n",
       "<polygon fill=\"black\" stroke=\"black\" points=\"2863.56,-112.4 2854.27,-107.31 2858.36,-117.08 2863.56,-112.4\"/>\n",
       "</g>\n",
       "<!-- 0.4617503932551099 -->\n",
       "<g id=\"node88\" class=\"node\">\n",
       "<title>0.4617503932551099</title>\n",
       "<ellipse fill=\"none\" stroke=\"black\" cx=\"2958.59\" cy=\"-90\" rx=\"48.99\" ry=\"18\"/>\n",
       "<text text-anchor=\"middle\" x=\"2958.59\" y=\"-86.3\" font-family=\"Times,serif\" font-size=\"14.00\">Manhattan</text>\n",
       "</g>\n",
       "<!-- 0.5487774419513674&#45;&gt;0.4617503932551099 -->\n",
       "<g id=\"edge87\" class=\"edge\">\n",
       "<title>0.5487774419513674&#45;&gt;0.4617503932551099</title>\n",
       "<path fill=\"none\" stroke=\"black\" d=\"M2916.15,-144.05C2922.96,-135.54 2931.34,-125.07 2938.85,-115.68\"/>\n",
       "<polygon fill=\"black\" stroke=\"black\" points=\"2941.65,-117.78 2945.16,-107.79 2936.18,-113.41 2941.65,-117.78\"/>\n",
       "</g>\n",
       "<!-- 0.6533021168216129 -->\n",
       "<g id=\"node90\" class=\"node\">\n",
       "<title>0.6533021168216129</title>\n",
       "<ellipse fill=\"none\" stroke=\"black\" cx=\"3086.59\" cy=\"-90\" rx=\"32.49\" ry=\"18\"/>\n",
       "<text text-anchor=\"middle\" x=\"3086.59\" y=\"-86.3\" font-family=\"Times,serif\" font-size=\"14.00\">Bronx</text>\n",
       "</g>\n",
       "<!-- 0.5487774419513674&#45;&gt;0.6533021168216129 -->\n",
       "<g id=\"edge89\" class=\"edge\">\n",
       "<title>0.5487774419513674&#45;&gt;0.6533021168216129</title>\n",
       "<path fill=\"none\" stroke=\"black\" d=\"M2942.07,-145.98C2974.37,-133.69 3019.66,-116.46 3050.89,-104.58\"/>\n",
       "<polygon fill=\"black\" stroke=\"black\" points=\"3052.4,-107.75 3060.5,-100.93 3049.91,-101.21 3052.4,-107.75\"/>\n",
       "</g>\n",
       "<!-- 0.9346617686947957 -->\n",
       "<g id=\"node92\" class=\"node\">\n",
       "<title>0.9346617686947957</title>\n",
       "<ellipse fill=\"none\" stroke=\"black\" cx=\"3224.59\" cy=\"-90\" rx=\"56.59\" ry=\"18\"/>\n",
       "<text text-anchor=\"middle\" x=\"3224.59\" y=\"-86.3\" font-family=\"Times,serif\" font-size=\"14.00\">Staten Island</text>\n",
       "</g>\n",
       "<!-- 0.5487774419513674&#45;&gt;0.9346617686947957 -->\n",
       "<g id=\"edge91\" class=\"edge\">\n",
       "<title>0.5487774419513674&#45;&gt;0.9346617686947957</title>\n",
       "<path fill=\"none\" stroke=\"black\" d=\"M2959.05,-148.73C3018.3,-135.85 3110.83,-115.73 3169.55,-102.97\"/>\n",
       "<polygon fill=\"black\" stroke=\"black\" points=\"3170.36,-106.37 3179.38,-100.83 3168.87,-99.53 3170.36,-106.37\"/>\n",
       "</g>\n",
       "<!-- 0.15373308629056426 -->\n",
       "<g id=\"node29\" class=\"node\">\n",
       "<title>0.15373308629056426</title>\n",
       "<ellipse fill=\"none\" stroke=\"black\" cx=\"3410.59\" cy=\"-162\" rx=\"47.39\" ry=\"18\"/>\n",
       "<text text-anchor=\"middle\" x=\"3410.59\" y=\"-158.3\" font-family=\"Times,serif\" font-size=\"14.00\">room type</text>\n",
       "</g>\n",
       "<!-- 0.5701034166121218&#45;&gt;0.15373308629056426 -->\n",
       "<g id=\"edge28\" class=\"edge\">\n",
       "<title>0.5701034166121218&#45;&gt;0.15373308629056426</title>\n",
       "<path fill=\"none\" stroke=\"black\" d=\"M3432.57,-216.05C3429.31,-208.18 3425.35,-198.62 3421.69,-189.79\"/>\n",
       "<polygon fill=\"black\" stroke=\"black\" points=\"3424.81,-188.17 3417.75,-180.28 3418.34,-190.85 3424.81,-188.17\"/>\n",
       "</g>\n",
       "<!-- 0.9669491008207514 -->\n",
       "<g id=\"node94\" class=\"node\">\n",
       "<title>0.9669491008207514</title>\n",
       "<ellipse fill=\"none\" stroke=\"black\" cx=\"3396.59\" cy=\"-90\" rx=\"67.69\" ry=\"18\"/>\n",
       "<text text-anchor=\"middle\" x=\"3396.59\" y=\"-86.3\" font-family=\"Times,serif\" font-size=\"14.00\">Entire home/apt</text>\n",
       "</g>\n",
       "<!-- 0.15373308629056426&#45;&gt;0.9669491008207514 -->\n",
       "<g id=\"edge93\" class=\"edge\">\n",
       "<title>0.15373308629056426&#45;&gt;0.9669491008207514</title>\n",
       "<path fill=\"none\" stroke=\"black\" d=\"M3407.13,-143.7C3405.59,-135.98 3403.74,-126.71 3402.02,-118.11\"/>\n",
       "<polygon fill=\"black\" stroke=\"black\" points=\"3405.41,-117.22 3400.01,-108.1 3398.54,-118.6 3405.41,-117.22\"/>\n",
       "</g>\n",
       "<!-- 0.36308794390146293 -->\n",
       "<g id=\"node31\" class=\"node\">\n",
       "<title>0.36308794390146293</title>\n",
       "<ellipse fill=\"none\" stroke=\"black\" cx=\"3552.59\" cy=\"-162\" rx=\"47.39\" ry=\"18\"/>\n",
       "<text text-anchor=\"middle\" x=\"3552.59\" y=\"-158.3\" font-family=\"Times,serif\" font-size=\"14.00\">room type</text>\n",
       "</g>\n",
       "<!-- 0.547027013429793&#45;&gt;0.36308794390146293 -->\n",
       "<g id=\"edge30\" class=\"edge\">\n",
       "<title>0.547027013429793&#45;&gt;0.36308794390146293</title>\n",
       "<path fill=\"none\" stroke=\"black\" d=\"M3556.36,-215.7C3555.81,-207.98 3555.14,-198.71 3554.53,-190.11\"/>\n",
       "<polygon fill=\"black\" stroke=\"black\" points=\"3558.02,-189.83 3553.82,-180.1 3551.04,-190.33 3558.02,-189.83\"/>\n",
       "</g>\n",
       "<!-- 0.7652573778614582 -->\n",
       "<g id=\"node96\" class=\"node\">\n",
       "<title>0.7652573778614582</title>\n",
       "<ellipse fill=\"none\" stroke=\"black\" cx=\"3549.59\" cy=\"-90\" rx=\"67.69\" ry=\"18\"/>\n",
       "<text text-anchor=\"middle\" x=\"3549.59\" y=\"-86.3\" font-family=\"Times,serif\" font-size=\"14.00\">Entire home/apt</text>\n",
       "</g>\n",
       "<!-- 0.36308794390146293&#45;&gt;0.7652573778614582 -->\n",
       "<g id=\"edge95\" class=\"edge\">\n",
       "<title>0.36308794390146293&#45;&gt;0.7652573778614582</title>\n",
       "<path fill=\"none\" stroke=\"black\" d=\"M3551.85,-143.7C3551.52,-135.98 3551.12,-126.71 3550.76,-118.11\"/>\n",
       "<polygon fill=\"black\" stroke=\"black\" points=\"3554.25,-117.95 3550.33,-108.1 3547.26,-118.25 3554.25,-117.95\"/>\n",
       "</g>\n",
       "<!-- 0.35824722493851613 -->\n",
       "<g id=\"node33\" class=\"node\">\n",
       "<title>0.35824722493851613</title>\n",
       "<ellipse fill=\"none\" stroke=\"black\" cx=\"3692.59\" cy=\"-162\" rx=\"47.39\" ry=\"18\"/>\n",
       "<text text-anchor=\"middle\" x=\"3692.59\" y=\"-158.3\" font-family=\"Times,serif\" font-size=\"14.00\">room type</text>\n",
       "</g>\n",
       "<!-- 0.5258827815056539&#45;&gt;0.35824722493851613 -->\n",
       "<g id=\"edge32\" class=\"edge\">\n",
       "<title>0.5258827815056539&#45;&gt;0.35824722493851613</title>\n",
       "<path fill=\"none\" stroke=\"black\" d=\"M3676.68,-216.05C3679.02,-208.26 3681.85,-198.82 3684.47,-190.08\"/>\n",
       "<polygon fill=\"black\" stroke=\"black\" points=\"3687.89,-190.86 3687.41,-180.28 3681.19,-188.85 3687.89,-190.86\"/>\n",
       "</g>\n",
       "<!-- 0.5332154864807332 -->\n",
       "<g id=\"node98\" class=\"node\">\n",
       "<title>0.5332154864807332</title>\n",
       "<ellipse fill=\"none\" stroke=\"black\" cx=\"3702.59\" cy=\"-90\" rx=\"67.69\" ry=\"18\"/>\n",
       "<text text-anchor=\"middle\" x=\"3702.59\" y=\"-86.3\" font-family=\"Times,serif\" font-size=\"14.00\">Entire home/apt</text>\n",
       "</g>\n",
       "<!-- 0.35824722493851613&#45;&gt;0.5332154864807332 -->\n",
       "<g id=\"edge97\" class=\"edge\">\n",
       "<title>0.35824722493851613&#45;&gt;0.5332154864807332</title>\n",
       "<path fill=\"none\" stroke=\"black\" d=\"M3695.07,-143.7C3696.17,-135.98 3697.49,-126.71 3698.72,-118.11\"/>\n",
       "<polygon fill=\"black\" stroke=\"black\" points=\"3702.2,-118.5 3700.15,-108.1 3695.27,-117.51 3702.2,-118.5\"/>\n",
       "</g>\n",
       "<!-- 0.6080689833851305 -->\n",
       "<g id=\"node35\" class=\"node\">\n",
       "<title>0.6080689833851305</title>\n",
       "<ellipse fill=\"none\" stroke=\"black\" cx=\"3833.59\" cy=\"-162\" rx=\"47.39\" ry=\"18\"/>\n",
       "<text text-anchor=\"middle\" x=\"3833.59\" y=\"-158.3\" font-family=\"Times,serif\" font-size=\"14.00\">room type</text>\n",
       "</g>\n",
       "<!-- 0.4606001362393234&#45;&gt;0.6080689833851305 -->\n",
       "<g id=\"edge34\" class=\"edge\">\n",
       "<title>0.4606001362393234&#45;&gt;0.6080689833851305</title>\n",
       "<path fill=\"none\" stroke=\"black\" d=\"M3806.89,-216.41C3810.97,-208.25 3815.98,-198.22 3820.56,-189.07\"/>\n",
       "<polygon fill=\"black\" stroke=\"black\" points=\"3823.77,-190.47 3825.12,-179.96 3817.51,-187.34 3823.77,-190.47\"/>\n",
       "</g>\n",
       "<!-- 0.9777658447165756 -->\n",
       "<g id=\"node100\" class=\"node\">\n",
       "<title>0.9777658447165756</title>\n",
       "<ellipse fill=\"none\" stroke=\"black\" cx=\"3855.59\" cy=\"-90\" rx=\"67.69\" ry=\"18\"/>\n",
       "<text text-anchor=\"middle\" x=\"3855.59\" y=\"-86.3\" font-family=\"Times,serif\" font-size=\"14.00\">Entire home/apt</text>\n",
       "</g>\n",
       "<!-- 0.6080689833851305&#45;&gt;0.9777658447165756 -->\n",
       "<g id=\"edge99\" class=\"edge\">\n",
       "<title>0.6080689833851305&#45;&gt;0.9777658447165756</title>\n",
       "<path fill=\"none\" stroke=\"black\" d=\"M3838.92,-144.05C3841.37,-136.26 3844.34,-126.82 3847.08,-118.08\"/>\n",
       "<polygon fill=\"black\" stroke=\"black\" points=\"3850.51,-118.86 3850.16,-108.28 3843.83,-116.77 3850.51,-118.86\"/>\n",
       "</g>\n",
       "<!-- 0.5445811551682675 -->\n",
       "<g id=\"node37\" class=\"node\">\n",
       "<title>0.5445811551682675</title>\n",
       "<ellipse fill=\"none\" stroke=\"black\" cx=\"3978.59\" cy=\"-162\" rx=\"47.39\" ry=\"18\"/>\n",
       "<text text-anchor=\"middle\" x=\"3978.59\" y=\"-158.3\" font-family=\"Times,serif\" font-size=\"14.00\">room type</text>\n",
       "</g>\n",
       "<!-- 0.1488502674386023&#45;&gt;0.5445811551682675 -->\n",
       "<g id=\"edge36\" class=\"edge\">\n",
       "<title>0.1488502674386023&#45;&gt;0.5445811551682675</title>\n",
       "<path fill=\"none\" stroke=\"black\" d=\"M3949.79,-216.05C3954.23,-207.89 3959.64,-197.91 3964.58,-188.82\"/>\n",
       "<polygon fill=\"black\" stroke=\"black\" points=\"3967.78,-190.25 3969.48,-179.79 3961.63,-186.91 3967.78,-190.25\"/>\n",
       "</g>\n",
       "<!-- 0.638404914397784 -->\n",
       "<g id=\"node102\" class=\"node\">\n",
       "<title>0.638404914397784</title>\n",
       "<ellipse fill=\"none\" stroke=\"black\" cx=\"4008.59\" cy=\"-90\" rx=\"67.69\" ry=\"18\"/>\n",
       "<text text-anchor=\"middle\" x=\"4008.59\" y=\"-86.3\" font-family=\"Times,serif\" font-size=\"14.00\">Entire home/apt</text>\n",
       "</g>\n",
       "<!-- 0.5445811551682675&#45;&gt;0.638404914397784 -->\n",
       "<g id=\"edge101\" class=\"edge\">\n",
       "<title>0.5445811551682675&#45;&gt;0.638404914397784</title>\n",
       "<path fill=\"none\" stroke=\"black\" d=\"M3985.86,-144.05C3989.27,-136.09 3993.42,-126.41 3997.23,-117.51\"/>\n",
       "<polygon fill=\"black\" stroke=\"black\" points=\"4000.47,-118.85 4001.19,-108.28 3994.03,-116.09 4000.47,-118.85\"/>\n",
       "</g>\n",
       "<!-- 0.7685909921970163 -->\n",
       "<g id=\"node39\" class=\"node\">\n",
       "<title>0.7685909921970163</title>\n",
       "<ellipse fill=\"none\" stroke=\"black\" cx=\"4186.59\" cy=\"-162\" rx=\"47.39\" ry=\"18\"/>\n",
       "<text text-anchor=\"middle\" x=\"4186.59\" y=\"-158.3\" font-family=\"Times,serif\" font-size=\"14.00\">room type</text>\n",
       "</g>\n",
       "<!-- 0.17974586661587044&#45;&gt;0.7685909921970163 -->\n",
       "<g id=\"edge38\" class=\"edge\">\n",
       "<title>0.17974586661587044&#45;&gt;0.7685909921970163</title>\n",
       "<path fill=\"none\" stroke=\"black\" d=\"M4207.82,-216.05C4204.66,-208.18 4200.84,-198.62 4197.31,-189.79\"/>\n",
       "<polygon fill=\"black\" stroke=\"black\" points=\"4200.47,-188.26 4193.5,-180.28 4193.97,-190.86 4200.47,-188.26\"/>\n",
       "</g>\n",
       "<!-- 0.7522070328242083 -->\n",
       "<g id=\"node104\" class=\"node\">\n",
       "<title>0.7522070328242083</title>\n",
       "<ellipse fill=\"none\" stroke=\"black\" cx=\"4165.59\" cy=\"-90\" rx=\"67.69\" ry=\"18\"/>\n",
       "<text text-anchor=\"middle\" x=\"4165.59\" y=\"-86.3\" font-family=\"Times,serif\" font-size=\"14.00\">Entire home/apt</text>\n",
       "</g>\n",
       "<!-- 0.7685909921970163&#45;&gt;0.7522070328242083 -->\n",
       "<g id=\"edge103\" class=\"edge\">\n",
       "<title>0.7685909921970163&#45;&gt;0.7522070328242083</title>\n",
       "<path fill=\"none\" stroke=\"black\" d=\"M4181.51,-144.05C4179.17,-136.26 4176.34,-126.82 4173.72,-118.08\"/>\n",
       "<polygon fill=\"black\" stroke=\"black\" points=\"4177,-116.85 4170.78,-108.28 4170.3,-118.86 4177,-116.85\"/>\n",
       "</g>\n",
       "<!-- 0.9838568574075421 -->\n",
       "<g id=\"node41\" class=\"node\">\n",
       "<title>0.9838568574075421</title>\n",
       "<ellipse fill=\"none\" stroke=\"black\" cx=\"4331.59\" cy=\"-162\" rx=\"47.39\" ry=\"18\"/>\n",
       "<text text-anchor=\"middle\" x=\"4331.59\" y=\"-158.3\" font-family=\"Times,serif\" font-size=\"14.00\">room type</text>\n",
       "</g>\n",
       "<!-- 0.12685854829497845&#45;&gt;0.9838568574075421 -->\n",
       "<g id=\"edge40\" class=\"edge\">\n",
       "<title>0.12685854829497845&#45;&gt;0.9838568574075421</title>\n",
       "<path fill=\"none\" stroke=\"black\" d=\"M4342.13,-215.7C4340.59,-207.98 4338.74,-198.71 4337.02,-190.11\"/>\n",
       "<polygon fill=\"black\" stroke=\"black\" points=\"4340.41,-189.22 4335.01,-180.1 4333.54,-190.6 4340.41,-189.22\"/>\n",
       "</g>\n",
       "<!-- 0.7760967212348646 -->\n",
       "<g id=\"node106\" class=\"node\">\n",
       "<title>0.7760967212348646</title>\n",
       "<ellipse fill=\"none\" stroke=\"black\" cx=\"4320.59\" cy=\"-90\" rx=\"67.69\" ry=\"18\"/>\n",
       "<text text-anchor=\"middle\" x=\"4320.59\" y=\"-86.3\" font-family=\"Times,serif\" font-size=\"14.00\">Entire home/apt</text>\n",
       "</g>\n",
       "<!-- 0.9838568574075421&#45;&gt;0.7760967212348646 -->\n",
       "<g id=\"edge105\" class=\"edge\">\n",
       "<title>0.9838568574075421&#45;&gt;0.7760967212348646</title>\n",
       "<path fill=\"none\" stroke=\"black\" d=\"M4328.87,-143.7C4327.66,-135.98 4326.21,-126.71 4324.85,-118.11\"/>\n",
       "<polygon fill=\"black\" stroke=\"black\" points=\"4328.29,-117.44 4323.28,-108.1 4321.38,-118.53 4328.29,-117.44\"/>\n",
       "</g>\n",
       "<!-- 0.09468346018446527 -->\n",
       "<g id=\"node43\" class=\"node\">\n",
       "<title>0.09468346018446527</title>\n",
       "<ellipse fill=\"none\" stroke=\"black\" cx=\"4464.59\" cy=\"-162\" rx=\"47.39\" ry=\"18\"/>\n",
       "<text text-anchor=\"middle\" x=\"4464.59\" y=\"-158.3\" font-family=\"Times,serif\" font-size=\"14.00\">room type</text>\n",
       "</g>\n",
       "<!-- 0.8599080723012782&#45;&gt;0.09468346018446527 -->\n",
       "<g id=\"edge42\" class=\"edge\">\n",
       "<title>0.8599080723012782&#45;&gt;0.09468346018446527</title>\n",
       "<path fill=\"none\" stroke=\"black\" d=\"M4453.23,-216.05C4454.9,-208.26 4456.92,-198.82 4458.79,-190.08\"/>\n",
       "<polygon fill=\"black\" stroke=\"black\" points=\"4462.22,-190.79 4460.89,-180.28 4455.37,-189.32 4462.22,-190.79\"/>\n",
       "</g>\n",
       "<!-- 0.8374171060642804 -->\n",
       "<g id=\"node108\" class=\"node\">\n",
       "<title>0.8374171060642804</title>\n",
       "<ellipse fill=\"none\" stroke=\"black\" cx=\"4475.59\" cy=\"-90\" rx=\"67.69\" ry=\"18\"/>\n",
       "<text text-anchor=\"middle\" x=\"4475.59\" y=\"-86.3\" font-family=\"Times,serif\" font-size=\"14.00\">Entire home/apt</text>\n",
       "</g>\n",
       "<!-- 0.09468346018446527&#45;&gt;0.8374171060642804 -->\n",
       "<g id=\"edge107\" class=\"edge\">\n",
       "<title>0.09468346018446527&#45;&gt;0.8374171060642804</title>\n",
       "<path fill=\"none\" stroke=\"black\" d=\"M4467.31,-143.7C4468.53,-135.98 4469.98,-126.71 4471.33,-118.11\"/>\n",
       "<polygon fill=\"black\" stroke=\"black\" points=\"4474.81,-118.53 4472.91,-108.1 4467.9,-117.44 4474.81,-118.53\"/>\n",
       "</g>\n",
       "<!-- 0.57755992685424 -->\n",
       "<g id=\"node45\" class=\"node\">\n",
       "<title>0.57755992685424</title>\n",
       "<ellipse fill=\"none\" stroke=\"black\" cx=\"4607.59\" cy=\"-162\" rx=\"47.39\" ry=\"18\"/>\n",
       "<text text-anchor=\"middle\" x=\"4607.59\" y=\"-158.3\" font-family=\"Times,serif\" font-size=\"14.00\">room type</text>\n",
       "</g>\n",
       "<!-- 0.1428121982618593&#45;&gt;0.57755992685424 -->\n",
       "<g id=\"edge44\" class=\"edge\">\n",
       "<title>0.1428121982618593&#45;&gt;0.57755992685424</title>\n",
       "<path fill=\"none\" stroke=\"black\" d=\"M4567.15,-216.41C4573.69,-207.78 4581.8,-197.06 4589.05,-187.5\"/>\n",
       "<polygon fill=\"black\" stroke=\"black\" points=\"4591.88,-189.56 4595.12,-179.47 4586.3,-185.33 4591.88,-189.56\"/>\n",
       "</g>\n",
       "<!-- 0.40567462541851507 -->\n",
       "<g id=\"node110\" class=\"node\">\n",
       "<title>0.40567462541851507</title>\n",
       "<ellipse fill=\"none\" stroke=\"black\" cx=\"4632.59\" cy=\"-90\" rx=\"67.69\" ry=\"18\"/>\n",
       "<text text-anchor=\"middle\" x=\"4632.59\" y=\"-86.3\" font-family=\"Times,serif\" font-size=\"14.00\">Entire home/apt</text>\n",
       "</g>\n",
       "<!-- 0.57755992685424&#45;&gt;0.40567462541851507 -->\n",
       "<g id=\"edge109\" class=\"edge\">\n",
       "<title>0.57755992685424&#45;&gt;0.40567462541851507</title>\n",
       "<path fill=\"none\" stroke=\"black\" d=\"M4613.65,-144.05C4616.46,-136.18 4619.87,-126.62 4623.02,-117.79\"/>\n",
       "<polygon fill=\"black\" stroke=\"black\" points=\"4626.36,-118.87 4626.42,-108.28 4619.76,-116.52 4626.36,-118.87\"/>\n",
       "</g>\n",
       "<!-- 0.928404428626214 -->\n",
       "<g id=\"node47\" class=\"node\">\n",
       "<title>0.928404428626214</title>\n",
       "<ellipse fill=\"none\" stroke=\"black\" cx=\"4755.59\" cy=\"-162\" rx=\"47.39\" ry=\"18\"/>\n",
       "<text text-anchor=\"middle\" x=\"4755.59\" y=\"-158.3\" font-family=\"Times,serif\" font-size=\"14.00\">room type</text>\n",
       "</g>\n",
       "<!-- 0.038864387462559824&#45;&gt;0.928404428626214 -->\n",
       "<g id=\"edge46\" class=\"edge\">\n",
       "<title>0.038864387462559824&#45;&gt;0.928404428626214</title>\n",
       "<path fill=\"none\" stroke=\"black\" d=\"M4697.99,-216.76C4707.81,-207.6 4720.24,-196 4731.04,-185.92\"/>\n",
       "<polygon fill=\"black\" stroke=\"black\" points=\"4733.63,-188.29 4738.55,-178.91 4728.85,-183.17 4733.63,-188.29\"/>\n",
       "</g>\n",
       "<!-- 0.826271638235429 -->\n",
       "<g id=\"node112\" class=\"node\">\n",
       "<title>0.826271638235429</title>\n",
       "<ellipse fill=\"none\" stroke=\"black\" cx=\"4789.59\" cy=\"-90\" rx=\"67.69\" ry=\"18\"/>\n",
       "<text text-anchor=\"middle\" x=\"4789.59\" y=\"-86.3\" font-family=\"Times,serif\" font-size=\"14.00\">Entire home/apt</text>\n",
       "</g>\n",
       "<!-- 0.928404428626214&#45;&gt;0.826271638235429 -->\n",
       "<g id=\"edge111\" class=\"edge\">\n",
       "<title>0.928404428626214&#45;&gt;0.826271638235429</title>\n",
       "<path fill=\"none\" stroke=\"black\" d=\"M4763.82,-144.05C4767.69,-136.09 4772.39,-126.41 4776.72,-117.51\"/>\n",
       "<polygon fill=\"black\" stroke=\"black\" points=\"4779.98,-118.8 4781.2,-108.28 4773.69,-115.74 4779.98,-118.8\"/>\n",
       "</g>\n",
       "<!-- 0.04410412723161261 -->\n",
       "<g id=\"node49\" class=\"node\">\n",
       "<title>0.04410412723161261</title>\n",
       "<ellipse fill=\"none\" stroke=\"black\" cx=\"67.59\" cy=\"-18\" rx=\"61.99\" ry=\"18\"/>\n",
       "<text text-anchor=\"middle\" x=\"67.59\" y=\"-14.3\" font-family=\"Times,serif\" font-size=\"14.00\">(600.0, 800.0]</text>\n",
       "</g>\n",
       "<!-- 0.43633501168563416&#45;&gt;0.04410412723161261 -->\n",
       "<g id=\"edge48\" class=\"edge\">\n",
       "<title>0.43633501168563416&#45;&gt;0.04410412723161261</title>\n",
       "<path fill=\"none\" stroke=\"black\" d=\"M67.59,-71.7C67.59,-63.98 67.59,-54.71 67.59,-46.11\"/>\n",
       "<polygon fill=\"black\" stroke=\"black\" points=\"71.09,-46.1 67.59,-36.1 64.09,-46.1 71.09,-46.1\"/>\n",
       "</g>\n",
       "<!-- 0.5804127934920806 -->\n",
       "<g id=\"node51\" class=\"node\">\n",
       "<title>0.5804127934920806</title>\n",
       "<ellipse fill=\"none\" stroke=\"black\" cx=\"220.59\" cy=\"-18\" rx=\"61.99\" ry=\"18\"/>\n",
       "<text text-anchor=\"middle\" x=\"220.59\" y=\"-14.3\" font-family=\"Times,serif\" font-size=\"14.00\">(600.0, 800.0]</text>\n",
       "</g>\n",
       "<!-- 0.16991499235623986&#45;&gt;0.5804127934920806 -->\n",
       "<g id=\"edge50\" class=\"edge\">\n",
       "<title>0.16991499235623986&#45;&gt;0.5804127934920806</title>\n",
       "<path fill=\"none\" stroke=\"black\" d=\"M220.59,-71.7C220.59,-63.98 220.59,-54.71 220.59,-46.11\"/>\n",
       "<polygon fill=\"black\" stroke=\"black\" points=\"224.09,-46.1 220.59,-36.1 217.09,-46.1 224.09,-46.1\"/>\n",
       "</g>\n",
       "<!-- 0.23509113752422828 -->\n",
       "<g id=\"node53\" class=\"node\">\n",
       "<title>0.23509113752422828</title>\n",
       "<ellipse fill=\"none\" stroke=\"black\" cx=\"373.59\" cy=\"-18\" rx=\"61.99\" ry=\"18\"/>\n",
       "<text text-anchor=\"middle\" x=\"373.59\" y=\"-14.3\" font-family=\"Times,serif\" font-size=\"14.00\">(600.0, 800.0]</text>\n",
       "</g>\n",
       "<!-- 0.36519084537934754&#45;&gt;0.23509113752422828 -->\n",
       "<g id=\"edge52\" class=\"edge\">\n",
       "<title>0.36519084537934754&#45;&gt;0.23509113752422828</title>\n",
       "<path fill=\"none\" stroke=\"black\" d=\"M373.59,-71.7C373.59,-63.98 373.59,-54.71 373.59,-46.11\"/>\n",
       "<polygon fill=\"black\" stroke=\"black\" points=\"377.09,-46.1 373.59,-36.1 370.09,-46.1 377.09,-46.1\"/>\n",
       "</g>\n",
       "<!-- 0.7598044319078016 -->\n",
       "<g id=\"node55\" class=\"node\">\n",
       "<title>0.7598044319078016</title>\n",
       "<ellipse fill=\"none\" stroke=\"black\" cx=\"526.59\" cy=\"-18\" rx=\"61.99\" ry=\"18\"/>\n",
       "<text text-anchor=\"middle\" x=\"526.59\" y=\"-14.3\" font-family=\"Times,serif\" font-size=\"14.00\">(600.0, 800.0]</text>\n",
       "</g>\n",
       "<!-- 0.8025530821842584&#45;&gt;0.7598044319078016 -->\n",
       "<g id=\"edge54\" class=\"edge\">\n",
       "<title>0.8025530821842584&#45;&gt;0.7598044319078016</title>\n",
       "<path fill=\"none\" stroke=\"black\" d=\"M526.59,-71.7C526.59,-63.98 526.59,-54.71 526.59,-46.11\"/>\n",
       "<polygon fill=\"black\" stroke=\"black\" points=\"530.09,-46.1 526.59,-36.1 523.09,-46.1 530.09,-46.1\"/>\n",
       "</g>\n",
       "<!-- 0.4050793783011821 -->\n",
       "<g id=\"node57\" class=\"node\">\n",
       "<title>0.4050793783011821</title>\n",
       "<ellipse fill=\"none\" stroke=\"black\" cx=\"673.59\" cy=\"-18\" rx=\"61.99\" ry=\"18\"/>\n",
       "<text text-anchor=\"middle\" x=\"673.59\" y=\"-14.3\" font-family=\"Times,serif\" font-size=\"14.00\">(600.0, 800.0]</text>\n",
       "</g>\n",
       "<!-- 0.1378364989278157&#45;&gt;0.4050793783011821 -->\n",
       "<g id=\"edge56\" class=\"edge\">\n",
       "<title>0.1378364989278157&#45;&gt;0.4050793783011821</title>\n",
       "<path fill=\"none\" stroke=\"black\" d=\"M678.11,-71.7C677.45,-63.98 676.66,-54.71 675.92,-46.11\"/>\n",
       "<polygon fill=\"black\" stroke=\"black\" points=\"679.4,-45.77 675.06,-36.1 672.43,-46.37 679.4,-45.77\"/>\n",
       "</g>\n",
       "<!-- 0.07244701208960869 -->\n",
       "<g id=\"node59\" class=\"node\">\n",
       "<title>0.07244701208960869</title>\n",
       "<ellipse fill=\"none\" stroke=\"black\" cx=\"814.59\" cy=\"-18\" rx=\"61.99\" ry=\"18\"/>\n",
       "<text text-anchor=\"middle\" x=\"814.59\" y=\"-14.3\" font-family=\"Times,serif\" font-size=\"14.00\">(400.0, 600.0]</text>\n",
       "</g>\n",
       "<!-- 0.6858629214551394&#45;&gt;0.07244701208960869 -->\n",
       "<g id=\"edge58\" class=\"edge\">\n",
       "<title>0.6858629214551394&#45;&gt;0.07244701208960869</title>\n",
       "<path fill=\"none\" stroke=\"black\" d=\"M836.57,-72.05C833.31,-64.18 829.35,-54.62 825.69,-45.79\"/>\n",
       "<polygon fill=\"black\" stroke=\"black\" points=\"828.81,-44.17 821.75,-36.28 822.34,-46.85 828.81,-44.17\"/>\n",
       "</g>\n",
       "<!-- 0.936336102488089 -->\n",
       "<g id=\"node61\" class=\"node\">\n",
       "<title>0.936336102488089</title>\n",
       "<ellipse fill=\"none\" stroke=\"black\" cx=\"955.59\" cy=\"-18\" rx=\"61.99\" ry=\"18\"/>\n",
       "<text text-anchor=\"middle\" x=\"955.59\" y=\"-14.3\" font-family=\"Times,serif\" font-size=\"14.00\">(400.0, 600.0]</text>\n",
       "</g>\n",
       "<!-- 0.8425558132084386&#45;&gt;0.936336102488089 -->\n",
       "<g id=\"edge60\" class=\"edge\">\n",
       "<title>0.8425558132084386&#45;&gt;0.936336102488089</title>\n",
       "<path fill=\"none\" stroke=\"black\" d=\"M979.85,-72.05C976.21,-64.09 971.78,-54.41 967.71,-45.51\"/>\n",
       "<polygon fill=\"black\" stroke=\"black\" points=\"970.83,-43.91 963.49,-36.28 964.47,-46.83 970.83,-43.91\"/>\n",
       "</g>\n",
       "<!-- 0.4662661119998045 -->\n",
       "<g id=\"node63\" class=\"node\">\n",
       "<title>0.4662661119998045</title>\n",
       "<ellipse fill=\"none\" stroke=\"black\" cx=\"1096.59\" cy=\"-18\" rx=\"61.99\" ry=\"18\"/>\n",
       "<text text-anchor=\"middle\" x=\"1096.59\" y=\"-14.3\" font-family=\"Times,serif\" font-size=\"14.00\">(200.0, 400.0]</text>\n",
       "</g>\n",
       "<!-- 0.16418392836068973&#45;&gt;0.4662661119998045 -->\n",
       "<g id=\"edge62\" class=\"edge\">\n",
       "<title>0.16418392836068973&#45;&gt;0.4662661119998045</title>\n",
       "<path fill=\"none\" stroke=\"black\" d=\"M1101.86,-71.7C1101.09,-63.98 1100.17,-54.71 1099.31,-46.11\"/>\n",
       "<polygon fill=\"black\" stroke=\"black\" points=\"1102.78,-45.71 1098.3,-36.1 1095.82,-46.4 1102.78,-45.71\"/>\n",
       "</g>\n",
       "<!-- 0.9087378223551197 -->\n",
       "<g id=\"node65\" class=\"node\">\n",
       "<title>0.9087378223551197</title>\n",
       "<ellipse fill=\"none\" stroke=\"black\" cx=\"1237.59\" cy=\"-18\" rx=\"61.99\" ry=\"18\"/>\n",
       "<text text-anchor=\"middle\" x=\"1237.59\" y=\"-14.3\" font-family=\"Times,serif\" font-size=\"14.00\">(400.0, 600.0]</text>\n",
       "</g>\n",
       "<!-- 0.3814784080505108&#45;&gt;0.9087378223551197 -->\n",
       "<g id=\"edge64\" class=\"edge\">\n",
       "<title>0.3814784080505108&#45;&gt;0.9087378223551197</title>\n",
       "<path fill=\"none\" stroke=\"black\" d=\"M1227.05,-71.7C1228.6,-63.98 1230.45,-54.71 1232.17,-46.11\"/>\n",
       "<polygon fill=\"black\" stroke=\"black\" points=\"1235.64,-46.6 1234.17,-36.1 1228.78,-45.22 1235.64,-46.6\"/>\n",
       "</g>\n",
       "<!-- 0.5246456871632291 -->\n",
       "<g id=\"node67\" class=\"node\">\n",
       "<title>0.5246456871632291</title>\n",
       "<ellipse fill=\"none\" stroke=\"black\" cx=\"1387.59\" cy=\"-18\" rx=\"70.39\" ry=\"18\"/>\n",
       "<text text-anchor=\"middle\" x=\"1387.59\" y=\"-14.3\" font-family=\"Times,serif\" font-size=\"14.00\">(1000.0, 1200.0]</text>\n",
       "</g>\n",
       "<!-- 0.022842119639846614&#45;&gt;0.5246456871632291 -->\n",
       "<g id=\"edge66\" class=\"edge\">\n",
       "<title>0.022842119639846614&#45;&gt;0.5246456871632291</title>\n",
       "<path fill=\"none\" stroke=\"black\" d=\"M1365.61,-72.05C1368.88,-64.18 1372.84,-54.62 1376.49,-45.79\"/>\n",
       "<polygon fill=\"black\" stroke=\"black\" points=\"1379.84,-46.85 1380.44,-36.28 1373.38,-44.17 1379.84,-46.85\"/>\n",
       "</g>\n",
       "<!-- 0.6156800855082672 -->\n",
       "<g id=\"node69\" class=\"node\">\n",
       "<title>0.6156800855082672</title>\n",
       "<ellipse fill=\"none\" stroke=\"black\" cx=\"1537.59\" cy=\"-18\" rx=\"61.99\" ry=\"18\"/>\n",
       "<text text-anchor=\"middle\" x=\"1537.59\" y=\"-14.3\" font-family=\"Times,serif\" font-size=\"14.00\">(200.0, 400.0]</text>\n",
       "</g>\n",
       "<!-- 0.7049902782756592&#45;&gt;0.6156800855082672 -->\n",
       "<g id=\"edge68\" class=\"edge\">\n",
       "<title>0.7049902782756592&#45;&gt;0.6156800855082672</title>\n",
       "<path fill=\"none\" stroke=\"black\" d=\"M1544.37,-71.7C1543.38,-63.98 1542.19,-54.71 1541.08,-46.11\"/>\n",
       "<polygon fill=\"black\" stroke=\"black\" points=\"1544.54,-45.58 1539.79,-36.1 1537.6,-46.47 1544.54,-45.58\"/>\n",
       "</g>\n",
       "<!-- 0.6483283074377104 -->\n",
       "<g id=\"node71\" class=\"node\">\n",
       "<title>0.6483283074377104</title>\n",
       "<ellipse fill=\"none\" stroke=\"black\" cx=\"1678.59\" cy=\"-18\" rx=\"61.99\" ry=\"18\"/>\n",
       "<text text-anchor=\"middle\" x=\"1678.59\" y=\"-14.3\" font-family=\"Times,serif\" font-size=\"14.00\">(200.0, 400.0]</text>\n",
       "</g>\n",
       "<!-- 0.4895779598874176&#45;&gt;0.6483283074377104 -->\n",
       "<g id=\"edge70\" class=\"edge\">\n",
       "<title>0.4895779598874176&#45;&gt;0.6483283074377104</title>\n",
       "<path fill=\"none\" stroke=\"black\" d=\"M1686.87,-71.7C1685.66,-63.98 1684.21,-54.71 1682.85,-46.11\"/>\n",
       "<polygon fill=\"black\" stroke=\"black\" points=\"1686.29,-45.44 1681.28,-36.1 1679.38,-46.53 1686.29,-45.44\"/>\n",
       "</g>\n",
       "<!-- 0.10379376948354102 -->\n",
       "<g id=\"node73\" class=\"node\">\n",
       "<title>0.10379376948354102</title>\n",
       "<ellipse fill=\"none\" stroke=\"black\" cx=\"1819.59\" cy=\"-18\" rx=\"61.99\" ry=\"18\"/>\n",
       "<text text-anchor=\"middle\" x=\"1819.59\" y=\"-14.3\" font-family=\"Times,serif\" font-size=\"14.00\">(200.0, 400.0]</text>\n",
       "</g>\n",
       "<!-- 0.647373641314858&#45;&gt;0.10379376948354102 -->\n",
       "<g id=\"edge72\" class=\"edge\">\n",
       "<title>0.647373641314858&#45;&gt;0.10379376948354102</title>\n",
       "<path fill=\"none\" stroke=\"black\" d=\"M1827.12,-71.7C1826.02,-63.98 1824.7,-54.71 1823.47,-46.11\"/>\n",
       "<polygon fill=\"black\" stroke=\"black\" points=\"1826.92,-45.51 1822.04,-36.1 1819.99,-46.5 1826.92,-45.51\"/>\n",
       "</g>\n",
       "<!-- 0.21820627978292728 -->\n",
       "<g id=\"node75\" class=\"node\">\n",
       "<title>0.21820627978292728</title>\n",
       "<ellipse fill=\"none\" stroke=\"black\" cx=\"1960.59\" cy=\"-18\" rx=\"61.99\" ry=\"18\"/>\n",
       "<text text-anchor=\"middle\" x=\"1960.59\" y=\"-14.3\" font-family=\"Times,serif\" font-size=\"14.00\">(200.0, 400.0]</text>\n",
       "</g>\n",
       "<!-- 0.7277904355097764&#45;&gt;0.21820627978292728 -->\n",
       "<g id=\"edge74\" class=\"edge\">\n",
       "<title>0.7277904355097764&#45;&gt;0.21820627978292728</title>\n",
       "<path fill=\"none\" stroke=\"black\" d=\"M1944.68,-72.05C1947.02,-64.26 1949.85,-54.82 1952.47,-46.08\"/>\n",
       "<polygon fill=\"black\" stroke=\"black\" points=\"1955.89,-46.86 1955.41,-36.28 1949.19,-44.85 1955.89,-46.86\"/>\n",
       "</g>\n",
       "<!-- 0.7542241816875052 -->\n",
       "<g id=\"node77\" class=\"node\">\n",
       "<title>0.7542241816875052</title>\n",
       "<ellipse fill=\"none\" stroke=\"black\" cx=\"2101.59\" cy=\"-18\" rx=\"61.99\" ry=\"18\"/>\n",
       "<text text-anchor=\"middle\" x=\"2101.59\" y=\"-14.3\" font-family=\"Times,serif\" font-size=\"14.00\">(200.0, 400.0]</text>\n",
       "</g>\n",
       "<!-- 0.43553643047446056&#45;&gt;0.7542241816875052 -->\n",
       "<g id=\"edge76\" class=\"edge\">\n",
       "<title>0.43553643047446056&#45;&gt;0.7542241816875052</title>\n",
       "<path fill=\"none\" stroke=\"black\" d=\"M2073.36,-72.41C2077.68,-64.25 2082.98,-54.22 2087.82,-45.07\"/>\n",
       "<polygon fill=\"black\" stroke=\"black\" points=\"2091.05,-46.43 2092.63,-35.96 2084.86,-43.16 2091.05,-46.43\"/>\n",
       "</g>\n",
       "<!-- 0.12156779894510905 -->\n",
       "<g id=\"node79\" class=\"node\">\n",
       "<title>0.12156779894510905</title>\n",
       "<ellipse fill=\"none\" stroke=\"black\" cx=\"2242.59\" cy=\"-18\" rx=\"61.99\" ry=\"18\"/>\n",
       "<text text-anchor=\"middle\" x=\"2242.59\" y=\"-14.3\" font-family=\"Times,serif\" font-size=\"14.00\">(400.0, 600.0]</text>\n",
       "</g>\n",
       "<!-- 0.9171015434427221&#45;&gt;0.12156779894510905 -->\n",
       "<g id=\"edge78\" class=\"edge\">\n",
       "<title>0.9171015434427221&#45;&gt;0.12156779894510905</title>\n",
       "<path fill=\"none\" stroke=\"black\" d=\"M2255.48,-72.05C2253.59,-64.26 2251.29,-54.82 2249.17,-46.08\"/>\n",
       "<polygon fill=\"black\" stroke=\"black\" points=\"2252.55,-45.17 2246.79,-36.28 2245.75,-46.82 2252.55,-45.17\"/>\n",
       "</g>\n",
       "<!-- 0.05955631028159225 -->\n",
       "<g id=\"node81\" class=\"node\">\n",
       "<title>0.05955631028159225</title>\n",
       "<ellipse fill=\"none\" stroke=\"black\" cx=\"2387.59\" cy=\"-18\" rx=\"65.79\" ry=\"18\"/>\n",
       "<text text-anchor=\"middle\" x=\"2387.59\" y=\"-14.3\" font-family=\"Times,serif\" font-size=\"14.00\">(800.0, 1000.0]</text>\n",
       "</g>\n",
       "<!-- 0.033757771820882465&#45;&gt;0.05955631028159225 -->\n",
       "<g id=\"edge80\" class=\"edge\">\n",
       "<title>0.033757771820882465&#45;&gt;0.05955631028159225</title>\n",
       "<path fill=\"none\" stroke=\"black\" d=\"M2387.59,-71.7C2387.59,-63.98 2387.59,-54.71 2387.59,-46.11\"/>\n",
       "<polygon fill=\"black\" stroke=\"black\" points=\"2391.09,-46.1 2387.59,-36.1 2384.09,-46.1 2391.09,-46.1\"/>\n",
       "</g>\n",
       "<!-- 0.5491829130692027 -->\n",
       "<g id=\"node83\" class=\"node\">\n",
       "<title>0.5491829130692027</title>\n",
       "<ellipse fill=\"none\" stroke=\"black\" cx=\"2532.59\" cy=\"-18\" rx=\"61.99\" ry=\"18\"/>\n",
       "<text text-anchor=\"middle\" x=\"2532.59\" y=\"-14.3\" font-family=\"Times,serif\" font-size=\"14.00\">(200.0, 400.0]</text>\n",
       "</g>\n",
       "<!-- 0.02778123789742537&#45;&gt;0.5491829130692027 -->\n",
       "<g id=\"edge82\" class=\"edge\">\n",
       "<title>0.02778123789742537&#45;&gt;0.5491829130692027</title>\n",
       "<path fill=\"none\" stroke=\"black\" d=\"M2515.16,-72.05C2517.75,-64.18 2520.89,-54.62 2523.79,-45.79\"/>\n",
       "<polygon fill=\"black\" stroke=\"black\" points=\"2527.12,-46.87 2526.92,-36.28 2520.47,-44.68 2527.12,-46.87\"/>\n",
       "</g>\n",
       "<!-- 0.8547936284394468 -->\n",
       "<g id=\"node85\" class=\"node\">\n",
       "<title>0.8547936284394468</title>\n",
       "<ellipse fill=\"none\" stroke=\"black\" cx=\"2682.59\" cy=\"-18\" rx=\"70.39\" ry=\"18\"/>\n",
       "<text text-anchor=\"middle\" x=\"2682.59\" y=\"-14.3\" font-family=\"Times,serif\" font-size=\"14.00\">(1000.0, 1200.0]</text>\n",
       "</g>\n",
       "<!-- 0.5507350261384144&#45;&gt;0.8547936284394468 -->\n",
       "<g id=\"edge84\" class=\"edge\">\n",
       "<title>0.5507350261384144&#45;&gt;0.8547936284394468</title>\n",
       "<path fill=\"none\" stroke=\"black\" d=\"M2701.54,-72.05C2698.73,-64.18 2695.31,-54.62 2692.16,-45.79\"/>\n",
       "<polygon fill=\"black\" stroke=\"black\" points=\"2695.42,-44.52 2688.76,-36.28 2688.83,-46.87 2695.42,-44.52\"/>\n",
       "</g>\n",
       "<!-- 0.8072264527649925 -->\n",
       "<g id=\"node87\" class=\"node\">\n",
       "<title>0.8072264527649925</title>\n",
       "<ellipse fill=\"none\" stroke=\"black\" cx=\"2832.59\" cy=\"-18\" rx=\"61.99\" ry=\"18\"/>\n",
       "<text text-anchor=\"middle\" x=\"2832.59\" y=\"-14.3\" font-family=\"Times,serif\" font-size=\"14.00\">(200.0, 400.0]</text>\n",
       "</g>\n",
       "<!-- 0.0327552427258887&#45;&gt;0.8072264527649925 -->\n",
       "<g id=\"edge86\" class=\"edge\">\n",
       "<title>0.0327552427258887&#45;&gt;0.8072264527649925</title>\n",
       "<path fill=\"none\" stroke=\"black\" d=\"M2837.86,-71.7C2837.09,-63.98 2836.17,-54.71 2835.31,-46.11\"/>\n",
       "<polygon fill=\"black\" stroke=\"black\" points=\"2838.78,-45.71 2834.3,-36.1 2831.82,-46.4 2838.78,-45.71\"/>\n",
       "</g>\n",
       "<!-- 0.6683580339284244 -->\n",
       "<g id=\"node89\" class=\"node\">\n",
       "<title>0.6683580339284244</title>\n",
       "<ellipse fill=\"none\" stroke=\"black\" cx=\"2973.59\" cy=\"-18\" rx=\"61.99\" ry=\"18\"/>\n",
       "<text text-anchor=\"middle\" x=\"2973.59\" y=\"-14.3\" font-family=\"Times,serif\" font-size=\"14.00\">(600.0, 800.0]</text>\n",
       "</g>\n",
       "<!-- 0.4617503932551099&#45;&gt;0.6683580339284244 -->\n",
       "<g id=\"edge88\" class=\"edge\">\n",
       "<title>0.4617503932551099&#45;&gt;0.6683580339284244</title>\n",
       "<path fill=\"none\" stroke=\"black\" d=\"M2962.3,-71.7C2963.95,-63.98 2965.94,-54.71 2967.78,-46.11\"/>\n",
       "<polygon fill=\"black\" stroke=\"black\" points=\"2971.26,-46.62 2969.93,-36.1 2964.41,-45.15 2971.26,-46.62\"/>\n",
       "</g>\n",
       "<!-- 0.44037284826147227 -->\n",
       "<g id=\"node91\" class=\"node\">\n",
       "<title>0.44037284826147227</title>\n",
       "<ellipse fill=\"none\" stroke=\"black\" cx=\"3114.59\" cy=\"-18\" rx=\"61.99\" ry=\"18\"/>\n",
       "<text text-anchor=\"middle\" x=\"3114.59\" y=\"-14.3\" font-family=\"Times,serif\" font-size=\"14.00\">(600.0, 800.0]</text>\n",
       "</g>\n",
       "<!-- 0.6533021168216129&#45;&gt;0.44037284826147227 -->\n",
       "<g id=\"edge90\" class=\"edge\">\n",
       "<title>0.6533021168216129&#45;&gt;0.44037284826147227</title>\n",
       "<path fill=\"none\" stroke=\"black\" d=\"M3093.37,-72.05C3096.52,-64.18 3100.35,-54.62 3103.88,-45.79\"/>\n",
       "<polygon fill=\"black\" stroke=\"black\" points=\"3107.22,-46.86 3107.68,-36.28 3100.72,-44.26 3107.22,-46.86\"/>\n",
       "</g>\n",
       "<!-- 0.29734340210829613 -->\n",
       "<g id=\"node93\" class=\"node\">\n",
       "<title>0.29734340210829613</title>\n",
       "<ellipse fill=\"none\" stroke=\"black\" cx=\"3255.59\" cy=\"-18\" rx=\"61.99\" ry=\"18\"/>\n",
       "<text text-anchor=\"middle\" x=\"3255.59\" y=\"-14.3\" font-family=\"Times,serif\" font-size=\"14.00\">(600.0, 800.0]</text>\n",
       "</g>\n",
       "<!-- 0.9346617686947957&#45;&gt;0.29734340210829613 -->\n",
       "<g id=\"edge92\" class=\"edge\">\n",
       "<title>0.9346617686947957&#45;&gt;0.29734340210829613</title>\n",
       "<path fill=\"none\" stroke=\"black\" d=\"M3232.1,-72.05C3235.62,-64.09 3239.91,-54.41 3243.85,-45.51\"/>\n",
       "<polygon fill=\"black\" stroke=\"black\" points=\"3247.09,-46.84 3247.94,-36.28 3240.69,-44 3247.09,-46.84\"/>\n",
       "</g>\n",
       "<!-- 0.13011571689003765 -->\n",
       "<g id=\"node95\" class=\"node\">\n",
       "<title>0.13011571689003765</title>\n",
       "<ellipse fill=\"none\" stroke=\"black\" cx=\"3400.59\" cy=\"-18\" rx=\"65.79\" ry=\"18\"/>\n",
       "<text text-anchor=\"middle\" x=\"3400.59\" y=\"-14.3\" font-family=\"Times,serif\" font-size=\"14.00\">(800.0, 1000.0]</text>\n",
       "</g>\n",
       "<!-- 0.9669491008207514&#45;&gt;0.13011571689003765 -->\n",
       "<g id=\"edge94\" class=\"edge\">\n",
       "<title>0.9669491008207514&#45;&gt;0.13011571689003765</title>\n",
       "<path fill=\"none\" stroke=\"black\" d=\"M3397.58,-71.7C3398.02,-63.98 3398.55,-54.71 3399.04,-46.11\"/>\n",
       "<polygon fill=\"black\" stroke=\"black\" points=\"3402.54,-46.29 3399.62,-36.1 3395.55,-45.89 3402.54,-46.29\"/>\n",
       "</g>\n",
       "<!-- 0.7025454898981909 -->\n",
       "<g id=\"node97\" class=\"node\">\n",
       "<title>0.7025454898981909</title>\n",
       "<ellipse fill=\"none\" stroke=\"black\" cx=\"3549.59\" cy=\"-18\" rx=\"65.79\" ry=\"18\"/>\n",
       "<text text-anchor=\"middle\" x=\"3549.59\" y=\"-14.3\" font-family=\"Times,serif\" font-size=\"14.00\">(800.0, 1000.0]</text>\n",
       "</g>\n",
       "<!-- 0.7652573778614582&#45;&gt;0.7025454898981909 -->\n",
       "<g id=\"edge96\" class=\"edge\">\n",
       "<title>0.7652573778614582&#45;&gt;0.7025454898981909</title>\n",
       "<path fill=\"none\" stroke=\"black\" d=\"M3549.59,-71.7C3549.59,-63.98 3549.59,-54.71 3549.59,-46.11\"/>\n",
       "<polygon fill=\"black\" stroke=\"black\" points=\"3553.09,-46.1 3549.59,-36.1 3546.09,-46.1 3553.09,-46.1\"/>\n",
       "</g>\n",
       "<!-- 0.4398967556769017 -->\n",
       "<g id=\"node99\" class=\"node\">\n",
       "<title>0.4398967556769017</title>\n",
       "<ellipse fill=\"none\" stroke=\"black\" cx=\"3703.59\" cy=\"-18\" rx=\"70.39\" ry=\"18\"/>\n",
       "<text text-anchor=\"middle\" x=\"3703.59\" y=\"-14.3\" font-family=\"Times,serif\" font-size=\"14.00\">(1000.0, 1200.0]</text>\n",
       "</g>\n",
       "<!-- 0.5332154864807332&#45;&gt;0.4398967556769017 -->\n",
       "<g id=\"edge98\" class=\"edge\">\n",
       "<title>0.5332154864807332&#45;&gt;0.4398967556769017</title>\n",
       "<path fill=\"none\" stroke=\"black\" d=\"M3702.84,-71.7C3702.95,-63.98 3703.08,-54.71 3703.21,-46.11\"/>\n",
       "<polygon fill=\"black\" stroke=\"black\" points=\"3706.71,-46.15 3703.35,-36.1 3699.71,-46.05 3706.71,-46.15\"/>\n",
       "</g>\n",
       "<!-- 0.3829116836807378 -->\n",
       "<g id=\"node101\" class=\"node\">\n",
       "<title>0.3829116836807378</title>\n",
       "<ellipse fill=\"none\" stroke=\"black\" cx=\"3857.59\" cy=\"-18\" rx=\"65.79\" ry=\"18\"/>\n",
       "<text text-anchor=\"middle\" x=\"3857.59\" y=\"-14.3\" font-family=\"Times,serif\" font-size=\"14.00\">(800.0, 1000.0]</text>\n",
       "</g>\n",
       "<!-- 0.9777658447165756&#45;&gt;0.3829116836807378 -->\n",
       "<g id=\"edge100\" class=\"edge\">\n",
       "<title>0.9777658447165756&#45;&gt;0.3829116836807378</title>\n",
       "<path fill=\"none\" stroke=\"black\" d=\"M3856.09,-71.7C3856.31,-63.98 3856.57,-54.71 3856.82,-46.11\"/>\n",
       "<polygon fill=\"black\" stroke=\"black\" points=\"3860.32,-46.2 3857.11,-36.1 3853.32,-46 3860.32,-46.2\"/>\n",
       "</g>\n",
       "<!-- 0.1129749229916921 -->\n",
       "<g id=\"node103\" class=\"node\">\n",
       "<title>0.1129749229916921</title>\n",
       "<ellipse fill=\"none\" stroke=\"black\" cx=\"4007.59\" cy=\"-18\" rx=\"65.79\" ry=\"18\"/>\n",
       "<text text-anchor=\"middle\" x=\"4007.59\" y=\"-14.3\" font-family=\"Times,serif\" font-size=\"14.00\">(800.0, 1000.0]</text>\n",
       "</g>\n",
       "<!-- 0.638404914397784&#45;&gt;0.1129749229916921 -->\n",
       "<g id=\"edge102\" class=\"edge\">\n",
       "<title>0.638404914397784&#45;&gt;0.1129749229916921</title>\n",
       "<path fill=\"none\" stroke=\"black\" d=\"M4008.35,-71.7C4008.24,-63.98 4008.1,-54.71 4007.98,-46.11\"/>\n",
       "<polygon fill=\"black\" stroke=\"black\" points=\"4011.48,-46.05 4007.84,-36.1 4004.48,-46.15 4011.48,-46.05\"/>\n",
       "</g>\n",
       "<!-- 0.39551707416984916 -->\n",
       "<g id=\"node105\" class=\"node\">\n",
       "<title>0.39551707416984916</title>\n",
       "<ellipse fill=\"none\" stroke=\"black\" cx=\"4161.59\" cy=\"-18\" rx=\"70.39\" ry=\"18\"/>\n",
       "<text text-anchor=\"middle\" x=\"4161.59\" y=\"-14.3\" font-family=\"Times,serif\" font-size=\"14.00\">(1000.0, 1200.0]</text>\n",
       "</g>\n",
       "<!-- 0.7522070328242083&#45;&gt;0.39551707416984916 -->\n",
       "<g id=\"edge104\" class=\"edge\">\n",
       "<title>0.7522070328242083&#45;&gt;0.39551707416984916</title>\n",
       "<path fill=\"none\" stroke=\"black\" d=\"M4164.61,-71.7C4164.16,-63.98 4163.63,-54.71 4163.14,-46.11\"/>\n",
       "<polygon fill=\"black\" stroke=\"black\" points=\"4166.64,-45.89 4162.57,-36.1 4159.65,-46.29 4166.64,-45.89\"/>\n",
       "</g>\n",
       "<!-- 0.13140471016303878 -->\n",
       "<g id=\"node107\" class=\"node\">\n",
       "<title>0.13140471016303878</title>\n",
       "<ellipse fill=\"none\" stroke=\"black\" cx=\"4319.59\" cy=\"-18\" rx=\"70.39\" ry=\"18\"/>\n",
       "<text text-anchor=\"middle\" x=\"4319.59\" y=\"-14.3\" font-family=\"Times,serif\" font-size=\"14.00\">(1000.0, 1200.0]</text>\n",
       "</g>\n",
       "<!-- 0.7760967212348646&#45;&gt;0.13140471016303878 -->\n",
       "<g id=\"edge106\" class=\"edge\">\n",
       "<title>0.7760967212348646&#45;&gt;0.13140471016303878</title>\n",
       "<path fill=\"none\" stroke=\"black\" d=\"M4320.35,-71.7C4320.24,-63.98 4320.1,-54.71 4319.98,-46.11\"/>\n",
       "<polygon fill=\"black\" stroke=\"black\" points=\"4323.48,-46.05 4319.84,-36.1 4316.48,-46.15 4323.48,-46.05\"/>\n",
       "</g>\n",
       "<!-- 0.8621958650585589 -->\n",
       "<g id=\"node109\" class=\"node\">\n",
       "<title>0.8621958650585589</title>\n",
       "<ellipse fill=\"none\" stroke=\"black\" cx=\"4477.59\" cy=\"-18\" rx=\"70.39\" ry=\"18\"/>\n",
       "<text text-anchor=\"middle\" x=\"4477.59\" y=\"-14.3\" font-family=\"Times,serif\" font-size=\"14.00\">(1000.0, 1200.0]</text>\n",
       "</g>\n",
       "<!-- 0.8374171060642804&#45;&gt;0.8621958650585589 -->\n",
       "<g id=\"edge108\" class=\"edge\">\n",
       "<title>0.8374171060642804&#45;&gt;0.8621958650585589</title>\n",
       "<path fill=\"none\" stroke=\"black\" d=\"M4476.09,-71.7C4476.31,-63.98 4476.57,-54.71 4476.82,-46.11\"/>\n",
       "<polygon fill=\"black\" stroke=\"black\" points=\"4480.32,-46.2 4477.11,-36.1 4473.32,-46 4480.32,-46.2\"/>\n",
       "</g>\n",
       "<!-- 0.3337899969386936 -->\n",
       "<g id=\"node111\" class=\"node\">\n",
       "<title>0.3337899969386936</title>\n",
       "<ellipse fill=\"none\" stroke=\"black\" cx=\"4635.59\" cy=\"-18\" rx=\"70.39\" ry=\"18\"/>\n",
       "<text text-anchor=\"middle\" x=\"4635.59\" y=\"-14.3\" font-family=\"Times,serif\" font-size=\"14.00\">(1000.0, 1200.0]</text>\n",
       "</g>\n",
       "<!-- 0.40567462541851507&#45;&gt;0.3337899969386936 -->\n",
       "<g id=\"edge110\" class=\"edge\">\n",
       "<title>0.40567462541851507&#45;&gt;0.3337899969386936</title>\n",
       "<path fill=\"none\" stroke=\"black\" d=\"M4633.34,-71.7C4633.67,-63.98 4634.06,-54.71 4634.43,-46.11\"/>\n",
       "<polygon fill=\"black\" stroke=\"black\" points=\"4637.93,-46.25 4634.86,-36.1 4630.94,-45.95 4637.93,-46.25\"/>\n",
       "</g>\n",
       "<!-- 0.37221284797144105 -->\n",
       "<g id=\"node113\" class=\"node\">\n",
       "<title>0.37221284797144105</title>\n",
       "<ellipse fill=\"none\" stroke=\"black\" cx=\"4793.59\" cy=\"-18\" rx=\"70.39\" ry=\"18\"/>\n",
       "<text text-anchor=\"middle\" x=\"4793.59\" y=\"-14.3\" font-family=\"Times,serif\" font-size=\"14.00\">(1000.0, 1200.0]</text>\n",
       "</g>\n",
       "<!-- 0.826271638235429&#45;&gt;0.37221284797144105 -->\n",
       "<g id=\"edge112\" class=\"edge\">\n",
       "<title>0.826271638235429&#45;&gt;0.37221284797144105</title>\n",
       "<path fill=\"none\" stroke=\"black\" d=\"M4790.58,-71.7C4791.02,-63.98 4791.55,-54.71 4792.04,-46.11\"/>\n",
       "<polygon fill=\"black\" stroke=\"black\" points=\"4795.54,-46.29 4792.62,-36.1 4788.55,-45.89 4795.54,-46.29\"/>\n",
       "</g>\n",
       "</g>\n",
       "</svg>\n"
      ],
      "text/plain": [
       "<graphviz.graphs.Digraph at 0x7f7a9c2448e0>"
      ]
     },
     "metadata": {},
     "output_type": "display_data"
    },
    {
     "name": "stdout",
     "output_type": "stream",
     "text": [
      "The System entropy is:  2.577072828540696\n"
     ]
    },
    {
     "name": "stderr",
     "output_type": "stream",
     "text": [
      "Error: no \"view\" mailcap rules found for type \"application/pdf\"\n",
      "/usr/bin/xdg-open: 869: www-browser: not found\n"
     ]
    }
   ],
   "source": [
    "# Your answer goes here\n",
    "from p_decision_tree.DecisionTree import DecisionTree\n",
    "\n",
    "trainSet = X_train_priceBins.merge(y_train_priceBins,left_index=True, right_index=True)\n",
    "\n",
    "#Converting all the considered columns to string\n",
    "for column in ['number rooms', 'neighborhood group', 'room type','Price_Bins']:\n",
    "    trainSet[column]= trainSet[column].astype(str)\n",
    "\n",
    "data_descriptive = trainSet[['number rooms', 'neighborhood group', 'room type']].values\n",
    "data_label = trainSet['Price_Bins'].values\n",
    "\n",
    "#Calling DecisionTree constructor with entropy\n",
    "decisionTree = DecisionTree(data_descriptive.tolist(), ['number rooms', 'neighborhood group', 'room type']\n",
    "                            , data_label.tolist(), \"entropy\")\n",
    "\n",
    "#pruning features (gain_threshold and minimum_samples=10)\n",
    "decisionTree.id3(0,10)\n",
    "\n",
    "#Visualizing decision tree by Graphviz (file saved in output/visualTree.gv.pdf)\n",
    "dot = decisionTree.print_visualTree( render=True )\n",
    "\n",
    "display( dot )\n",
    "\n",
    "print(\"The System entropy is: \", format(decisionTree.entropy))\n"
   ]
  },
  {
   "cell_type": "markdown",
   "id": "ddc5527b",
   "metadata": {
    "id": "ddc5527b"
   },
   "source": [
    "What is the first feature the decision tree splits on?"
   ]
  },
  {
   "cell_type": "markdown",
   "id": "dedb90c3",
   "metadata": {
    "id": "dedb90c3"
   },
   "source": [
    "_Answer:_ number rooms\n",
    "\n"
   ]
  },
  {
   "cell_type": "markdown",
   "id": "604f3229",
   "metadata": {
    "id": "604f3229"
   },
   "source": [
    "Since it doesn't make sense to set a price range for renting a room, we need to fix a price. For simplicity, we use the means of the bins, i.e., 125, 300, 500, 700, 900, and 1100. For example, if a room were categorized in the bin (200, 400], it would have the price of 300.\n",
    "\n",
    "What prices are possible given your decision tree for:\n",
    "\n",
    "- Manhattan, 1-room, Private room\n",
    "- Staten Island, 1-room, Shared room"
   ]
  },
  {
   "cell_type": "markdown",
   "id": "75fc9049",
   "metadata": {
    "id": "dedb90c3"
   },
   "source": [
    "_Answer:_ \n",
    "- A room characterized by Manhattan, 1-room, Private room has a price range of (400.0, 600.0] according to our decision tree, possible price for that room would be 500.\n",
    "- A room characterized by Staten Island, 1-room, Shared room has a price range of (600.0, 800.0] according to our decision tree, possible price for that room would be 700."
   ]
  },
  {
   "cell_type": "markdown",
   "id": "gXRYGEa5QwCC",
   "metadata": {
    "id": "gXRYGEa5QwCC"
   },
   "source": [
    "What is the proposed price of the decision tree for our apartment? Store it in a variable for later usage."
   ]
  },
  {
   "cell_type": "code",
   "execution_count": 22,
   "id": "e2a17248",
   "metadata": {
    "id": "ly3THPi7PdLJ"
   },
   "outputs": [
    {
     "name": "stderr",
     "output_type": "stream",
     "text": [
      "/usr/bin/xdg-open: 869: links2: not found\n",
      "/usr/bin/xdg-open: 869: elinks: not found\n",
      "/usr/bin/xdg-open: 869: links: not found\n",
      "/usr/bin/xdg-open: 869: lynx: not found\n",
      "/usr/bin/xdg-open: 869: w3m: not found\n",
      "xdg-open: no method available for opening 'output/visualTree.gv.pdf'\n"
     ]
    }
   ],
   "source": [
    "# Your answer goes here\n",
    "# 2-room apartment in Manhattan\n",
    "\n",
    "recommended_price = 700\n"
   ]
  },
  {
   "cell_type": "markdown",
   "id": "d7b71ded",
   "metadata": {
    "id": "d7b71ded"
   },
   "source": [
    "To evaluate how good our decision tree is for determining price categories, we want to measure the error of the predictions on the test set. To do so, the IDS team provided you helper functions below."
   ]
  },
  {
   "cell_type": "code",
   "execution_count": 23,
   "id": "ywjosLTaa8sY",
   "metadata": {
    "id": "ywjosLTaa8sY"
   },
   "outputs": [],
   "source": [
    "import pydotplus, networkx\n",
    "\n",
    "def get_name_value_dict(graph):\n",
    "    id_label_dict = {}\n",
    "    root = decisionTree.root\n",
    "    visited = set() # Set to keep track of visited nodes of graph.\n",
    "\n",
    "    def dfs(visited, graph, node):#function for dfs \n",
    "        id_label_dict[node.name] = node.value\n",
    "        if node not in visited:\n",
    "            if node.next:\n",
    "                id_label_dict[node.next.name] = node.next.value\n",
    "            visited.add(node)\n",
    "            if node.childs:\n",
    "                for child in node.childs:\n",
    "                    if child is not None:\n",
    "                        dfs(visited, graph, child)\n",
    "            elif node.next:\n",
    "                if node.next.childs:\n",
    "                    for child in node.next.childs:\n",
    "                        if child is not None:\n",
    "                            dfs(visited, graph, child)\n",
    "    dfs(visited, decisionTree, root)\n",
    "    return id_label_dict\n",
    "\n",
    "def get_predictor(tree):\n",
    "    id_label_dict = get_name_value_dict(tree)\n",
    "    dotplus = pydotplus.graph_from_dot_data(tree.source)\n",
    "    G = networkx.nx_pydot.from_pydot(dotplus)\n",
    "    root = [n for n,d in G.in_degree() if d==0][0]\n",
    "    paths = []\n",
    "    for node in G:\n",
    "        if G.out_degree(node)==0: #it's a leaf\n",
    "            paths.append(networkx.shortest_path(G, root, node))           \n",
    "    new_paths = []\n",
    "    for path in paths:\n",
    "        for name, value in id_label_dict.items():\n",
    "            path = ([p.replace(name, value) for p in path])\n",
    "        new_paths.append(path)\n",
    "    predictor = {}\n",
    "    for path in new_paths.copy():\n",
    "        target = path[-1]\n",
    "        classification = tuple(path[:-1])\n",
    "        predictor[classification] = target\n",
    "    return predictor\n",
    "\n",
    "def get_prediction_features(predictor):\n",
    "    features = set()\n",
    "    for key in predictor:\n",
    "        i = 0\n",
    "        while i <= len(key)-2:\n",
    "            features.add(key[i])\n",
    "            i +=2\n",
    "    return features\n",
    "            \n",
    "def get_predicted_bin(instance, features, predictor):\n",
    "    feature_values = {}\n",
    "    for feature in features:\n",
    "        feature_values[feature] = instance[feature]\n",
    "    possible_paths = predictor.keys()\n",
    "    i=0\n",
    "    while i<=len(feature_values):\n",
    "        attribute = [path[i] for path in possible_paths][0]\n",
    "        if attribute in predictor.values():\n",
    "            break\n",
    "        feature_value = feature_values[attribute]\n",
    "        candidates = []\n",
    "        for el in possible_paths:\n",
    "            if str(el[i+1]) == str(feature_value):\n",
    "                candidates.append(el)\n",
    "        possible_paths = candidates.copy()\n",
    "        i+=2\n",
    "    return predictor[possible_paths[0]]\n",
    "\n",
    "\n",
    "### Dot is your visual decision tree. Adjust the naming if needed\n",
    "predictor = get_predictor(dot)\n",
    "features = get_prediction_features(predictor)"
   ]
  },
  {
   "cell_type": "markdown",
   "id": "05b8fad0",
   "metadata": {},
   "source": [
    "To predict the price bin for each instance of your test set, apply the function get_predicted_bin using the variables *predictor* and *features* provided above."
   ]
  },
  {
   "cell_type": "code",
   "execution_count": 24,
   "id": "04a9c317",
   "metadata": {},
   "outputs": [
    {
     "data": {
      "text/html": [
       "<div>\n",
       "<style scoped>\n",
       "    .dataframe tbody tr th:only-of-type {\n",
       "        vertical-align: middle;\n",
       "    }\n",
       "\n",
       "    .dataframe tbody tr th {\n",
       "        vertical-align: top;\n",
       "    }\n",
       "\n",
       "    .dataframe thead th {\n",
       "        text-align: right;\n",
       "    }\n",
       "</style>\n",
       "<table border=\"1\" class=\"dataframe\">\n",
       "  <thead>\n",
       "    <tr style=\"text-align: right;\">\n",
       "      <th></th>\n",
       "      <th>neighborhood group</th>\n",
       "      <th>number rooms</th>\n",
       "      <th>room type</th>\n",
       "      <th>Price_Bins</th>\n",
       "      <th>Predicted_price_bin</th>\n",
       "    </tr>\n",
       "  </thead>\n",
       "  <tbody>\n",
       "    <tr>\n",
       "      <th>27612</th>\n",
       "      <td>Manhattan</td>\n",
       "      <td>1</td>\n",
       "      <td>Private room</td>\n",
       "      <td>(200.0, 400.0]</td>\n",
       "      <td>(400.0, 600.0]</td>\n",
       "    </tr>\n",
       "    <tr>\n",
       "      <th>18650</th>\n",
       "      <td>Manhattan</td>\n",
       "      <td>4</td>\n",
       "      <td>Entire home/apt</td>\n",
       "      <td>(1000.0, 1200.0]</td>\n",
       "      <td>(1000.0, 1200.0]</td>\n",
       "    </tr>\n",
       "    <tr>\n",
       "      <th>32416</th>\n",
       "      <td>Manhattan</td>\n",
       "      <td>1</td>\n",
       "      <td>Entire home/apt</td>\n",
       "      <td>(200.0, 400.0]</td>\n",
       "      <td>(200.0, 400.0]</td>\n",
       "    </tr>\n",
       "    <tr>\n",
       "      <th>28153</th>\n",
       "      <td>Brooklyn</td>\n",
       "      <td>2</td>\n",
       "      <td>Entire home/apt</td>\n",
       "      <td>(400.0, 600.0]</td>\n",
       "      <td>(600.0, 800.0]</td>\n",
       "    </tr>\n",
       "    <tr>\n",
       "      <th>2900</th>\n",
       "      <td>Manhattan</td>\n",
       "      <td>1</td>\n",
       "      <td>Entire home/apt</td>\n",
       "      <td>(600.0, 800.0]</td>\n",
       "      <td>(200.0, 400.0]</td>\n",
       "    </tr>\n",
       "    <tr>\n",
       "      <th>...</th>\n",
       "      <td>...</td>\n",
       "      <td>...</td>\n",
       "      <td>...</td>\n",
       "      <td>...</td>\n",
       "      <td>...</td>\n",
       "    </tr>\n",
       "    <tr>\n",
       "      <th>24293</th>\n",
       "      <td>Brooklyn</td>\n",
       "      <td>1</td>\n",
       "      <td>Private room</td>\n",
       "      <td>(600.0, 800.0]</td>\n",
       "      <td>(400.0, 600.0]</td>\n",
       "    </tr>\n",
       "    <tr>\n",
       "      <th>41596</th>\n",
       "      <td>Manhattan</td>\n",
       "      <td>3</td>\n",
       "      <td>Entire home/apt</td>\n",
       "      <td>(800.0, 1000.0]</td>\n",
       "      <td>(1000.0, 1200.0]</td>\n",
       "    </tr>\n",
       "    <tr>\n",
       "      <th>45813</th>\n",
       "      <td>Manhattan</td>\n",
       "      <td>3</td>\n",
       "      <td>Entire home/apt</td>\n",
       "      <td>(1000.0, 1200.0]</td>\n",
       "      <td>(1000.0, 1200.0]</td>\n",
       "    </tr>\n",
       "    <tr>\n",
       "      <th>49824</th>\n",
       "      <td>Queens</td>\n",
       "      <td>1</td>\n",
       "      <td>Private room</td>\n",
       "      <td>(800.0, 1000.0]</td>\n",
       "      <td>(400.0, 600.0]</td>\n",
       "    </tr>\n",
       "    <tr>\n",
       "      <th>21774</th>\n",
       "      <td>Manhattan</td>\n",
       "      <td>2</td>\n",
       "      <td>Entire home/apt</td>\n",
       "      <td>(1000.0, 1200.0]</td>\n",
       "      <td>(600.0, 800.0]</td>\n",
       "    </tr>\n",
       "  </tbody>\n",
       "</table>\n",
       "<p>3543 rows × 5 columns</p>\n",
       "</div>"
      ],
      "text/plain": [
       "      neighborhood group  number rooms        room type        Price_Bins  \\\n",
       "27612          Manhattan             1     Private room    (200.0, 400.0]   \n",
       "18650          Manhattan             4  Entire home/apt  (1000.0, 1200.0]   \n",
       "32416          Manhattan             1  Entire home/apt    (200.0, 400.0]   \n",
       "28153           Brooklyn             2  Entire home/apt    (400.0, 600.0]   \n",
       "2900           Manhattan             1  Entire home/apt    (600.0, 800.0]   \n",
       "...                  ...           ...              ...               ...   \n",
       "24293           Brooklyn             1     Private room    (600.0, 800.0]   \n",
       "41596          Manhattan             3  Entire home/apt   (800.0, 1000.0]   \n",
       "45813          Manhattan             3  Entire home/apt  (1000.0, 1200.0]   \n",
       "49824             Queens             1     Private room   (800.0, 1000.0]   \n",
       "21774          Manhattan             2  Entire home/apt  (1000.0, 1200.0]   \n",
       "\n",
       "      Predicted_price_bin  \n",
       "27612      (400.0, 600.0]  \n",
       "18650    (1000.0, 1200.0]  \n",
       "32416      (200.0, 400.0]  \n",
       "28153      (600.0, 800.0]  \n",
       "2900       (200.0, 400.0]  \n",
       "...                   ...  \n",
       "24293      (400.0, 600.0]  \n",
       "41596    (1000.0, 1200.0]  \n",
       "45813    (1000.0, 1200.0]  \n",
       "49824      (400.0, 600.0]  \n",
       "21774      (600.0, 800.0]  \n",
       "\n",
       "[3543 rows x 5 columns]"
      ]
     },
     "execution_count": 24,
     "metadata": {},
     "output_type": "execute_result"
    }
   ],
   "source": [
    "# Your answer goes here\n",
    "testSet = X_test_priceBins.merge(y_test_priceBins,left_index=True, right_index=True)\n",
    "\n",
    "# added column 'Predicted_price_bin'\n",
    "testSet['Predicted_price_bin'] = X_test_priceBins.apply(lambda instance: get_predicted_bin(instance, features, predictor), axis=1)\n",
    "\n",
    "# predict price bin for all instances of test set\n",
    "testSet"
   ]
  },
  {
   "cell_type": "markdown",
   "id": "tErBbNh62NdR",
   "metadata": {
    "id": "tErBbNh62NdR"
   },
   "source": [
    "You predicted a price range for AirBnBs in your test set. However, since you cannot enter a price range for renting an apartment, we have to map the range of bins to one value. To do so, we use the mean of bins, as explained before, to predict the price. Given that, compute the mean absolute error between the prediction from the decision tree and the real price provided in the dataset. What is the mean absolute error?"
   ]
  },
  {
   "cell_type": "code",
   "execution_count": 25,
   "id": "4e4a988f",
   "metadata": {
    "id": "ly3THPi7PdLJ"
   },
   "outputs": [
    {
     "name": "stdout",
     "output_type": "stream",
     "text": [
      "Mean absolute error: 260.39\n"
     ]
    },
    {
     "data": {
      "text/html": [
       "<div>\n",
       "<style scoped>\n",
       "    .dataframe tbody tr th:only-of-type {\n",
       "        vertical-align: middle;\n",
       "    }\n",
       "\n",
       "    .dataframe tbody tr th {\n",
       "        vertical-align: top;\n",
       "    }\n",
       "\n",
       "    .dataframe thead th {\n",
       "        text-align: right;\n",
       "    }\n",
       "</style>\n",
       "<table border=\"1\" class=\"dataframe\">\n",
       "  <thead>\n",
       "    <tr style=\"text-align: right;\">\n",
       "      <th></th>\n",
       "      <th>neighborhood group</th>\n",
       "      <th>number rooms</th>\n",
       "      <th>room type</th>\n",
       "      <th>Price_Bins</th>\n",
       "      <th>Predicted_price_bin</th>\n",
       "      <th>mapped_price_bin</th>\n",
       "      <th>mapped_predicted_price_bin</th>\n",
       "    </tr>\n",
       "  </thead>\n",
       "  <tbody>\n",
       "    <tr>\n",
       "      <th>27612</th>\n",
       "      <td>Manhattan</td>\n",
       "      <td>1</td>\n",
       "      <td>Private room</td>\n",
       "      <td>(200.0, 400.0]</td>\n",
       "      <td>(400.0, 600.0]</td>\n",
       "      <td>300</td>\n",
       "      <td>500</td>\n",
       "    </tr>\n",
       "    <tr>\n",
       "      <th>18650</th>\n",
       "      <td>Manhattan</td>\n",
       "      <td>4</td>\n",
       "      <td>Entire home/apt</td>\n",
       "      <td>(1000.0, 1200.0]</td>\n",
       "      <td>(1000.0, 1200.0]</td>\n",
       "      <td>1100</td>\n",
       "      <td>1100</td>\n",
       "    </tr>\n",
       "    <tr>\n",
       "      <th>32416</th>\n",
       "      <td>Manhattan</td>\n",
       "      <td>1</td>\n",
       "      <td>Entire home/apt</td>\n",
       "      <td>(200.0, 400.0]</td>\n",
       "      <td>(200.0, 400.0]</td>\n",
       "      <td>300</td>\n",
       "      <td>300</td>\n",
       "    </tr>\n",
       "    <tr>\n",
       "      <th>28153</th>\n",
       "      <td>Brooklyn</td>\n",
       "      <td>2</td>\n",
       "      <td>Entire home/apt</td>\n",
       "      <td>(400.0, 600.0]</td>\n",
       "      <td>(600.0, 800.0]</td>\n",
       "      <td>500</td>\n",
       "      <td>700</td>\n",
       "    </tr>\n",
       "    <tr>\n",
       "      <th>2900</th>\n",
       "      <td>Manhattan</td>\n",
       "      <td>1</td>\n",
       "      <td>Entire home/apt</td>\n",
       "      <td>(600.0, 800.0]</td>\n",
       "      <td>(200.0, 400.0]</td>\n",
       "      <td>700</td>\n",
       "      <td>300</td>\n",
       "    </tr>\n",
       "    <tr>\n",
       "      <th>...</th>\n",
       "      <td>...</td>\n",
       "      <td>...</td>\n",
       "      <td>...</td>\n",
       "      <td>...</td>\n",
       "      <td>...</td>\n",
       "      <td>...</td>\n",
       "      <td>...</td>\n",
       "    </tr>\n",
       "    <tr>\n",
       "      <th>24293</th>\n",
       "      <td>Brooklyn</td>\n",
       "      <td>1</td>\n",
       "      <td>Private room</td>\n",
       "      <td>(600.0, 800.0]</td>\n",
       "      <td>(400.0, 600.0]</td>\n",
       "      <td>700</td>\n",
       "      <td>500</td>\n",
       "    </tr>\n",
       "    <tr>\n",
       "      <th>41596</th>\n",
       "      <td>Manhattan</td>\n",
       "      <td>3</td>\n",
       "      <td>Entire home/apt</td>\n",
       "      <td>(800.0, 1000.0]</td>\n",
       "      <td>(1000.0, 1200.0]</td>\n",
       "      <td>900</td>\n",
       "      <td>1100</td>\n",
       "    </tr>\n",
       "    <tr>\n",
       "      <th>45813</th>\n",
       "      <td>Manhattan</td>\n",
       "      <td>3</td>\n",
       "      <td>Entire home/apt</td>\n",
       "      <td>(1000.0, 1200.0]</td>\n",
       "      <td>(1000.0, 1200.0]</td>\n",
       "      <td>1100</td>\n",
       "      <td>1100</td>\n",
       "    </tr>\n",
       "    <tr>\n",
       "      <th>49824</th>\n",
       "      <td>Queens</td>\n",
       "      <td>1</td>\n",
       "      <td>Private room</td>\n",
       "      <td>(800.0, 1000.0]</td>\n",
       "      <td>(400.0, 600.0]</td>\n",
       "      <td>900</td>\n",
       "      <td>500</td>\n",
       "    </tr>\n",
       "    <tr>\n",
       "      <th>21774</th>\n",
       "      <td>Manhattan</td>\n",
       "      <td>2</td>\n",
       "      <td>Entire home/apt</td>\n",
       "      <td>(1000.0, 1200.0]</td>\n",
       "      <td>(600.0, 800.0]</td>\n",
       "      <td>1100</td>\n",
       "      <td>700</td>\n",
       "    </tr>\n",
       "  </tbody>\n",
       "</table>\n",
       "<p>3543 rows × 7 columns</p>\n",
       "</div>"
      ],
      "text/plain": [
       "      neighborhood group  number rooms        room type        Price_Bins  \\\n",
       "27612          Manhattan             1     Private room    (200.0, 400.0]   \n",
       "18650          Manhattan             4  Entire home/apt  (1000.0, 1200.0]   \n",
       "32416          Manhattan             1  Entire home/apt    (200.0, 400.0]   \n",
       "28153           Brooklyn             2  Entire home/apt    (400.0, 600.0]   \n",
       "2900           Manhattan             1  Entire home/apt    (600.0, 800.0]   \n",
       "...                  ...           ...              ...               ...   \n",
       "24293           Brooklyn             1     Private room    (600.0, 800.0]   \n",
       "41596          Manhattan             3  Entire home/apt   (800.0, 1000.0]   \n",
       "45813          Manhattan             3  Entire home/apt  (1000.0, 1200.0]   \n",
       "49824             Queens             1     Private room   (800.0, 1000.0]   \n",
       "21774          Manhattan             2  Entire home/apt  (1000.0, 1200.0]   \n",
       "\n",
       "      Predicted_price_bin mapped_price_bin  mapped_predicted_price_bin  \n",
       "27612      (400.0, 600.0]              300                         500  \n",
       "18650    (1000.0, 1200.0]             1100                        1100  \n",
       "32416      (200.0, 400.0]              300                         300  \n",
       "28153      (600.0, 800.0]              500                         700  \n",
       "2900       (200.0, 400.0]              700                         300  \n",
       "...                   ...              ...                         ...  \n",
       "24293      (400.0, 600.0]              700                         500  \n",
       "41596    (1000.0, 1200.0]              900                        1100  \n",
       "45813    (1000.0, 1200.0]             1100                        1100  \n",
       "49824      (400.0, 600.0]              900                         500  \n",
       "21774      (600.0, 800.0]             1100                         700  \n",
       "\n",
       "[3543 rows x 7 columns]"
      ]
     },
     "execution_count": 25,
     "metadata": {},
     "output_type": "execute_result"
    }
   ],
   "source": [
    "# Your answer goes here\n",
    "import ast\n",
    "from sklearn.metrics import mean_squared_error, mean_absolute_error\n",
    "# 125, 300, 500, 700, 900, 1100\n",
    "\n",
    "# helper function to parse bins of type string back to type Interval\n",
    "def interval_type(s):\n",
    "    #Parse interval string to Interval\n",
    "    table = str.maketrans({'[': '(', ']': ')'})\n",
    "    left_closed = s.startswith('[')\n",
    "    right_closed = s.endswith(']')\n",
    "\n",
    "    left, right = ast.literal_eval(s.translate(table))\n",
    "\n",
    "    t = 'neither'\n",
    "    if left_closed and right_closed:\n",
    "        t = 'both'\n",
    "    elif left_closed:\n",
    "        t = 'left'\n",
    "    elif right_closed:\n",
    "        t = 'right'\n",
    "\n",
    "    return pd.Interval(left, right, closed=t)\n",
    "\n",
    "\n",
    "# added column 'mapped_price_bin'\n",
    "testSet['mapped_price_bin'] = testSet['Price_Bins'].apply(lambda price_bin: round(price_bin.mid))\n",
    "\n",
    "# added column 'mapped_predicted_price_bin'\n",
    "testSet['mapped_predicted_price_bin'] = testSet['Predicted_price_bin'].apply(lambda price_bin: round(interval_type(price_bin).mid))\n",
    "\n",
    "# Mean absolute error between the prediction from the decision tree (target feature predict) and the real price provided in the dataset (target feature)\n",
    "print(\"Mean absolute error: %.2f\" % mean_absolute_error(testSet['mapped_price_bin'], testSet['mapped_predicted_price_bin']))\n",
    "\n",
    "testSet"
   ]
  },
  {
   "cell_type": "markdown",
   "id": "4e0d4040-8285-41d8-9da7-547127f999ce",
   "metadata": {
    "id": "4e0d4040-8285-41d8-9da7-547127f999ce"
   },
   "source": [
    "## Clustering"
   ]
  },
  {
   "cell_type": "markdown",
   "id": "8bae6185",
   "metadata": {
    "id": "8bae6185"
   },
   "source": [
    "Another way to do comparables pricing is to find similar apartments using clustering. Each calculated cluster represents one or more similar apartments in the dataset. For each cluster, you calculate the mean price as a representative price. To predict the price for new apartments, you assign them to an existing cluster and give the mean price as prediction.\n",
    "\n",
    "Use the same features you used in the decision tree for the clustering as well (**number rooms, neighborhood group, room type**), and remember that your dataset is still split into a training and test set.\n",
    "\n",
    "In this task, you will use the k-means algorithm.\n",
    "*Note: To keep results comparable, please use 100 for random state and n_init when initializing the clustering algorithm. Also, remember to use the same test and training set as in the previous tasks to compare performances.*"
   ]
  },
  {
   "cell_type": "markdown",
   "id": "bHmkuRpS-pjY",
   "metadata": {
    "id": "bHmkuRpS-pjY"
   },
   "source": [
    "### Encoding "
   ]
  },
  {
   "cell_type": "markdown",
   "id": "TjuIWkKM1ylm",
   "metadata": {
    "id": "TjuIWkKM1ylm"
   },
   "source": [
    "K-means tries to calculate the distance between different data points. Since some of the features you want to use are not numeric, apply one-hot encoding to be able to use distance measures. Use the preprocessing module of sklearn to prepare your dataset for clustering."
   ]
  },
  {
   "cell_type": "code",
   "execution_count": 26,
   "id": "b6285240",
   "metadata": {
    "id": "ly3THPi7PdLJ"
   },
   "outputs": [
    {
     "name": "stdout",
     "output_type": "stream",
     "text": [
      "Transformed by One-hot Encoding: \n",
      "[[0. 0. 1. ... 0. 1. 0.]\n",
      " [0. 0. 1. ... 1. 0. 0.]\n",
      " [0. 0. 1. ... 0. 0. 0.]\n",
      " ...\n",
      " [0. 0. 1. ... 0. 1. 0.]\n",
      " [0. 0. 0. ... 0. 1. 0.]\n",
      " [0. 0. 0. ... 1. 0. 0.]]\n",
      "Replacing categories by numerical labels: \n",
      "       neighborhood group  number rooms  room type  Price_Bins\n",
      "23447                   2             1          0           4\n",
      "44487                   2             0          2           3\n",
      "2706                    2             0          0           2\n",
      "60541                   2             0          2           0\n",
      "1877                    1             1          0           2\n",
      "Transformed by One-hot Encoding: \n",
      "[[0. 0. 1. ... 0. 0. 0.]\n",
      " [0. 0. 1. ... 0. 0. 1.]\n",
      " [0. 0. 1. ... 0. 0. 0.]\n",
      " ...\n",
      " [0. 0. 1. ... 0. 0. 1.]\n",
      " [0. 0. 0. ... 0. 1. 0.]\n",
      " [0. 0. 1. ... 0. 0. 1.]]\n",
      "Replacing categories by numerical labels: \n",
      "       neighborhood group  number rooms  room type  Price_Bins\n",
      "27612                   2             0          2           1\n",
      "18650                   2             3          0           5\n",
      "32416                   2             0          0           1\n",
      "28153                   1             1          0           2\n",
      "2900                    2             0          0           3\n"
     ]
    }
   ],
   "source": [
    "# Your answer goes here\n",
    "from sklearn.preprocessing import LabelEncoder, OneHotEncoder\n",
    "\n",
    "trainSet_cluster = X_train_priceBins.merge(y_train_priceBins,left_index=True, right_index=True)\n",
    "testSet_cluster = X_test_priceBins.merge(y_test_priceBins,left_index=True, right_index=True)\n",
    "\n",
    "#apply the one hot encoder\n",
    "encoder = OneHotEncoder(categories='auto')\n",
    "encoder.fit(trainSet_cluster)\n",
    "trainSet_cluster_OneHot = encoder.transform(trainSet_cluster).toarray()\n",
    "print('Transformed by One-hot Encoding: ')\n",
    "print(trainSet_cluster_OneHot)\n",
    "\n",
    "# encode labels with value between 0 and n_classes-1\n",
    "encoder = LabelEncoder()\n",
    "trainSet_cluster_LE = trainSet_cluster.apply(encoder.fit_transform)\n",
    "print('Replacing categories by numerical labels: ')\n",
    "print(trainSet_cluster_LE.head())\n",
    "\n",
    "#apply the one hot encoder\n",
    "encoder = OneHotEncoder(categories='auto')\n",
    "encoder.fit(testSet_cluster)\n",
    "testSet_cluster_OneHot = encoder.transform(testSet_cluster).toarray()\n",
    "print('Transformed by One-hot Encoding: ')\n",
    "print(testSet_cluster_OneHot)\n",
    "\n",
    "# encode labels with value between 0 and n_classes-1\n",
    "encoder = LabelEncoder()\n",
    "testSet_cluster_LE = testSet_cluster.apply(encoder.fit_transform)\n",
    "print('Replacing categories by numerical labels: ')\n",
    "print(testSet_cluster_LE.head())\n"
   ]
  },
  {
   "cell_type": "markdown",
   "id": "LYtN1tb8-0Yf",
   "metadata": {
    "id": "LYtN1tb8-0Yf"
   },
   "source": [
    "### Choosing number of clusters"
   ]
  },
  {
   "cell_type": "markdown",
   "id": "a58f00cf",
   "metadata": {
    "id": "a58f00cf"
   },
   "source": [
    "In k-means, the number of wanted clusters is a parameter one can decide on. Since this is information you do not have at this time, you choose to use the data to decide.\n",
    "\n",
    "You cluster on the training dataset by using `k` number of clusters where `k` is between 4 and 15. Since you are interested in the price, for each clustering, you calculate the **standard deviation of the mean prices for the clusters**. Therefore, for each clustering:\n",
    "1. Calculate the mean price for each of the resulting clusters.\n",
    "2. Calculate the standard deviation of the mean prices calculated in 1.\n",
    "\n",
    "Plot a diagram where on the `x-axis` you will have the *number of clusters used* and on the `y-axis` the *standard deviation of the means*.\n",
    "\n",
    "In your opinion, which amount of clusters makes more sense? Explain your answer."
   ]
  },
  {
   "cell_type": "code",
   "execution_count": 27,
   "id": "cf32d53e",
   "metadata": {
    "id": "ly3THPi7PdLJ"
   },
   "outputs": [
    {
     "name": "stdout",
     "output_type": "stream",
     "text": [
      "range(4, 15)\n"
     ]
    }
   ],
   "source": [
    "# Your answer goes here\n",
    "\n",
    "k_range = range(4,15)\n",
    "\n",
    "# for each cluster\n",
    "# calc mean price\n",
    "# calc std of mean price\n",
    "\n",
    "# plot diagram x=num of clusters, y=std of means\n",
    "print(k_range)\n"
   ]
  },
  {
   "cell_type": "markdown",
   "id": "79a62a5b",
   "metadata": {},
   "source": [
    "_Answer:_\n",
    "\n"
   ]
  },
  {
   "cell_type": "markdown",
   "id": "8047129d",
   "metadata": {
    "id": "8047129d"
   },
   "source": [
    "**Note:** No matter the conclusion made in the previous task, from now on, you use the clustering model with **9 clusters** for predicting the price for your apartment and evaluating the clustering technique."
   ]
  },
  {
   "cell_type": "markdown",
   "id": "cd39a5ea",
   "metadata": {},
   "source": [
    "### Pricing your apartment\n",
    "\n",
    "To predict the price for your apartment, calculate in which cluster your apartment would be and use the mean value of the cluster as a possible price."
   ]
  },
  {
   "cell_type": "code",
   "execution_count": 28,
   "id": "50a772aa",
   "metadata": {
    "id": "ly3THPi7PdLJ"
   },
   "outputs": [],
   "source": [
    "# Your answer goes here\n",
    "# cluster for 9 clusters\n"
   ]
  },
  {
   "cell_type": "markdown",
   "id": "_MyMuKLPVihY",
   "metadata": {
    "id": "_MyMuKLPVihY"
   },
   "source": [
    "### Evaluating clustering\n",
    "\n",
    "You want to evaluate how well your clustering worked. In your case, two things can be evaluated:\n",
    "\n",
    "1.   Whether the clustering technique can group similar apartments together\n",
    "2.   Whether other people determine the price of their apartment as you did, meaning whether similar apartments get a similar price"
   ]
  },
  {
   "cell_type": "markdown",
   "id": "O3VJSoR9VseI",
   "metadata": {
    "id": "O3VJSoR9VseI"
   },
   "source": [
    "You are going to evaluate the clustering technique visually. The IDS team provides you with the following fancy code that reduces your input to two dimensions."
   ]
  },
  {
   "cell_type": "code",
   "execution_count": 29,
   "id": "IaMFg-ogVvpZ",
   "metadata": {
    "colab": {
     "base_uri": "https://localhost:8080/"
    },
    "id": "IaMFg-ogVvpZ",
    "outputId": "36e6a0f2-75fb-4331-8337-c3c9fa893e02"
   },
   "outputs": [
    {
     "ename": "NameError",
     "evalue": "name 'x_train' is not defined",
     "output_type": "error",
     "traceback": [
      "\u001b[0;31m---------------------------------------------------------------------------\u001b[0m",
      "\u001b[0;31mNameError\u001b[0m                                 Traceback (most recent call last)",
      "Input \u001b[0;32mIn [29]\u001b[0m, in \u001b[0;36m<cell line: 4>\u001b[0;34m()\u001b[0m\n\u001b[1;32m      1\u001b[0m \u001b[38;5;28;01mimport\u001b[39;00m \u001b[38;5;21;01mumap\u001b[39;00m\u001b[38;5;21;01m.\u001b[39;00m\u001b[38;5;21;01mumap_\u001b[39;00m \u001b[38;5;28;01mas\u001b[39;00m \u001b[38;5;21;01mumap\u001b[39;00m\n\u001b[1;32m      3\u001b[0m \u001b[38;5;66;03m#Preprocessing numerical\u001b[39;00m\n\u001b[0;32m----> 4\u001b[0m full_data \u001b[38;5;241m=\u001b[39m \u001b[43mx_train\u001b[49m \u001b[38;5;66;03m# use the train dataset here\u001b[39;00m\n\u001b[1;32m      5\u001b[0m numerical \u001b[38;5;241m=\u001b[39m full_data\u001b[38;5;241m.\u001b[39mselect_dtypes(exclude\u001b[38;5;241m=\u001b[39m\u001b[38;5;124m'\u001b[39m\u001b[38;5;124mobject\u001b[39m\u001b[38;5;124m'\u001b[39m)\n\u001b[1;32m      7\u001b[0m \u001b[38;5;28;01mfor\u001b[39;00m c \u001b[38;5;129;01min\u001b[39;00m numerical\u001b[38;5;241m.\u001b[39mcolumns:\n",
      "\u001b[0;31mNameError\u001b[0m: name 'x_train' is not defined"
     ]
    }
   ],
   "source": [
    "import umap.umap_ as umap\n",
    "\n",
    "#Preprocessing numerical\n",
    "full_data = x_train # use the train dataset here\n",
    "numerical = full_data.select_dtypes(exclude='object')\n",
    "\n",
    "for c in numerical.columns:\n",
    "    pt = sklearn.preprocessing.PowerTransformer()\n",
    "    numerical.loc[:, c] = pt.fit_transform(np.array(numerical[c]).reshape(-1, 1))\n",
    "    \n",
    "##preprocessing categorical\n",
    "categorical = full_data.select_dtypes(include='object')\n",
    "categorical = pd.get_dummies(categorical)\n",
    "\n",
    "#Percentage of columns which are categorical is used as weight parameter in embeddings later\n",
    "categorical_weight = len(full_data.select_dtypes(include='object').columns) / full_data.shape[1]\n",
    "\n",
    "#Embedding numerical & categorical\n",
    "fit1 = umap.UMAP(metric='l2').fit(numerical)\n",
    "fit2 = umap.UMAP(metric='dice').fit(categorical)\n",
    "\n",
    "#Augmenting the numerical embedding with categorical\n",
    "intersection = umap.general_simplicial_set_intersection(fit1.graph_, fit2.graph_, weight=categorical_weight)\n",
    "intersection = umap.reset_local_connectivity(intersection)\n",
    "embedding = umap.simplicial_set_embedding(fit1._raw_data, intersection, fit1.n_components,\n",
    "                                                fit1._initial_alpha, fit1._a, fit1._b,\n",
    "                                                fit1.repulsion_strength, fit1.negative_sample_rate,\n",
    "                                                200, 'random', np.random, fit1.metric,\n",
    "                                                fit1._metric_kwds, False, {}, False)\n",
    "\n",
    "# Extracting the resulting dimensions\n",
    "dimension1 = embedding[0].T[0]\n",
    "dimension2 = embedding[0].T[1]"
   ]
  },
  {
   "cell_type": "markdown",
   "id": "1ea842d4",
   "metadata": {},
   "source": [
    "Create a scatter plot from the two dimensions and use the cluster labels for coloring the data points. Use the train set for the visualization. Discuss the result."
   ]
  },
  {
   "cell_type": "code",
   "execution_count": null,
   "id": "f319f3d2",
   "metadata": {
    "id": "ly3THPi7PdLJ"
   },
   "outputs": [],
   "source": [
    "# Your answer goes here\n"
   ]
  },
  {
   "cell_type": "markdown",
   "id": "1c822564",
   "metadata": {},
   "source": [
    "_Answer:_\n",
    "\n"
   ]
  },
  {
   "cell_type": "markdown",
   "id": "EFNtFLuyV7yQ",
   "metadata": {
    "id": "EFNtFLuyV7yQ"
   },
   "source": [
    "We next evaluate whether similar apartments (considering the attributes we chose) get similar prices. To do this, we use our test set. Assign each apartment of the test set to the nearest centroid. Predict the price of the apartments in the test set by taking the mean price of the cluster they was assigned to. Calculate the mean absolute error between the predicted and real prices."
   ]
  },
  {
   "cell_type": "code",
   "execution_count": null,
   "id": "cf6ae627",
   "metadata": {
    "id": "ly3THPi7PdLJ"
   },
   "outputs": [],
   "source": [
    "# Your answer goes here\n"
   ]
  },
  {
   "cell_type": "markdown",
   "id": "qxrtlduTBkRQ",
   "metadata": {
    "id": "qxrtlduTBkRQ"
   },
   "source": [
    "### Final comments on the price prediction\n",
    "\n",
    "Please compare the three approaches used for determining the price. Do they provide a good way of determining the price?"
   ]
  },
  {
   "cell_type": "markdown",
   "id": "93dedc80",
   "metadata": {},
   "source": [
    "_Answer:_\n",
    "\n"
   ]
  },
  {
   "cell_type": "markdown",
   "id": "a6797ffe-8983-42d2-891d-7df7d8f9fc85",
   "metadata": {
    "id": "a6797ffe-8983-42d2-891d-7df7d8f9fc85"
   },
   "source": [
    "## Question 3: Investigating Price Elasticity"
   ]
  },
  {
   "cell_type": "markdown",
   "id": "88ca941f-cdf0-45fa-b930-b55a21c71e86",
   "metadata": {
    "id": "88ca941f-cdf0-45fa-b930-b55a21c71e86"
   },
   "source": [
    "You show your results to Toby, excited about the price suggestions you got from the decision tree and clustering. You decide to take the higher price, which naturally means more income.\n",
    "\n",
    "However, he points you to one central flaw in your thinking: The number of bookings is not independent of the price. Therefore, you can not just take any price and assume that this will lead to more income than a lower price, as the demand (utilization) for your apartment might decrease. This is called **price elasticity**.\n",
    "\n",
    "You want to verify what Toby has been telling you. You extracted the utilization column of your dataset by grabbing the available data from AirBnB's calendar (smart!). The utilization values are contained in dataset **AirBnB_utilization.csv**. **Show several graphs investigating price elasticity.** For example, you might plot the utilization in relation to the price and color according to different variable values. \n",
    "After you have verified Toby's statements, you want to learn price elasticity from the dataset (the utilization of an apartment given the price, the number of rooms, the room type, and the neighborhood group, i.e., the same features as before). With the learned price elasticity, you want to evaluate which of the proposed prices (decision tree or clustering) is the better choice."
   ]
  },
  {
   "cell_type": "code",
   "execution_count": null,
   "id": "14e26b23",
   "metadata": {
    "id": "ly3THPi7PdLJ"
   },
   "outputs": [],
   "source": [
    "# Your answer goes here\n",
    "# Import the utilization data set\n",
    "df_util = pd.read_csv('AirBnB_utilization.csv')\n",
    "df_util"
   ]
  },
  {
   "cell_type": "code",
   "execution_count": null,
   "id": "b7b9b262",
   "metadata": {},
   "outputs": [],
   "source": [
    "# Helper function to plot price vs utilization colored by different attributes\n",
    "def plot_price_elasticity_by_att(df_util, price_col, util_col, att, xlabel='price', ylabel='utilization'):\n",
    "    groups = df_util.groupby(att)\n",
    "    for name, group in groups:\n",
    "        plt.scatter(group[price_col], group[util_col], label=name, alpha=0.5)\n",
    "        # alpha=0.5 because lot of points lie on each other\n",
    "    plt.title(f\"Price elasticity colored by {att}\")\n",
    "    plt.ylabel(ylabel)\n",
    "    plt.xlabel(xlabel)\n",
    "    plt.legend()\n",
    "    plt.show()"
   ]
  },
  {
   "cell_type": "code",
   "execution_count": null,
   "id": "4ba89b60",
   "metadata": {},
   "outputs": [],
   "source": [
    "def plot_price_elasticity(df, price_col, util_col, atts, xlabel='price', ylabel='utilization'):\n",
    "    for att in atts:\n",
    "        plot_price_elasticity_by_att(df, price_col, util_col, att, xlabel, ylabel)"
   ]
  },
  {
   "cell_type": "code",
   "execution_count": null,
   "id": "18a08871",
   "metadata": {},
   "outputs": [],
   "source": [
    "# Plot some graphs about price elasticity \n",
    "plot_price_elasticity(df_util, 'price', 'utilization', ['room type', 'number rooms', 'neighborhood group'])"
   ]
  },
  {
   "cell_type": "markdown",
   "id": "3014ad7a-a391-4485-9395-b69c3f081ee8",
   "metadata": {
    "id": "3014ad7a-a391-4485-9395-b69c3f081ee8"
   },
   "source": [
    "You will investigate the relationship between price and utilization in this subtask. First, you will train different models and choose the one that best predicts utilization for an apartment. Second, you will evaluate which of the proposed prices of decision tree and clustering prices were better, assuming that your model provides the correct utilization. Third, you will conclude your investigation and provide a pricing decision."
   ]
  },
  {
   "cell_type": "markdown",
   "id": "dc64c4de-fa5c-41fe-8bbe-3bb3c9008534",
   "metadata": {
    "id": "dc64c4de-fa5c-41fe-8bbe-3bb3c9008534"
   },
   "source": [
    "### Learning price elasticity\n",
    "You want to use different supervised learning techniques to learn price elasticity. You decide on linear regression, SVM, and multilayer perceptrons. However, you have to preprocess the data. Use the features of the neighborhood group, the room type, the number of rooms, and the price to predict the utilization. Split into training and testing data (test size 5%)."
   ]
  },
  {
   "cell_type": "markdown",
   "id": "UjOJNxt_UrQr",
   "metadata": {
    "id": "UjOJNxt_UrQr"
   },
   "source": [
    "Prepare the data set by splitting, one-hot encoding, and normalizing."
   ]
  },
  {
   "cell_type": "code",
   "execution_count": null,
   "id": "7522c215",
   "metadata": {
    "id": "ly3THPi7PdLJ"
   },
   "outputs": [],
   "source": [
    "# Your answer goes here\n",
    "# One hot encoding\n",
    "df = pd.get_dummies(df_util)\n",
    "# Split to X (features) and y (target)\n",
    "# id should be left out\n",
    "X, y = df[set(df.columns) - set(['utilization', 'id'])], df['utilization']\n",
    "# IMPORTANT: Make sure column orders of X stays the same\n",
    "X = X[sorted(X.columns)]\n",
    "# Train test split with skrt skrt learn\n",
    "from sklearn.model_selection import train_test_split\n",
    "X_train_un, X_test_un, y_train, y_test = train_test_split(X, y, test_size=0.05, random_state=RANDOM_SEED)\n",
    "# Normalization\n",
    "from sklearn.preprocessing import MinMaxScaler\n",
    "scaler_train = MinMaxScaler()\n",
    "scaler_test = MinMaxScaler()\n",
    "X_train = scaler_train.fit_transform(X_train_un)\n",
    "X_test = scaler_test.fit_transform(X_test_un)"
   ]
  },
  {
   "cell_type": "markdown",
   "id": "JEKOoD10VF9y",
   "metadata": {
    "id": "JEKOoD10VF9y"
   },
   "source": [
    "For each technique, use 5-cross-fold validation and assess the performance on the test set. "
   ]
  },
  {
   "cell_type": "code",
   "execution_count": null,
   "id": "b09d8725",
   "metadata": {},
   "outputs": [],
   "source": [
    "# Legacy code implementing GridSearchCV that we will keep for fun :-)\n",
    "\n",
    "# Helper to select best parameters for a classifier by \n",
    "# doing a grid search over specified params candidates.\n",
    "# For each param set, perform k-cross-fold and\n",
    "# then selecting the best param set by cross val score\n",
    "# import sys\n",
    "# from sklearn.model_selection import cross_val_score\n",
    "# def param_selection(classifier, param_sets, X, y, k=5):\n",
    "#     print(f\"Selecting best parameters for {classifier.__name__}\")\n",
    "#     param_keys = [] # Storing all keys in param_sets \n",
    "#     param_lens = [] # Storing all indices of corresponding param key\n",
    "#     for key, val in param_sets.items():\n",
    "#         param_keys.append(key)\n",
    "#         param_lens.append(tuple(range(len(val))))\n",
    "#     import itertools\n",
    "#     indices = list(itertools.product(*param_lens)) # All possible indices over param_sets\n",
    "#     best_score = -sys.maxsize\n",
    "#     best_candidate = None\n",
    "#     for index in indices:\n",
    "#         candidate = dict() # From the index, calculate current candidate\n",
    "#         for i in range(len(index)):\n",
    "#             candidate[param_keys[i]] = param_sets[param_keys[i]][index[i]]\n",
    "#         print(f\"Current candidate: {candidate}\")\n",
    "#         scores = cross_val_score(classifier(**candidate), X, y, scoring='neg_mean_absolute_error', cv=k, verbose=3, n_jobs=-1)\n",
    "#         avg_score = np.mean(scores) # Take average of the k-cross-fold scores\n",
    "#         print(f\"Candidate score: {avg_score}\")\n",
    "#         if avg_score > best_score:\n",
    "#             best_score = avg_score\n",
    "#             best_candidate = candidate\n",
    "#     print(f\"Best candidate: {best_candidate}\")\n",
    "#     return candidate"
   ]
  },
  {
   "cell_type": "markdown",
   "id": "c24bef91-6a16-4b09-a0e7-3069a687ed07",
   "metadata": {
    "id": "c24bef91-6a16-4b09-a0e7-3069a687ed07"
   },
   "source": [
    "#### Regression"
   ]
  },
  {
   "cell_type": "markdown",
   "id": "jK-Rpzm2kBEu",
   "metadata": {
    "id": "jK-Rpzm2kBEu"
   },
   "source": [
    "Learn a linear regression to predict the utilization of an AirBnB."
   ]
  },
  {
   "cell_type": "code",
   "execution_count": null,
   "id": "37d648e1",
   "metadata": {
    "id": "ly3THPi7PdLJ"
   },
   "outputs": [],
   "source": [
    "# Your answer goes here\n",
    "# Selecting best parameters, for linear regression there are not many choices\n",
    "from sklearn.linear_model import LinearRegression\n",
    "from sklearn.model_selection import GridSearchCV\n",
    "import sklearn\n",
    "params_linreg = {\n",
    "    'n_jobs': [-1]\n",
    "}\n",
    "linreg_gscv = GridSearchCV(LinearRegression(), params_linreg, scoring='neg_mean_absolute_error', cv=5, verbose=3)\n",
    "linreg_gscv.fit(X_train, y_train)\n",
    "best_params_linreg = linreg_gscv.best_params_\n",
    "best_params_linreg"
   ]
  },
  {
   "cell_type": "code",
   "execution_count": null,
   "id": "2bd9e7f2",
   "metadata": {},
   "outputs": [],
   "source": [
    "# Train a linear regression model\n",
    "linreg = LinearRegression(**best_params_linreg)\n",
    "linreg.fit(X_train, y_train)\n",
    "# Predict for test data\n",
    "y_pred_linreg = linreg.predict(X_test)"
   ]
  },
  {
   "cell_type": "markdown",
   "id": "KXaCxzVRkQT9",
   "metadata": {
    "id": "KXaCxzVRkQT9"
   },
   "source": [
    "What is the mean absolute error achieved on the test data?"
   ]
  },
  {
   "cell_type": "code",
   "execution_count": null,
   "id": "f11f7bf2",
   "metadata": {
    "id": "ly3THPi7PdLJ"
   },
   "outputs": [],
   "source": [
    "# Your answer goes here\n",
    "from sklearn.metrics import mean_absolute_error\n",
    "mae_linreg = mean_absolute_error(y_test, y_pred_linreg)\n",
    "print(f\"The mean absolute error achieved by linear regression on test data is {mae_linreg}\")"
   ]
  },
  {
   "cell_type": "markdown",
   "id": "Qod_TrT-kW8H",
   "metadata": {
    "id": "Qod_TrT-kW8H"
   },
   "source": [
    "Show (draw!) the price elasticity for your apartment. "
   ]
  },
  {
   "cell_type": "markdown",
   "id": "0661112e",
   "metadata": {},
   "source": [
    "Comments from group 420: \"Our\" apartment has 2 rooms and is located in Manhattan neighborhood. Based on the question, its appropriate room type would be entire home/apt. To draw the price elasticity, we create a dataset where every data point has an encoding representing a 2-room Manhattan apartment and the price ranges from 50 to 1200 (min to max price). This data set then goes through normalization and can be used to plot price elasticity."
   ]
  },
  {
   "cell_type": "code",
   "execution_count": null,
   "id": "8c7a1634",
   "metadata": {},
   "outputs": [],
   "source": [
    "# We first see the unnormalized data to understand how categorical attributes are encoded\n",
    "X_train_un"
   ]
  },
  {
   "cell_type": "code",
   "execution_count": null,
   "id": "b0039670",
   "metadata": {},
   "outputs": [],
   "source": [
    "# From this, an unnormalized encoding of our apartment would be\n",
    "# [0, 0, 1, 0, 0, 2, price, 1, 0, 0, 0]\n",
    "# We now implement this encoding in a dataset X_our\n",
    "prices = np.arange(50, 1201, 1)\n",
    "X_our = np.zeros((1151, 11))\n",
    "X_our[:,6] = (prices-np.min(prices))/(np.max(prices)-np.min(prices)) # Manual normalization for price\n",
    "X_our[:,2] = 1\n",
    "X_our[:,7] = 1\n",
    "X_our[:,5] = (2-1)/(4-1) # Manual normalization for room\n",
    "X_our[34] # Print an example data point"
   ]
  },
  {
   "cell_type": "code",
   "execution_count": null,
   "id": "5ee85945",
   "metadata": {
    "id": "ly3THPi7PdLJ"
   },
   "outputs": [],
   "source": [
    "# Your answer goes here\n",
    "# Predict utilization based on the linear regression model\n",
    "y_our_linreg = linreg.predict(X_our)\n",
    "plt.plot(prices, y_our_linreg)\n",
    "plt.title(\"Price elasticity based on linear regression\")\n",
    "plt.xlabel(\"price\")\n",
    "plt.ylabel(\"utilization predicted by linear regression\")\n",
    "plt.show()"
   ]
  },
  {
   "cell_type": "markdown",
   "id": "ae77f7d2-4752-49f8-b5e8-5bffda6e64d2",
   "metadata": {
    "id": "ae77f7d2-4752-49f8-b5e8-5bffda6e64d2"
   },
   "source": [
    "#### Linear SVR"
   ]
  },
  {
   "cell_type": "markdown",
   "id": "s0NzpYCzs8y9",
   "metadata": {
    "id": "s0NzpYCzs8y9"
   },
   "source": [
    "Train and evaluate a Linear SVR (Support Vector Regression) model."
   ]
  },
  {
   "cell_type": "code",
   "execution_count": null,
   "id": "385ccf8e",
   "metadata": {
    "id": "ly3THPi7PdLJ"
   },
   "outputs": [],
   "source": [
    "# Your answer goes here\n",
    "# Perform grid search again to find best parameters set\n",
    "from sklearn.svm import LinearSVR\n",
    "params_linsvr = {\n",
    "    'epsilon': [0.0, 0.01, 0.05],\n",
    "    'tol': [1e-4, 1e-5],\n",
    "    'C': [1, 2]\n",
    "}\n",
    "linsvr_gscv = GridSearchCV(LinearSVR(random_state=RANDOM_SEED), params_linsvr, scoring='neg_mean_absolute_error', \n",
    "                           cv=5, verbose=3, n_jobs=-1)\n",
    "linsvr_gscv.fit(X_train, y_train)\n",
    "best_params_linsvr = linsvr_gscv.best_params_\n",
    "best_params_linsvr"
   ]
  },
  {
   "cell_type": "code",
   "execution_count": null,
   "id": "e614cb07",
   "metadata": {},
   "outputs": [],
   "source": [
    "# Train a linear SVR model\n",
    "linsvr = LinearSVR(**best_params_linsvr)\n",
    "linsvr.fit(X_train, y_train)\n",
    "# Predict for test data\n",
    "y_pred_linsvr = linsvr.predict(X_test)"
   ]
  },
  {
   "cell_type": "markdown",
   "id": "YCccX3ZOdiiQ",
   "metadata": {
    "id": "YCccX3ZOdiiQ"
   },
   "source": [
    "What is the mean absolute error achieved on the test data?"
   ]
  },
  {
   "cell_type": "code",
   "execution_count": null,
   "id": "2bbfe034",
   "metadata": {
    "id": "ly3THPi7PdLJ"
   },
   "outputs": [],
   "source": [
    "# Your answer goes here\n",
    "mae_linsvr = mean_absolute_error(y_test, y_pred_linsvr)\n",
    "print(f\"The mean absolute error of linear SVR on test data is {mae_linsvr}\")"
   ]
  },
  {
   "cell_type": "markdown",
   "id": "akKwnMMgdrQX",
   "metadata": {
    "id": "akKwnMMgdrQX"
   },
   "source": [
    "Show (draw!) the price elasticity for your apartment. "
   ]
  },
  {
   "cell_type": "code",
   "execution_count": null,
   "id": "48c2acb0",
   "metadata": {
    "id": "ly3THPi7PdLJ"
   },
   "outputs": [],
   "source": [
    "# Your answer goes here\n",
    "# Predict utilization based on the linear SVR model\n",
    "y_our_linsvr = linsvr.predict(X_our)\n",
    "plt.plot(prices, y_our_linsvr)\n",
    "plt.title(\"Price elasticity based on linear SVR\")\n",
    "plt.xlabel(\"price\")\n",
    "plt.ylabel(\"utilization predicted by linear SVR\")\n",
    "plt.show()"
   ]
  },
  {
   "cell_type": "markdown",
   "id": "d9737709-05dc-43e3-ad50-34d0bd89606c",
   "metadata": {},
   "source": [
    "#### Learning Non-Linear Relationships"
   ]
  },
  {
   "cell_type": "markdown",
   "id": "c50c7b78-3bf4-40cd-a8ca-1b6ca399df9f",
   "metadata": {},
   "source": [
    "You realize that learning linear relationships only provides limited performance. You want to learn non-linear relationships. First, you will learn non-linear relationships using linear regression and kernels. Second, you will use non-linear kernels in the Support Vector Regression. Third, you will use neural networks."
   ]
  },
  {
   "cell_type": "markdown",
   "id": "3f6422fa-115f-441e-a3bc-abdea38f4b25",
   "metadata": {},
   "source": [
    "#### Kernels in Regression"
   ]
  },
  {
   "cell_type": "markdown",
   "id": "e016dd91-0b6d-47d6-bf86-7485b3cd623c",
   "metadata": {},
   "source": [
    "Use a transformation of the price and a regression to incorporate non-linear relationships, as learned in the lecture. You can try different kernel functions, but at least you should use one quadratic kernel."
   ]
  },
  {
   "cell_type": "code",
   "execution_count": null,
   "id": "02440e18-d727-4fb2-a8e5-aa3d0b79d58d",
   "metadata": {},
   "outputs": [],
   "source": [
    "# Your answer goes here\n",
    "# Prepare training set by adding kernel for price\n",
    "X2 = X.copy() # Prepare another df for this task\n",
    "X2['price^2'] = X2['price'].apply(lambda x: x**2) # quadratic kernel for price\n",
    "X2['price^3'] = X2['price'].apply(lambda x: x**3) # cubic kernel for price\n",
    "# Load the same indices of train and test set\n",
    "X2_train_un = X2.loc[X_train_un.index]\n",
    "X2_test_un = X2.loc[X_test_un.index]\n",
    "# Normalizarion\n",
    "scaler_train2 = MinMaxScaler()\n",
    "scaler_test2 = MinMaxScaler()\n",
    "X2_train = scaler_train2.fit_transform(X2_train_un)\n",
    "X2_test = scaler_test2.fit_transform(X2_test_un)"
   ]
  },
  {
   "cell_type": "code",
   "execution_count": null,
   "id": "786bd1ac",
   "metadata": {},
   "outputs": [],
   "source": [
    "# Run GridSearchCV (for formality)\n",
    "params_linreg_kern = {\n",
    "    'n_jobs': [-1]\n",
    "}\n",
    "linreg_kern_gscv = GridSearchCV(LinearRegression(), params_linreg_kern, scoring='neg_mean_absolute_error',\n",
    "                                cv=5, verbose=3, n_jobs=-1)\n",
    "linreg_kern_gscv.fit(X2_train, y_train)\n",
    "best_params_linreg_kern = linreg_kern_gscv.best_params_"
   ]
  },
  {
   "cell_type": "code",
   "execution_count": null,
   "id": "e46ef8d4",
   "metadata": {},
   "outputs": [],
   "source": [
    "# Train linear regression on kernel-ed data\n",
    "linreg_kern = LinearRegression(**best_params_linreg_kern)\n",
    "linreg_kern.fit(X2_train, y_train)\n",
    "# Make predictions\n",
    "y_pred_linreg_kern = linreg_kern.predict(X2_test)"
   ]
  },
  {
   "cell_type": "markdown",
   "id": "2e28b4fb-b9f2-4408-983a-1053034003bc",
   "metadata": {},
   "source": [
    "What is the mean absolute error achieved on the test data?"
   ]
  },
  {
   "cell_type": "code",
   "execution_count": null,
   "id": "f0e3ca24-6c5e-40c2-ad2d-e9d09670f573",
   "metadata": {},
   "outputs": [],
   "source": [
    "# Your answer goes here\n",
    "mae_linreg_kern = mean_absolute_error(y_test, y_pred_linreg_kern)\n",
    "print(f\"The mean absolute error of linear regression with quadratic and cubic kernels on test data is {mae_linreg_kern}\")"
   ]
  },
  {
   "cell_type": "markdown",
   "id": "dca155df-d2e2-4d0e-b8d0-db8e780828aa",
   "metadata": {},
   "source": [
    "Show (draw!) the price elasticity for your apartment. "
   ]
  },
  {
   "cell_type": "code",
   "execution_count": null,
   "id": "d462859b-ae69-4799-bbb3-42ba65609b90",
   "metadata": {},
   "outputs": [],
   "source": [
    "# Your answer goes here\n",
    "# Adding normalized quadratic and cubic prices to X_our\n",
    "prices2 = prices**2\n",
    "prices3 = prices**3\n",
    "prices2 = (prices2-np.min(prices2))/(np.max(prices2)-np.min(prices2)) # Manual normalization, again :)\n",
    "prices3 = (prices3-np.min(prices3))/(np.max(prices3)-np.min(prices3))\n",
    "X2_our = np.hstack([X_our, np.expand_dims(prices, 1), np.expand_dims(prices3, 1)]) # Our apartment dataset with poly kernels\n",
    "y_our_linreg_kern = linreg_kern.predict(X2_our) # Predictions made by kernelized linear regression\n",
    "plt.plot(prices2, y_our_linreg)\n",
    "plt.title(\"Price elasticity based on kernelized linear regression\")\n",
    "plt.xlabel(\"price\")\n",
    "plt.ylabel(\"utilization predicted by \\n kernelized linear regression\")\n",
    "plt.show()"
   ]
  },
  {
   "cell_type": "markdown",
   "id": "39ad54ac-0056-4204-bae4-f4098e5f1175",
   "metadata": {
    "id": "ae77f7d2-4752-49f8-b5e8-5bffda6e64d2"
   },
   "source": [
    "#### Kernels in SVR"
   ]
  },
  {
   "cell_type": "markdown",
   "id": "61e205a3-ed09-4dfd-9d38-95cf7ef048e5",
   "metadata": {
    "id": "s0NzpYCzs8y9"
   },
   "source": [
    "Train and evaluate an SVR (Support Vector Regression) model with different, non-linear kernels. You can limit the size of your training set to 25000 samples to make the problem feasible in computation time."
   ]
  },
  {
   "cell_type": "code",
   "execution_count": null,
   "id": "8fc03286-feeb-413e-8389-fede8fe8d11a",
   "metadata": {
    "id": "ly3THPi7PdLJ"
   },
   "outputs": [],
   "source": [
    "# Your answer goes here\n",
    "# Perform grid search again to find best parameters set\n",
    "from sklearn.svm import SVR\n",
    "params_svr_kern = {\n",
    "    'kernel': ['rbf', 'sigmoid', 'poly'],\n",
    "    'epsilon': [0.1],\n",
    "    'tol': [1e-3],\n",
    "    'C': [1]\n",
    "}\n",
    "svr_kern_gscv = GridSearchCV(SVR(), params_svr_kern, scoring='neg_mean_absolute_error', \n",
    "                             cv=5, verbose=3, n_jobs=-1)\n",
    "svr_kern_gscv.fit(X_train[:25000], y_train[:25000])\n",
    "best_params_svr_kern = svr_kern_gscv.best_params_\n",
    "best_params_svr_kern"
   ]
  },
  {
   "cell_type": "code",
   "execution_count": null,
   "id": "566e2365",
   "metadata": {},
   "outputs": [],
   "source": [
    "# Train a kernelized SVR model\n",
    "svr_kern = SVR(**best_params_svr_kern)\n",
    "svr_kern.fit(X_train[:25000], y_train[:25000])\n",
    "# Predict for test data\n",
    "y_pred_svr_kern = svr_kern.predict(X_test)"
   ]
  },
  {
   "cell_type": "markdown",
   "id": "53fb862b-97c2-42fa-9f44-f58cdbb95cba",
   "metadata": {
    "id": "YCccX3ZOdiiQ"
   },
   "source": [
    "What is the mean absolute error achieved on the test data?"
   ]
  },
  {
   "cell_type": "code",
   "execution_count": null,
   "id": "05343b84-1597-41b7-b7b6-4fa7bc5e7e82",
   "metadata": {
    "id": "ly3THPi7PdLJ"
   },
   "outputs": [],
   "source": [
    "# Your answer goes here\n",
    "mae_svr_kern = mean_absolute_error(y_test, y_pred_svr_kern)\n",
    "print(f\"The mean absolute error of kernelized SVR on test data is {mae_svr_kern}\")"
   ]
  },
  {
   "cell_type": "markdown",
   "id": "3f9f3d21-40ab-4aa5-9b0b-e40e7fcc00e8",
   "metadata": {
    "id": "akKwnMMgdrQX"
   },
   "source": [
    "Show (draw!) the price elasticity for your apartment. "
   ]
  },
  {
   "cell_type": "code",
   "execution_count": null,
   "id": "42c2da55-efb6-410a-8c37-56bf4abaf043",
   "metadata": {
    "id": "ly3THPi7PdLJ"
   },
   "outputs": [],
   "source": [
    "# Your answer goes here\n",
    "y_our_svr_kern = svr_kern.predict(X_our)\n",
    "plt.plot(prices, y_our_svr_kern)\n",
    "plt.title(\"Price elasticity based on kernelized SVR\")\n",
    "plt.xlabel(\"price\")\n",
    "plt.ylabel(\"utilization predicted by kernelized SVR\")\n",
    "plt.show()"
   ]
  },
  {
   "cell_type": "markdown",
   "id": "d43359b3-a2a4-4cda-90a8-0f66b04aa3fb",
   "metadata": {},
   "source": [
    "What is your conclusion on using kernels?"
   ]
  },
  {
   "cell_type": "markdown",
   "id": "a01dafcb-ce55-453c-a158-a46ab8bbfd1e",
   "metadata": {},
   "source": [
    "_Answer:_ In both the cases of linear regression and SVR, we see that the mean absolute error loss has improved with the use of kernels, especially for linear regression. Hence, using kernels improve the performance of the regressor.\n",
    "\n"
   ]
  },
  {
   "cell_type": "markdown",
   "id": "39ea35b3-b236-429d-81cb-17fd6877aed4",
   "metadata": {
    "id": "39ea35b3-b236-429d-81cb-17fd6877aed4"
   },
   "source": [
    "#### Neural Network"
   ]
  },
  {
   "cell_type": "markdown",
   "id": "79IHOFdbkmN-",
   "metadata": {
    "id": "79IHOFdbkmN-"
   },
   "source": [
    "Learn a neural network (multilayer perceptron) to predict the utilization of an AirBnB."
   ]
  },
  {
   "cell_type": "code",
   "execution_count": null,
   "id": "d963fd7e",
   "metadata": {
    "id": "ly3THPi7PdLJ"
   },
   "outputs": [],
   "source": [
    "# Your answer goes here\n",
    "# Find best params for NN\n",
    "from sklearn.neural_network import MLPRegressor\n",
    "params_nn = {\n",
    "    'hidden_layer_sizes': [20, 30],\n",
    "    'activation': ['identity', 'tanh', 'relu'],\n",
    "    'solver': ['sgd', 'adam'],\n",
    "    'learning_rate': ['constant', 'adaptive']\n",
    "}\n",
    "nn_gscv = GridSearchCV(MLPRegressor(), params_nn, scoring='neg_mean_absolute_error', \n",
    "                       cv=5, verbose=3, n_jobs=-1)\n",
    "nn_gscv.fit(X_train, y_train)\n",
    "best_params_nn = nn_gscv.best_params_\n",
    "best_params_nn"
   ]
  },
  {
   "cell_type": "code",
   "execution_count": null,
   "id": "088b7050",
   "metadata": {},
   "outputs": [],
   "source": [
    "# Train a neural network with the best paramters found\n",
    "nn = MLPRegressor(**best_params_nn)\n",
    "nn.fit(X_train, y_train)\n",
    "# Predict for test data\n",
    "y_pred_nn = nn.predict(X_test)"
   ]
  },
  {
   "cell_type": "markdown",
   "id": "NEh_vR3gkyZG",
   "metadata": {
    "id": "NEh_vR3gkyZG"
   },
   "source": [
    "What is the mean absolute error achieved on the test data?"
   ]
  },
  {
   "cell_type": "code",
   "execution_count": null,
   "id": "3660d9c1",
   "metadata": {
    "id": "ly3THPi7PdLJ"
   },
   "outputs": [],
   "source": [
    "# Your answer goes here\n",
    "mae_nn = mean_absolute_error(y_test, y_pred_nn)\n",
    "print(f\"The mean absolute error of neural network on test data is {mae_nn}\")"
   ]
  },
  {
   "cell_type": "markdown",
   "id": "PUwlWri4kzze",
   "metadata": {
    "id": "PUwlWri4kzze"
   },
   "source": [
    "Show (draw!) the price elasticity for your apartment. "
   ]
  },
  {
   "cell_type": "code",
   "execution_count": null,
   "id": "9d42d222",
   "metadata": {
    "id": "ly3THPi7PdLJ"
   },
   "outputs": [],
   "source": [
    "# Your answer goes here\n",
    "y_our_nn = nn.predict(X_our)\n",
    "plt.plot(prices, y_our_nn)\n",
    "plt.title(\"Price elasticity based on neural network\")\n",
    "plt.xlabel(\"price\")\n",
    "plt.ylabel(\"utilization predicted by neural network\")\n",
    "plt.show()"
   ]
  },
  {
   "cell_type": "markdown",
   "id": "7e9c469a-9ef3-45b5-a225-ff4109086d16",
   "metadata": {
    "id": "7e9c469a-9ef3-45b5-a225-ff4109086d16"
   },
   "source": [
    "### Profit discrepencies when incorporating price elasticity"
   ]
  },
  {
   "cell_type": "markdown",
   "id": "OmfvMMkWk-Dt",
   "metadata": {
    "id": "OmfvMMkWk-Dt"
   },
   "source": [
    "Use the model that best captures price elasticity on the testing set. You can assume that this model accurately captures price elasticity, i.e., is the ground truth. What is the better of the two proposed prices? Is the better price the optimal price?"
   ]
  },
  {
   "cell_type": "code",
   "execution_count": null,
   "id": "d0b855ae",
   "metadata": {
    "id": "ly3THPi7PdLJ"
   },
   "outputs": [],
   "source": [
    "# Your answer goes here\n"
   ]
  },
  {
   "cell_type": "markdown",
   "id": "4878657a",
   "metadata": {},
   "source": [
    "_Answer:_\n",
    "\n"
   ]
  },
  {
   "cell_type": "markdown",
   "id": "8827d79d-7f99-4e6c-af6c-9ba7ff7509bc",
   "metadata": {
    "id": "8827d79d-7f99-4e6c-af6c-9ba7ff7509bc"
   },
   "source": [
    "# Question 4: Conclusion"
   ]
  },
  {
   "cell_type": "markdown",
   "id": "38a971e0-7b6b-414f-a845-5379cd705838",
   "metadata": {
    "id": "38a971e0-7b6b-414f-a845-5379cd705838"
   },
   "source": [
    "Summarize your findings and discuss limitations."
   ]
  },
  {
   "cell_type": "markdown",
   "id": "d5c1c314",
   "metadata": {},
   "source": [
    "_Answer:_ \n",
    "\n"
   ]
  }
 ],
 "metadata": {
  "colab": {
   "collapsed_sections": [],
   "provenance": []
  },
  "kernelspec": {
   "display_name": "Python 3 (ipykernel)",
   "language": "python",
   "name": "python3"
  },
  "language_info": {
   "codemirror_mode": {
    "name": "ipython",
    "version": 3
   },
   "file_extension": ".py",
   "mimetype": "text/x-python",
   "name": "python",
   "nbconvert_exporter": "python",
   "pygments_lexer": "ipython3",
   "version": "3.9.7"
  }
 },
 "nbformat": 4,
 "nbformat_minor": 5
}
